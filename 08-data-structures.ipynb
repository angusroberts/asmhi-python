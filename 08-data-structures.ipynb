{
 "cells": [
  {
   "cell_type": "markdown",
   "metadata": {},
   "source": [
    "# 7PAVITPR: Introduction to Statistical Programming\n",
    "# Python practical 8\n",
    "\n",
    "_Angus Roberts<br/>\n",
    "Department of Biostatistics and Health Informatics<br/>\n",
    "Institute of Psychiatry, Psychology and Neuroscience<br/>\n",
    "King's College London<br/>_"
   ]
  },
  {
   "cell_type": "markdown",
   "metadata": {},
   "source": [
    "# Data structures: list comprehensions, sets, dictionaries"
   ]
  },
  {
   "cell_type": "markdown",
   "metadata": {},
   "source": [
    "### List comprehensions\n",
    "\n",
    "We often want to compute one list from the values in others. So far, we have done this with `for` loops. For example, try this code, which creates a list of weights in kg from a list of weights in lbs:\n"
   ]
  },
  {
   "cell_type": "code",
   "execution_count": null,
   "metadata": {},
   "outputs": [],
   "source": [
    "w_lbs = [120, 256, 145, 190, 173, 201]\n",
    "w_kgs = []\n",
    "\n",
    "for x in w_lbs:\n",
    "    w_kgs.append(round(x/2.2,1))\n",
    "    \n",
    "print(w_kgs)\n",
    "    "
   ]
  },
  {
   "cell_type": "markdown",
   "metadata": {},
   "source": [
    "__List comprehensions__ are a syntactic shortcut for this. Here is the above example, written as a list comprehension - try it:"
   ]
  },
  {
   "cell_type": "code",
   "execution_count": null,
   "metadata": {},
   "outputs": [],
   "source": [
    "w_kgs = [round(x / 2.2, 2) for x in w_lbs]\n",
    "print(w_kgs)"
   ]
  },
  {
   "cell_type": "markdown",
   "metadata": {},
   "source": [
    "The list comprehension, on the second line, has the following parts:\n",
    "\n",
    "- an assignment - the resulting list is being assigned to something, a new list w_kgs in our example\n",
    "- `[`\n",
    "- _expression_ written in terms of some variable - x in our example. This will be computed and appended to the list\n",
    "- `for`\n",
    "- _variable_ - x in our example\n",
    "- `in`\n",
    "- _sequence_ that will be iterated over to provide values for the variable\n",
    "- `]`\n",
    "\n",
    "List comprehensions can have more than variabale in their initial expression, and more than one `for` in them, and also conditional `if` clauses. You can imagine each `for` or `if` statement being indented on the line below the previous one, and a final `append()` being indented at the end.\n",
    "\n",
    "For example, try this code:\n"
   ]
  },
  {
   "cell_type": "code",
   "execution_count": null,
   "metadata": {},
   "outputs": [],
   "source": [
    "# Print all possible two base pairs, where the bases are not the same\n",
    "\n",
    "bases = ['C', 'T', 'G', 'A']\n",
    "\n",
    "combinations = [x+y for x in bases for y in bases if x != y]\n",
    "\n",
    "print( combinations )"
   ]
  },
  {
   "cell_type": "markdown",
   "metadata": {},
   "source": [
    "## <font color=green>💬 Discussion point</font>\n",
    "\n",
    "Can you explain in words what the above list comprehension is doing?\n",
    "\n",
    "\n",
    "It is also possible for list comprehensions to be nested - the initial expression can itself be a list comprehension. These can get hard to understand, and so it is not a bad thing to avoid them! "
   ]
  },
  {
   "cell_type": "markdown",
   "metadata": {},
   "source": [
    "## <font color=green>❓ Question</font>\n",
    "\n",
    "A model takes two parameters:\n",
    "\n",
    "- _t_, which has possible values True and False\n",
    "- _w_, which has possible values 10, 20, 30, 40\n",
    "- _w_ cannot be greater than 20 if _t_ is False\n",
    "\n",
    "Write a list comprehension to compute a list of all possible parameter pairs as tuples, (t, w).\n",
    "\n",
    "- Remember, a tuple is an immutable sequence of the form (x, y)\n",
    "- You will need an `if` at the end, to satisfy the second requirement on _w_. Try using an `or` in its condition\n",
    "- The lists of individual parameters are short, you could include them in comprehension as explicit lists, e.g. `[.... for x in [1, 2, 3]...]` \n",
    "\n",
    "## <font color=green>⌨️ Your answer</font>"
   ]
  },
  {
   "cell_type": "code",
   "execution_count": null,
   "metadata": {},
   "outputs": [],
   "source": [
    "# Complete this code\n",
    "\n",
    "parameters = [ REPLACE ]\n",
    "\n",
    "# Print out the results\n",
    "print( parameters )\n",
    "\n",
    "# Is the result right?\n",
    "print( parameters == [(True, 10), (True, 20), (True, 30), (True, 40), (False, 10), (False, 20)])"
   ]
  },
  {
   "cell_type": "markdown",
   "metadata": {},
   "source": [
    "### Sets\n",
    "\n",
    "Python sets model mathematical sets - unordered collections of objects with no duplication of members.\n",
    "\n",
    "Sets can be made from a sequence, or by enclosing objects in curly braces `{  }`\n",
    "\n",
    "Try the code below:"
   ]
  },
  {
   "cell_type": "code",
   "execution_count": null,
   "metadata": {},
   "outputs": [],
   "source": [
    "# Create a list - note that it contains some duplicates\n",
    "schizo = ['PT145', 'PT766', 'PT901', 'PT773', 'PT274', 'PT274', 'PT274']\n",
    "\n",
    "# Create a set from the list\n",
    "schizo = set(schizo)\n",
    "\n",
    "# Create a set using braces - note that it contains some duplicates\n",
    "diabetes = {'PT145', 'PT766', 'PT901', 'PT872', 'PT634', 'PT634'}\n",
    "\n",
    "# Take a look at the lists - note that there are no duplicates\n",
    "print(schizo)\n",
    "print(diabetes)"
   ]
  },
  {
   "cell_type": "markdown",
   "metadata": {},
   "source": [
    "## <font color=green>❓ Question</font>\n",
    "\n",
    "Sets support several useful operations. Using the sets above, write code to show what these ones do:\n",
    "\n",
    "- member `in` set\n",
    "- set `-` set\n",
    "- set `|` set\n",
    "- set `&` set\n",
    "- set `^` set\n",
    "\n",
    "## <font color=green>⌨️ Your answer</font>"
   ]
  },
  {
   "cell_type": "code",
   "execution_count": null,
   "metadata": {},
   "outputs": [],
   "source": [
    "# Give your answer below"
   ]
  },
  {
   "cell_type": "markdown",
   "metadata": {},
   "source": [
    "## <font color=green>💬 Discussion point</font>\n",
    "\n",
    "- Where can you find documentation for `set`?\n",
    "- What other operators does `set` support?\n",
    "- Why don't sets support slices?\n",
    "- What is the difference between `set` and `frozenset`\n",
    "- Which set operations are not available for `frozenset`, and why not?"
   ]
  },
  {
   "cell_type": "markdown",
   "metadata": {},
   "source": [
    "### Dictionaries\n",
    "\n",
    "- In lists, each value is associated with a positional index - 0, 1, 2, 3 etc.\n",
    "- In dictionaries, the values are also associated with indices\n",
    "- In dictionaries, the indices are known as _keys_\n",
    "- _Keys_ can be any immutable object - they are usually strings or numbers\n",
    "- Dictionaries associate  _keys_ with their _values_\n",
    "- You can think of them as sets of _key=value_ pairs\n",
    "- Each _key_ must be unique, and is associated with a value\n",
    "\n",
    "Below is an example - a dictionary associating patient identifiers with haemoglobin A1C results. It shows how to add, change and retrieve values. Try it:\n"
   ]
  },
  {
   "cell_type": "code",
   "execution_count": null,
   "metadata": {},
   "outputs": [],
   "source": [
    "# Create a dictionary\n",
    "hba1c = {'PT145':4.5, 'PT766':4.2, 'PT901':6.1, 'PT872':4.5, 'PT634':5.1}\n",
    "\n",
    "# Retrieve a value for a key\n",
    "print(hba1c['PT901'])\n",
    "\n",
    "# Change the value for a key\n",
    "hba1c['PT901'] = 8.0\n",
    "print(hba1c['PT901'])\n",
    "\n",
    "# Add a new key/ value pair\n",
    "hba1c['PT999'] = 3.0\n",
    "print(hba1c)"
   ]
  },
  {
   "cell_type": "markdown",
   "metadata": {},
   "source": [
    "## <font color=green>💬 Discussion point</font>\n",
    "\n",
    "There are other ways to construct dictionaries.  Common ones are shown below.\n",
    "\n",
    "- When might the first of these be useful?\n",
    "- When might the second of these be useful?"
   ]
  },
  {
   "cell_type": "code",
   "execution_count": null,
   "metadata": {},
   "outputs": [],
   "source": [
    "# Construct a dictionary from a list of key/value tuples\n",
    "hba1c = dict([('PT145', 4.5), ('PT766', 4.2), ('PT901',6.1)])\n",
    "print(hba1c)\n",
    "\n",
    "# Construct a dictionary from keywords and values\n",
    "hba1c_again = dict(PT145=4.5, PT766=4.2, PT901=6.1)\n",
    "print(hba1c)"
   ]
  },
  {
   "cell_type": "markdown",
   "metadata": {},
   "source": [
    "## <font color=green>💬 Discussion point</font>\n",
    "\n",
    "Below is another way to construct a dictionary. Can you explain what is happening?"
   ]
  },
  {
   "cell_type": "code",
   "execution_count": null,
   "metadata": {},
   "outputs": [],
   "source": [
    "patients = ['PT145', 'PT766', 'PT901']\n",
    "results = [4.5, 4.2 ,6.1]\n",
    "\n",
    "hba1c = {x for x in zip(patients, results)}\n",
    "\n",
    "print(hba1c)"
   ]
  },
  {
   "cell_type": "markdown",
   "metadata": {},
   "source": [
    "\n",
    "So far we have looked at dictionaries with strings as keys, and numbers as values. We can use anything immutable as a key, and we can use any object as a value, e.g.\n",
    "\n",
    "- Dictionaries of lists\n",
    "- Dictionaries of lists of dictionaries\n",
    "- Dictionaries of sets of lists\n",
    "- ...\n",
    "\n",
    "Most of these are unwieldy to handle, and if you think you need them, you should probably learn how to write your own classes in Python (or find a package that does what you want already).\n",
    "\n",
    "We will, however, look at dictionaories of lists, as they are a simple and useful example.\n",
    "\n",
    "## <font color=green>❓ Question</font>\n",
    "\n",
    "A dictionary holds the last three HbA1C results for patients, oldest first. Its construction is shown in the code below.\n",
    "\n",
    "Write code to:\n",
    "\n",
    "- print the second result for PT145, remembering that:\n",
    "  - hba1c[key] will return a list, and\n",
    "  - list[n] will return a value from the list\n",
    "- for patient PT901, remove the oldest result, and add a new result of 5.7 to the end\n",
    "  - pop(n) removes a value from a list\n",
    "- Print how many patients there are in the dictionary\n",
    "    - This is the dictionary's length - look  it up in the Python Standard Library docs if you are unsure\n",
    "- Print out the number of results PT766 has\n",
    "- Test if there are any results for PT564\n",
    "\n",
    "\n",
    "## <font color=green>⌨️ Your answer</font>"
   ]
  },
  {
   "cell_type": "code",
   "execution_count": null,
   "metadata": {},
   "outputs": [],
   "source": [
    "# Complete the code that manipulates the dictionary below,\n",
    "# following the instructions in the comments\n",
    "hba1c = dict(PT145=[4.5,4.5,4.7], PT766=[4.2,4.3,4.4], PT901=[6.1,6.0,5.8])\n",
    "\n",
    "# Print the second result for PT145\n",
    "# YOUR CODE HERE\n",
    "\n",
    "# Remove the oldest result from PT901 and print it\n",
    "# then add a new latest result of 5.7 and print all \n",
    "# the results for this person\n",
    "# YOUR CODE HERE\n",
    "\n",
    "# Print many patients are there in the dictionary\n",
    "# YOUR CODE HERE\n",
    "\n",
    "# Print how many results PT766 has\n",
    "# YOUR CODE HERE\n",
    "\n",
    "# Test if the dictionary has any results for PT564\n",
    "# YOUR CODE HERE\n",
    "\n",
    "\n"
   ]
  }
 ],
 "metadata": {
  "kernelspec": {
   "display_name": "Python 3",
   "language": "python",
   "name": "python3"
  },
  "language_info": {
   "codemirror_mode": {
    "name": "ipython",
    "version": 3
   },
   "file_extension": ".py",
   "mimetype": "text/x-python",
   "name": "python",
   "nbconvert_exporter": "python",
   "pygments_lexer": "ipython3",
   "version": "3.7.3"
  }
 },
 "nbformat": 4,
 "nbformat_minor": 2
}
