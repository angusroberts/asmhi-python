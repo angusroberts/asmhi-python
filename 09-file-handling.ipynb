{
  "nbformat": 4,
  "nbformat_minor": 0,
  "metadata": {
    "kernelspec": {
      "display_name": "Python 3",
      "language": "python",
      "name": "python3"
    },
    "language_info": {
      "codemirror_mode": {
        "name": "ipython",
        "version": 3
      },
      "file_extension": ".py",
      "mimetype": "text/x-python",
      "name": "python",
      "nbconvert_exporter": "python",
      "pygments_lexer": "ipython3",
      "version": "3.7.3"
    },
    "colab": {
      "name": "09-file-handling.ipynb",
      "provenance": []
    }
  },
  "cells": [
    {
      "cell_type": "markdown",
      "metadata": {
        "id": "ksirpKS-S2GM"
      },
      "source": [
        "# 7PAVITPR: Introduction to Statistical Programming\n",
        "# Python practical 9\n",
        "\n",
        "_Angus Roberts<br/>\n",
        "Department of Biostatistics and Health Informatics<br/>\n",
        "Institute of Psychiatry, Psychology and Neuroscience<br/>\n",
        "King's College London<br/>_"
      ]
    },
    {
      "cell_type": "markdown",
      "metadata": {
        "id": "cNoHZ59_S2GN"
      },
      "source": [
        "# Simple file handling\n",
        "\n",
        "__NOTE__ This notebook assumes the files _numbers.txt_ and _hba1c.csv_ are in the same directory as the notebook. If you are using colab, you will need to upload the files to your colab session. If you are using Jupyter Notebook, you will need to make sure the files are in the same directory as the notebook.\n",
        "\n",
        "The Standard Library has built in file handling. We will look at the basics of reading files here. There are lots of Python packages that also incorporate file handling and reading. We will look at one of these later.\n",
        "\n",
        "Below is an example - take a look and run it.\n",
        "\n",
        "\n"
      ]
    },
    {
      "cell_type": "code",
      "metadata": {
        "id": "ayuqZJ1qS2GO"
      },
      "source": [
        "# Open a file, and iterate over its lines, printing them\n",
        "\n",
        "with open('numbers.txt') as file:\n",
        "    for line in file:\n",
        "        print(line.rstrip())\n",
        "    "
      ],
      "execution_count": null,
      "outputs": []
    },
    {
      "cell_type": "markdown",
      "metadata": {
        "id": "Dt-hE0NzS2GT"
      },
      "source": [
        "The are several parts to this:\n",
        "\n",
        "- `with` - keyword indicating a block of code that will be executed as a whole, with any cleaning up handled by Python. For files, this means that the file will be closed cleanly once it is finished with.\n",
        "- `open(filepath)` - opens the file, for reading\n",
        "- `as` - introduces the variable name for the file\n",
        "- __name__ - a name for the file\n",
        "- `:` - next lines are an indented block. Once the block is completed, the file will be closed\n",
        "- `for line in file:` - files are iterable!\n",
        "\n",
        "(Note: It is possible use `open()` without the `with...as...` statement, but you would have to deal with closing the file yourself, and it is not recommended)\n",
        "\n",
        "## <font color=green>💬 Discussion point</font>\n",
        "\n",
        "In the above code, what is `rstrip()` doing? Why is it needed?\n",
        "\n",
        "\n",
        "Files have other methods, for example:"
      ]
    },
    {
      "cell_type": "code",
      "metadata": {
        "id": "HjqumF1lS2GT"
      },
      "source": [
        "# Open a file, read its lines in to a list\n",
        "\n",
        "with open('numbers.txt') as file:\n",
        "    lines = file.readlines()\n",
        "    \n",
        "print(len(lines))\n",
        "        "
      ],
      "execution_count": null,
      "outputs": []
    },
    {
      "cell_type": "markdown",
      "metadata": {
        "id": "Ha4tjMoXS2GV"
      },
      "source": [
        "## <font color=green>💬 Discussion point</font>\n",
        "\n",
        "- The above two pieces of code show different methods for reading lines from a file. How do you think they differ? When might you use one and not the other?\n",
        "- Files also have a method `read()` which reads in the whole file, in to a string for text files. Why might you use this method?\n",
        "\n",
        "\n",
        "## <font color=green>❓ Question</font>\n",
        "\n",
        "The file hba1c.csv, in the same directory as this notebook, contains HbA1C results for 50 patients. Each line has a patient ID followed by a comma followed by a result. For example:\n",
        "\n",
        "- PT1234,5.6\n",
        "\n",
        "which means patient id PT1234 has a HbA1C result of 5.6\n",
        "\n",
        "Create a dictionary mapping each patient ID to their result. Show that your code works by performing some lookups and tests on the dictionary (code provided for this below).\n",
        "\n",
        "(__Hint:__ you will need to partition or split the line at the comma. There are useful methods of string that will help with this.)\n",
        "\n",
        "## <font color=green>⌨️ Your answer</font>"
      ]
    },
    {
      "cell_type": "code",
      "metadata": {
        "id": "Ebq4X0DdS2GW"
      },
      "source": [
        "# Write your answer here\n",
        "\n",
        "# Create an empty dictionary to hold your results\n",
        "hba1c = dict()\n",
        "\n",
        "# Open the file, using \"with\" \n",
        "with open('hba1c.csv') as file:\n",
        "    lines = file.readlines()\n",
        "    \n",
        "# Iterate over the lines, putting the contents in the dictionary\n",
        "# Don't forget to remove newlines,\n",
        "# and to convert the string results to floats\n",
        "for l in lines:\n",
        "    parts = l.rsplit(',')\n",
        "    hba1c[parts[0]] = float(parts[1])\n",
        "             \n",
        "# Some tests - these should all print True\n",
        "print( True == (len(hba1c) == 50) )\n",
        "print( True == (hba1c['pt1252'] == 7.68) )\n",
        "print( True == (hba1c['pt1273'] == 3.47) )\n",
        "    \n",
        "    \n",
        "\n"
      ],
      "execution_count": null,
      "outputs": []
    }
  ]
}