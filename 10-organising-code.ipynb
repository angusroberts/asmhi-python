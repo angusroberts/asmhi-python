{
  "nbformat": 4,
  "nbformat_minor": 0,
  "metadata": {
    "kernelspec": {
      "display_name": "Python 3",
      "language": "python",
      "name": "python3"
    },
    "language_info": {
      "codemirror_mode": {
        "name": "ipython",
        "version": 3
      },
      "file_extension": ".py",
      "mimetype": "text/x-python",
      "name": "python",
      "nbconvert_exporter": "python",
      "pygments_lexer": "ipython3",
      "version": "3.7.3"
    },
    "colab": {
      "name": "10-organising-code.ipynb",
      "provenance": []
    }
  },
  "cells": [
    {
      "cell_type": "markdown",
      "metadata": {
        "id": "KeaLXhXReURU"
      },
      "source": [
        "# 7PAVITPR: Introduction to Statistical Programming\n",
        "# Python practical 10\n",
        "_Angus Roberts<br/>\n",
        "Department of Biostatistics and Health Informatics<br/>\n",
        "Institute of Psychiatry, Psychology and Neuroscience<br/>\n",
        "King's College London<br/>_"
      ]
    },
    {
      "cell_type": "markdown",
      "metadata": {
        "id": "_3kcUjPGeURV"
      },
      "source": [
        "# Organising code - modules\n",
        "\n",
        "__NOTE__ This notebook assumes the file _scores.zip_ is in the same directory as the notebook. If you are using colab, you will need to upload the file to your colab session. If you are using Jupyter Notebook, you will need to make sure the file is in the same directory as the notebook.\n",
        "\n",
        "Python code can be organised and structured in various ways, to help make your code more relevant, reuseable, readable and maintainable.\n",
        "\n",
        "- __Functions__ We have already looked at functions\n",
        "- __Classes__ We have mentioned classes, but will not cover them further\n",
        "- __Scripts__ A script is a file of code (functions, definitions, commands) to execute. \n",
        "  - Python scripts are usually named with the a __.py__ suffix, e.g. __my_script.py__\n",
        "  - They can be run from your command prompt, typing `python my_script.py`\n",
        "  - The code we have been writing in Jupyter is also a script, interspersed with blocks of text.\n",
        "- __Modules__ A module is a file that contains function and class definitions and other code, organising them in to a single unit, that can be accessed by scripts (and other modules)\n",
        "  - Module files are named with a __.py__ suffix\n",
        "  - Modules are the fundamental organisational unit for code sharing in Python\n",
        "- __Packages__ A package is a collection of related modules, organised in to a hierarchical directory structure\n",
        "\n",
        "Modules and packages can also be organised in to libraries. There is no formal definition of a library in Python, but it is used informally to describe a collection of modules and packages. The Python Standard Library is those modules that are part of the core Python distribution.\n",
        "\n"
      ]
    },
    {
      "cell_type": "markdown",
      "metadata": {
        "id": "3N0aN_myeURW"
      },
      "source": [
        "### Using modules\n",
        "\n",
        "Up to now, we have only used functionality that is loaded when you run a Python script - it is built-in and always available to scripts. If we want to use functinality defined in a module, then we first need to load, or _import_ that module in to our script.\n",
        "\n",
        "Take a look at the code below. Run it several times:"
      ]
    },
    {
      "cell_type": "code",
      "metadata": {
        "id": "YJtEAdcZeURW"
      },
      "source": [
        "# Import the random module and do some random things\n",
        "import random\n",
        "\n",
        "print( random.random() )\n",
        "print( random.randrange(10, 100, 10) )\n",
        "print( random.choice([\"heart\", \"club\", \"spade\", \"diamond\"]) )"
      ],
      "execution_count": null,
      "outputs": []
    },
    {
      "cell_type": "markdown",
      "metadata": {
        "id": "GdHCeY7EeURZ"
      },
      "source": [
        "- The `import` statement makes the `random` module and all of the objects defined by it available to your script.\n",
        "- `import` statements are most usefully placed at the top of your script, making it easy to read what modules you have used\n",
        "\n",
        "The [random module](https://docs.python.org/3.7/library/random.html#module-random) is a module from the Standard Library. Take a look at the documentation.\n",
        "\n",
        "\n",
        "Import statements can be made even clearer by explicitly  mentioning the objects in a module that we want to import. The code below shows this, read it and run it:"
      ]
    },
    {
      "cell_type": "code",
      "metadata": {
        "id": "on20vDNieURa"
      },
      "source": [
        "# import some methods and constants from the math module\n",
        "from math import pi, log10, sqrt\n",
        "\n",
        "print(pi)\n",
        "\n",
        "print(log10(100))\n",
        "\n",
        "print(sqrt(64))\n"
      ],
      "execution_count": null,
      "outputs": []
    },
    {
      "cell_type": "markdown",
      "metadata": {
        "id": "aS6gO2yheURc"
      },
      "source": [
        "Here, we have imported three specific methods of the [math module](https://docs.python.org/3.7/library/math.html#module-math). Take a look at the documentation.\n",
        "\n",
        "It is also possible to provide names for the imported objects, using the `as` keyword. This is shown below, for two modules:"
      ]
    },
    {
      "cell_type": "code",
      "metadata": {
        "id": "b_-hub9weURc"
      },
      "source": [
        "import os as sys\n",
        "from getpass import getuser as user\n",
        "\n",
        "print( sys.getcwd() )\n",
        "\n",
        "print( user() )\n"
      ],
      "execution_count": null,
      "outputs": []
    },
    {
      "cell_type": "markdown",
      "metadata": {
        "id": "BZ2mipLVeURe"
      },
      "source": [
        "## <font color=green>💬 Discussion point</font>\n",
        "Describe the purpose of the two modules used in the above example?\n",
        "\n",
        "\n",
        "## <font color=green>💬 Discussion point</font>\n",
        "\n",
        "Why are there different ways to import? Is any one better than the others?"
      ]
    },
    {
      "cell_type": "markdown",
      "metadata": {
        "id": "XEBCroqVeURe"
      },
      "source": [
        "## A module example: using the standard library\n",
        "\n",
        "We have looked at a couple of the standard library modules above.\n",
        "\n",
        "Take a look at the full list of standard library modules in the [documentation](https://docs.python.org/3/library/#the-python-standard-library) - they are listed in the contents, after the built-in descriptions.\n",
        "\n",
        "## <font color=green>💬 Discussion point</font>\n",
        "\n",
        "Which ones look useful or interesting to you? Are there things you would have hoped to see?\n",
        "\n",
        "\n",
        "## <font color=green>❓ Question</font>\n",
        "\n",
        "The file scores.zip, in the same directory as this notebook, contains several files. Each of these files contains several scores, one score per line.\n",
        "\n",
        "Using two modules from the Standard Library, open the zip file, read the contents of the file, and print out some summary stats for the scores in each file (e.g. mean, median, variance). Do not implement your own calculations for these stats.\n",
        "\n",
        "## <font color=green>⌨️ Your answer</font>\n"
      ]
    },
    {
      "cell_type": "code",
      "metadata": {
        "id": "NrdbYCKEeURf"
      },
      "source": [
        "# Write your answer below. Use the  indentation provided as a hint.\n",
        "\n",
        "# Import the things you need\n",
        "# YOU WRITE THIS\n",
        "\n",
        "# Open the zip file\n",
        "# YOU WRITE THIS\n",
        "    \n",
        "    # Iterate over the names of the files in the zip\n",
        "    # YOU WRITE THIS\n",
        "        \n",
        "        # Open a file from the zip\n",
        "        # YOU WRITE THIS\n",
        "            \n",
        "            # Create a list of scores from the file\n",
        "            # (the file is opened in binary mode:\n",
        "            # you will need to cast the score to a float)\n",
        "            # YOU WRITE THIS\n",
        "            \n",
        "            # print the stats for this file\n",
        "            # YOU WRITE THIS\n",
        "            \n",
        "    \n"
      ],
      "execution_count": null,
      "outputs": []
    },
    {
      "cell_type": "markdown",
      "metadata": {
        "id": "e5LlKPf8eURh"
      },
      "source": [
        "## <font color=green>💬 Discussion point</font>\n",
        "\n",
        "What do you think of the `statistics` module?"
      ]
    }
  ]
}