{
 "cells": [
  {
   "cell_type": "markdown",
   "metadata": {},
   "source": [
    "# 7PAVITPR: Introduction to Statistical Programming\n",
    "# Python practical 3\n",
    "\n",
    "_Angus Roberts<br/>\n",
    "Department of Biostatistics and Health Informatics<br/>\n",
    "Institute of Psychiatry, Psychology and Neuroscience<br/>\n",
    "King's College London<br/>_\n",
    "\n",
    "# Some data types: numbers, strings, and lists\n",
    "\n",
    "So far, we have used examples of textual and numeric data. We will now look at the main Python data types in a little more detail."
   ]
  },
  {
   "cell_type": "markdown",
   "metadata": {},
   "source": [
    "### Numbers and arithmetic\n",
    "\n",
    "- The main numeric types in Python are integers (`int`) and floating point numbers (`float`).\n",
    "- The usual arithmetic operators are supported.\n",
    "\n",
    "## <font color=green>❓ Question</font>\n",
    "- What do you get if you add two integers together? What about a float and an integer? Demonstrate by adding a line to the code below.\n",
    "\n",
    "## <font color=green>⌨️ Your answer</font>"
   ]
  },
  {
   "cell_type": "code",
   "execution_count": null,
   "metadata": {},
   "outputs": [],
   "source": [
    "# Add your answer to this cell:\n",
    "print('int+int\\t\\t', 1+1)\n",
    "print('float*float\\t', 2.7*9.4)"
   ]
  },
  {
   "cell_type": "markdown",
   "metadata": {},
   "source": [
    "## <font color=green>❓ Question</font>\n",
    "\n",
    "Ilustrate what these operators and built-in functions do, with some simple code:\n",
    "- `/`\n",
    "- `//`\n",
    "- `%`\n",
    "- `**`\n",
    "- `divmod(x, y)`\n",
    "- `abs(x)`\n",
    "\n",
    "\n",
    "## <font color=green>⌨️ Your answer</font>"
   ]
  },
  {
   "cell_type": "code",
   "execution_count": null,
   "metadata": {},
   "outputs": [],
   "source": [
    "# Write your answer in this cell:"
   ]
  },
  {
   "cell_type": "markdown",
   "metadata": {},
   "source": [
    "### String\n",
    "\n",
    "\n",
    "The basic type used to represent text is `str`, or *string*. Up to now we have shown text literals in single quotes. You can also create them in double quotes:"
   ]
  },
  {
   "cell_type": "code",
   "execution_count": null,
   "metadata": {},
   "outputs": [],
   "source": [
    "a = 'single quotes'\n",
    "b = \"double quotes\"\n",
    "print(a, b)\n"
   ]
  },
  {
   "cell_type": "markdown",
   "metadata": {},
   "source": [
    "## <font color=green>💬 Discussion point</font>\n",
    "Why might you want to use one form of quotes, and not the other?\n",
    "\n",
    "## <font color=green>❓ Question</font>\n",
    "Write a piece of code to illustrate:\n",
    "- what the *escape sequences* `\\t` and `\\n` do when placed in a text string\n",
    "- What the escape sequence `\\\\` does when placed in a text string? Why do you need this last one?\n",
    "- What effect does putting the letter `r` in front of the string's opening quote mark have on escape sequences (e.g. `r'...'`?\n",
    "- Think of an example of when this might be useful\n",
    "\n",
    "\n",
    "## <font color=green>⌨️ Your answer</font>"
   ]
  },
  {
   "cell_type": "code",
   "execution_count": null,
   "metadata": {},
   "outputs": [],
   "source": [
    "# Write your answer in this cell:"
   ]
  },
  {
   "cell_type": "markdown",
   "metadata": {},
   "source": [
    "**Multi-line string**\n",
    "\n",
    "You can print multi-line strings like this:"
   ]
  },
  {
   "cell_type": "code",
   "execution_count": null,
   "metadata": {},
   "outputs": [],
   "source": [
    "a_big_string = '''\\\n",
    "     This string\n",
    "     spans multiple lines'''\n",
    "print(a_big_string)"
   ]
  },
  {
   "cell_type": "markdown",
   "metadata": {},
   "source": [
    "## <font color=green>💬 Discussion point</font>\n",
    "What do you think the `\\` at the start of the above string does? Is this consistent with the treatment of escape sequences described above?"
   ]
  },
  {
   "cell_type": "markdown",
   "metadata": {},
   "source": [
    "## <font color=green>💬 Discussion point</font>\n",
    "Run the code below. What do you think `len()`, `*`, and `+` do?"
   ]
  },
  {
   "cell_type": "code",
   "execution_count": null,
   "metadata": {},
   "outputs": [],
   "source": [
    "print(len('a'*3+'h'))\n"
   ]
  },
  {
   "cell_type": "markdown",
   "metadata": {},
   "source": [
    "### Slices\n",
    "- Strings are a type of Python *sequence*.\n",
    "- You can use Python to extract parts or *slices* of sequences \n",
    "- You do this with the *bracket operator* `[n]` (also referred to as *subscript notation*)\n",
    "- Appending it to the string literal or string variable, e.g. `'hello'[1]` will return `'e'`\n"
   ]
  },
  {
   "cell_type": "markdown",
   "metadata": {},
   "source": [
    "## <font color=green>❓ Question</font>\n",
    "\n",
    "Create a string variable, and use the bracket operator `[n]` at the end of it, in a print statement. `n` is an integer.\n",
    "\n",
    "- What does a zero value of `n` return?\n",
    "- What is the largest value `n` can take?\n",
    "- What does a negative `n` do?\n",
    "- What does `[n:m]` do, where `n` and `m` are two integers?\n",
    "- What do the `n` and `m` subscripts represent?\n",
    "- What about `[n:]` and `[:n]`?\n",
    "- What does [1:10:2] do?\n",
    "- Can you explain what `some_string[4:] + some_string[:4]` does?\n",
    "\n",
    "## <font color=green>⌨️ Your answer</font>"
   ]
  },
  {
   "cell_type": "code",
   "execution_count": null,
   "metadata": {},
   "outputs": [],
   "source": [
    "# Expand on this code to experiment with subscript notations.\n",
    "# in order to answer the questions above:\n",
    "some_string = 'North face of the Uxbridge Road'\n"
   ]
  },
  {
   "cell_type": "markdown",
   "metadata": {},
   "source": [
    "### Typing and casting\n",
    "\n",
    "- In Python, as in many programming languages, we talk about each piece of data (e.g. variable, literal) having a *type*, which defines how it can be operated on and used by a program.\n",
    "- Strings, integers and floats are examples of types.\n",
    "\n",
    "## <font color=green>💬 Discussion point</font>\n",
    "Python is *dynamically typed*. Take a look at the example below, run the code, and see if you can work out:\n",
    "- What has happened to `some_variable`?\n",
    "- What is the function `type` doing?\n",
    "- What do we mean by *dynamically typed*?\n"
   ]
  },
  {
   "cell_type": "code",
   "execution_count": null,
   "metadata": {},
   "outputs": [],
   "source": [
    "some_variable = 'a string'\n",
    "print(type(some_variable))\n",
    "\n",
    "some_variable = 1\n",
    "print(type(some_variable))\n"
   ]
  },
  {
   "cell_type": "markdown",
   "metadata": {},
   "source": [
    "## <font color=green>💬 Discussion point</font>\n",
    "\n",
    "Take a look at the two pieces of code below, and run them. Both are examples of *casting* variables. Can you explain what is happening in each?\n"
   ]
  },
  {
   "cell_type": "code",
   "execution_count": null,
   "metadata": {},
   "outputs": [],
   "source": [
    "# Casting example 1 - explain what is happening\n",
    "x = '1'\n",
    "y = '4'\n",
    "print(x + y)\n",
    "print(int(x) + int(y))\n",
    "print(float(x) + int(y))\n"
   ]
  },
  {
   "cell_type": "code",
   "execution_count": null,
   "metadata": {},
   "outputs": [],
   "source": [
    "# Casting example 2 - explain what is happening\n",
    "x = 1\n",
    "y = 4\n",
    "print(x + y)\n",
    "print(str(x) + str(y))"
   ]
  },
  {
   "cell_type": "markdown",
   "metadata": {},
   "source": [
    "## <font color=green>❓ Question</font>\n",
    "\n",
    "Using the `input()` and `print()` functions and casting, write a short piece of code that asks the user to input two numbers, and prints the result of summing them.\n",
    "\n",
    "## <font color=green>⌨️ Your answer</font>"
   ]
  },
  {
   "cell_type": "code",
   "execution_count": null,
   "metadata": {},
   "outputs": [],
   "source": [
    "# Write your answer in this cell:"
   ]
  },
  {
   "cell_type": "markdown",
   "metadata": {},
   "source": [
    "### Lists\n",
    "\n",
    "- The next data type we will look at is the `list`, which is used to group together values.\n",
    "- Data types which are made up of others are referred to as *compound types*\n",
    "- We create lists using `[]`\n",
    "- Run this code for an example:\n"
   ]
  },
  {
   "cell_type": "code",
   "execution_count": null,
   "metadata": {},
   "outputs": [],
   "source": [
    "values = [10, 11, 14, 9, 11, 37]\n",
    "print(values)"
   ]
  },
  {
   "cell_type": "markdown",
   "metadata": {},
   "source": [
    "## <font color=green>💬 Discussion point</font>\n",
    "Take a look at the code below.\n",
    "- What does it tell us about creating lists?\n",
    "- What does it tell us about what lists can contain?"
   ]
  },
  {
   "cell_type": "code",
   "execution_count": null,
   "metadata": {},
   "outputs": [],
   "source": [
    "more_values = [1+1, 2*4, len('Hello'), 'Hello'[0], values[2:4]]\n",
    "\n",
    "print(\"Here's a\", type(more_values))\n",
    "print('\\n', more_values)\n",
    "print('\\nIt contains\\n')\n",
    "print('\\t', type(more_values[0]))\n",
    "print('\\t', type(more_values[3]))\n",
    "print('\\t', type(more_values[4]))\n"
   ]
  },
  {
   "cell_type": "markdown",
   "metadata": {},
   "source": [
    "**Lists are sequences**\n",
    "\n",
    "Like the `str` data type (strings), lists are also sequences, and so many of the  operators we used with strings, will also work with lists.\n",
    "\n",
    "## <font color=green>❓ Question</font>\n",
    "\n",
    "\n",
    "Amend the code below, using slices to create two new lists from the one given. The first should contain the first and last elements of the given list. The second should contain all of the other elements.\n",
    "\n",
    "## <font color=green>⌨️ Your answer</font>"
   ]
  },
  {
   "cell_type": "code",
   "execution_count": null,
   "metadata": {},
   "outputs": [],
   "source": [
    "# Amend the code below to give your answer\n",
    "values = [10, 11, 14, 9, 11, 37]\n",
    "\n",
    "# replace each xxx and uncomment this next line\n",
    "# ends = [xxx, xxx]\n",
    "print(ends)\n",
    "\n",
    "# replace xxx and uncomment this next line\n",
    "# middle = values[xxx]\n",
    "print(middle)\n"
   ]
  },
  {
   "cell_type": "markdown",
   "metadata": {},
   "source": [
    "## <font color=green>💬 Discussion point</font>\n",
    "\n",
    "Try the following out with your above code:\n",
    "\n",
    "- What does the code do if the list has only one member?\n",
    "- What if it is an empty list?\n",
    "- Why?"
   ]
  },
  {
   "cell_type": "markdown",
   "metadata": {},
   "source": [
    "## <font color=green>❓ Question</font>\n",
    "\n",
    "Write a short piece of code to illustrate what the following slice operator does:\n",
    "\n",
    "`values[i:j:k]`\n",
    "\n",
    "## <font color=green>⌨️ Your answer</font>\n"
   ]
  },
  {
   "cell_type": "code",
   "execution_count": null,
   "metadata": {},
   "outputs": [],
   "source": [
    "# Write your answer in this cell:"
   ]
  },
  {
   "cell_type": "markdown",
   "metadata": {},
   "source": [
    "### Mutability\n",
    "\n",
    "Lists are *mutable*. This means we can change their values, like this:\n",
    "\n",
    "`values[2] = 4`\n",
    "\n",
    "## <font color=green>❓ Question</font>\n",
    "\n",
    "Amend the code below to\n",
    "- change the last item in the list to `12`. Make sure your code will work with any length of list, by not using the actual index number of the last item.\n",
    "- replace the 4 middle items (i.e. all except first and last) with the single value `2`, giving a 3 item list\n",
    "(*hint* - try replacing the middle items with a new list, containing 1 item)\n",
    "\n",
    "## <font color=green>⌨️ Your answer</font>\n"
   ]
  },
  {
   "cell_type": "code",
   "execution_count": null,
   "metadata": {},
   "outputs": [],
   "source": [
    "# Write your answer in this cell:\n",
    "values = [10, 11, 14, 9, 11, 37]\n",
    "# Add a line here, to change the last to something else\n",
    "# values[????] = ????\n",
    "print(values)\n",
    "# Add a line here, to replace the middle 4 items with a single value,\n",
    "# to give a 3 item list \n",
    "# values[????] = ????\n",
    "print(values)"
   ]
  },
  {
   "cell_type": "markdown",
   "metadata": {},
   "source": [
    "## <font color=green>💬 Discussion point</font>\n",
    "Are strings mutable? Why is Python designed this way?"
   ]
  },
  {
   "cell_type": "markdown",
   "metadata": {},
   "source": [
    "### What's in a name? Python's reference semantics\n",
    "\n",
    "Although we have used the word _variables_ quite a lot, this is lazy. Really, Python has _names_, which themselves refer not to data, but to references to that objects (data in the simlpe case) in memory.\n",
    "\n",
    "This means  several names can refer to the same piece of data.\n",
    "\n",
    "Try the following code:"
   ]
  },
  {
   "cell_type": "code",
   "execution_count": null,
   "metadata": {},
   "outputs": [],
   "source": [
    "x = [1, 2, 3]\n",
    "y = x\n",
    "x.append(4)\n",
    "print( x )\n",
    "print( y )"
   ]
  },
  {
   "cell_type": "markdown",
   "metadata": {},
   "source": [
    "## <font color=green>💬 Discussion point</font>\n",
    "\n",
    "Can you explain what has happened in the above code?\n",
    "\n",
    "Now try the next piece of code, and explain what is happening here:"
   ]
  },
  {
   "cell_type": "code",
   "execution_count": null,
   "metadata": {},
   "outputs": [],
   "source": [
    "x = 10\n",
    "y = x\n",
    "x = x + 10\n",
    "print( x )\n",
    "print( y )"
   ]
  },
  {
   "cell_type": "markdown",
   "metadata": {},
   "source": [
    "### Copying lists\n",
    "\n",
    "When we copy a list in Python, the copy is *shallow*.\n",
    "\n",
    "## <font color=green>💬 Discussion point</font>\n",
    "\n",
    "Take a look at the code below, run it, and explain what we mean by a *shallow copy*."
   ]
  },
  {
   "cell_type": "code",
   "execution_count": null,
   "metadata": {},
   "outputs": [],
   "source": [
    "inner = [1, 2, 3]\n",
    "outer = ['a', 'b', inner]\n",
    "\n",
    "print(outer)\n",
    "\n",
    "copy_of_outer = outer[:]\n",
    "copy_of_inner = inner[:]\n",
    "\n",
    "print(copy_of_outer)\n",
    "\n",
    "outer[2] = 'c'\n",
    "print(copy_of_outer)\n",
    "\n",
    "inner[2] = 'c'\n",
    "print(copy_of_outer)"
   ]
  }
 ],
 "metadata": {
  "kernelspec": {
   "display_name": "Python 3",
   "language": "python",
   "name": "python3"
  },
  "language_info": {
   "codemirror_mode": {
    "name": "ipython",
    "version": 3
   },
   "file_extension": ".py",
   "mimetype": "text/x-python",
   "name": "python",
   "nbconvert_exporter": "python",
   "pygments_lexer": "ipython3",
   "version": "3.7.3"
  }
 },
 "nbformat": 4,
 "nbformat_minor": 2
}
