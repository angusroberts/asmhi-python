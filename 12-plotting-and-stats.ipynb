{
 "cells": [
  {
   "cell_type": "markdown",
   "metadata": {},
   "source": [
    "# 7PAVITPR: Introduction to Statistical Programming\n",
    "# Python practical 12\n",
    "\n",
    "\n",
    "_Department of Biostatistics and Health Informatics<br/>\n",
    "Institute of Psychiatry, Psychology and Neuroscience<br/>\n",
    "King's College London<br/>_\n",
    "\n",
    "\n",
    "_Acknowledgment: based on parts of the course \"Big Data Analytics in Python\", written by Sagar Jilka, KCL_"
   ]
  },
  {
   "cell_type": "markdown",
   "metadata": {},
   "source": [
    "# Further data handling packages: plotting and statistics\n",
    "\n",
    "This practical is a demonstration of plotting and statistics from the follwoing packages:\n",
    "\n",
    "* MatPLotlib\n",
    "* seaborn\n",
    "* SciPy\n",
    "* statsmodels\n",
    "\n",
    "There is no coding for you to do - it is a demo for you to read and run, giving examples of how to use these packages.\n",
    "\n",
    "__NB You need to run every cell!__"
   ]
  },
  {
   "cell_type": "markdown",
   "metadata": {},
   "source": [
    "# Preparing the data\n",
    "\n",
    "We will use the same brain size and IQ data sets as from practical 11. We will repeat the main code from that practical to read in the data, merge it and deal with missing values."
   ]
  },
  {
   "cell_type": "code",
   "execution_count": 46,
   "metadata": {},
   "outputs": [
    {
     "data": {
      "text/html": [
       "<div>\n",
       "<style scoped>\n",
       "    .dataframe tbody tr th:only-of-type {\n",
       "        vertical-align: middle;\n",
       "    }\n",
       "\n",
       "    .dataframe tbody tr th {\n",
       "        vertical-align: top;\n",
       "    }\n",
       "\n",
       "    .dataframe thead th {\n",
       "        text-align: right;\n",
       "    }\n",
       "</style>\n",
       "<table border=\"1\" class=\"dataframe\">\n",
       "  <thead>\n",
       "    <tr style=\"text-align: right;\">\n",
       "      <th></th>\n",
       "      <th>ppt_id</th>\n",
       "      <th>FSIQ</th>\n",
       "      <th>VIQ</th>\n",
       "      <th>PIQ</th>\n",
       "      <th>MRI_Count</th>\n",
       "      <th>Weight</th>\n",
       "      <th>Height</th>\n",
       "    </tr>\n",
       "  </thead>\n",
       "  <tbody>\n",
       "    <tr>\n",
       "      <th>count</th>\n",
       "      <td>40.000000</td>\n",
       "      <td>40.000000</td>\n",
       "      <td>40.000000</td>\n",
       "      <td>40.00000</td>\n",
       "      <td>4.000000e+01</td>\n",
       "      <td>40.000000</td>\n",
       "      <td>40.000000</td>\n",
       "    </tr>\n",
       "    <tr>\n",
       "      <th>mean</th>\n",
       "      <td>20.500000</td>\n",
       "      <td>113.450000</td>\n",
       "      <td>112.350000</td>\n",
       "      <td>111.02500</td>\n",
       "      <td>9.087550e+05</td>\n",
       "      <td>151.822222</td>\n",
       "      <td>402.601316</td>\n",
       "    </tr>\n",
       "    <tr>\n",
       "      <th>std</th>\n",
       "      <td>11.690452</td>\n",
       "      <td>24.082071</td>\n",
       "      <td>23.616107</td>\n",
       "      <td>22.47105</td>\n",
       "      <td>7.228205e+04</td>\n",
       "      <td>23.119544</td>\n",
       "      <td>310.903015</td>\n",
       "    </tr>\n",
       "    <tr>\n",
       "      <th>min</th>\n",
       "      <td>1.000000</td>\n",
       "      <td>77.000000</td>\n",
       "      <td>71.000000</td>\n",
       "      <td>72.00000</td>\n",
       "      <td>7.906190e+05</td>\n",
       "      <td>106.000000</td>\n",
       "      <td>62.000000</td>\n",
       "    </tr>\n",
       "    <tr>\n",
       "      <th>25%</th>\n",
       "      <td>10.750000</td>\n",
       "      <td>89.750000</td>\n",
       "      <td>90.000000</td>\n",
       "      <td>88.25000</td>\n",
       "      <td>8.559185e+05</td>\n",
       "      <td>135.750000</td>\n",
       "      <td>68.750000</td>\n",
       "    </tr>\n",
       "    <tr>\n",
       "      <th>50%</th>\n",
       "      <td>20.500000</td>\n",
       "      <td>116.500000</td>\n",
       "      <td>113.000000</td>\n",
       "      <td>115.00000</td>\n",
       "      <td>9.053990e+05</td>\n",
       "      <td>147.500000</td>\n",
       "      <td>635.000000</td>\n",
       "    </tr>\n",
       "    <tr>\n",
       "      <th>75%</th>\n",
       "      <td>30.250000</td>\n",
       "      <td>135.500000</td>\n",
       "      <td>129.750000</td>\n",
       "      <td>128.00000</td>\n",
       "      <td>9.500780e+05</td>\n",
       "      <td>172.000000</td>\n",
       "      <td>685.750000</td>\n",
       "    </tr>\n",
       "    <tr>\n",
       "      <th>max</th>\n",
       "      <td>40.000000</td>\n",
       "      <td>144.000000</td>\n",
       "      <td>150.000000</td>\n",
       "      <td>150.00000</td>\n",
       "      <td>1.079549e+06</td>\n",
       "      <td>192.000000</td>\n",
       "      <td>765.000000</td>\n",
       "    </tr>\n",
       "  </tbody>\n",
       "</table>\n",
       "</div>"
      ],
      "text/plain": [
       "          ppt_id        FSIQ         VIQ        PIQ     MRI_Count      Weight  \\\n",
       "count  40.000000   40.000000   40.000000   40.00000  4.000000e+01   40.000000   \n",
       "mean   20.500000  113.450000  112.350000  111.02500  9.087550e+05  151.822222   \n",
       "std    11.690452   24.082071   23.616107   22.47105  7.228205e+04   23.119544   \n",
       "min     1.000000   77.000000   71.000000   72.00000  7.906190e+05  106.000000   \n",
       "25%    10.750000   89.750000   90.000000   88.25000  8.559185e+05  135.750000   \n",
       "50%    20.500000  116.500000  113.000000  115.00000  9.053990e+05  147.500000   \n",
       "75%    30.250000  135.500000  129.750000  128.00000  9.500780e+05  172.000000   \n",
       "max    40.000000  144.000000  150.000000  150.00000  1.079549e+06  192.000000   \n",
       "\n",
       "           Height  \n",
       "count   40.000000  \n",
       "mean   402.601316  \n",
       "std    310.903015  \n",
       "min     62.000000  \n",
       "25%     68.750000  \n",
       "50%    635.000000  \n",
       "75%    685.750000  \n",
       "max    765.000000  "
      ]
     },
     "execution_count": 46,
     "metadata": {},
     "output_type": "execute_result"
    }
   ],
   "source": [
    "# Import pandas...\n",
    "import pandas as pd\n",
    "\n",
    "# Read in the data\n",
    "df_m = pd.read_csv('brain_clinic_measures.csv')\n",
    "df_p = pd.read_csv('brain_participant_info.csv')\n",
    "\n",
    "# Drop unwanted columns\n",
    "df_m = df_m.drop('Unnamed: 0', axis=1)\n",
    "df_p = df_p.drop('Unnamed: 0', axis=1)\n",
    "\n",
    "# create one merged DataFrame\n",
    "df_all = df_m.merge(df_p, on = ['ppt_id'], how = 'left')\n",
    "\n",
    "# Transform dataframe to means for gender\n",
    "means_for_gender = df_all.groupby(\"Gender\").transform(\"mean\")\n",
    "\n",
    "# Fill in Height and Weight NAs with mean for gender\n",
    "df_all = df_all.fillna(means_for_gender.loc[:,['Height','Weight']])\n",
    "\n",
    "# Take a look\n",
    "# df_all.head()\n",
    "df_all.describe()"
   ]
  },
  {
   "cell_type": "markdown",
   "metadata": {},
   "source": [
    "# Plotting and visualising data"
   ]
  },
  {
   "cell_type": "markdown",
   "metadata": {},
   "source": [
    "Start with basic bar/line plots, learning seaborn methods, and then something interactive"
   ]
  },
  {
   "cell_type": "code",
   "execution_count": 47,
   "metadata": {},
   "outputs": [],
   "source": [
    "#we need to import more libraries, notably matplotlib and seaborn\n",
    "\n",
    "import matplotlib.pyplot as plt\n",
    "from IPython.display import display\n",
    "import seaborn as sns\n",
    "\n",
    "#note the magic function below. This is important because it will allow the plots you\n",
    "#create to appear here in the notebook.\n",
    "%matplotlib inline\n"
   ]
  },
  {
   "cell_type": "code",
   "execution_count": 48,
   "metadata": {},
   "outputs": [
    {
     "data": {
      "image/png": "[encoded data removed]",
      "text/plain": [
       "<Figure size 432x288 with 1 Axes>"
      ]
     },
     "metadata": {
      "needs_background": "light"
     },
     "output_type": "display_data"
    }
   ],
   "source": [
    "xx = df_all[\"FSIQ\"] # you can replace FSIQ with any other column.. try it\n",
    "plt.hist(xx, bins = 10);"
   ]
  },
  {
   "cell_type": "markdown",
   "metadata": {},
   "source": [
    "Now lets consider the seaborn library, which we will use as seaborn is generally easier, and make the images much better!"
   ]
  },
  {
   "cell_type": "code",
   "execution_count": 49,
   "metadata": {},
   "outputs": [
    {
     "data": {
      "text/plain": [
       "<matplotlib.axes._subplots.AxesSubplot at 0x7f408d0097f0>"
      ]
     },
     "execution_count": 49,
     "metadata": {},
     "output_type": "execute_result"
    },
    {
     "data": {
      "image/png": "[encoded data removed]",
      "text/plain": [
       "<Figure size 432x288 with 1 Axes>"
      ]
     },
     "metadata": {
      "needs_background": "light"
     },
     "output_type": "display_data"
    }
   ],
   "source": [
    "sns.distplot(df_all['Weight'], kde=False, rug=True, bins = 10)"
   ]
  },
  {
   "cell_type": "markdown",
   "metadata": {},
   "source": [
    "We want to investigate:\n",
    "\n",
    "\n",
    "(1) Differences in IQ/brain size between men and women?\n",
    "\n",
    "(2) Any correlations?"
   ]
  },
  {
   "cell_type": "markdown",
   "metadata": {},
   "source": [
    "** Now is a good time to explore the seaborn library. \n",
    "I will show you how to use the examples and apply them to your work **"
   ]
  },
  {
   "cell_type": "code",
   "execution_count": 50,
   "metadata": {},
   "outputs": [
    {
     "data": {
      "image/png": "[encoded data removed]",
      "text/plain": [
       "<Figure size 360x360 with 1 Axes>"
      ]
     },
     "metadata": {
      "needs_background": "light"
     },
     "output_type": "display_data"
    }
   ],
   "source": [
    "#https://seaborn.pydata.org/generated/seaborn.catplot.html?highlight=catplot#seaborn.catplot\n",
    "\n",
    "sns.catplot(data=df_all,\n",
    "            x=\"Gender\", \n",
    "            y=\"PIQ\", \n",
    "            #palette={\"Male\": \"blue\", \"Female\": \"pink\"}, # you can also specify colours!\n",
    "            kind=\"strip\"); #experiment with different kinds, e.g. “bar”, “strip”, “swarm”, “box”, “violin”, or “boxen”.\n",
    "\n"
   ]
  },
  {
   "cell_type": "code",
   "execution_count": 51,
   "metadata": {},
   "outputs": [
    {
     "data": {
      "image/png": "[encoded data removed]",
      "text/plain": [
       "<Figure size 421.25x360 with 1 Axes>"
      ]
     },
     "metadata": {
      "needs_background": "light"
     },
     "output_type": "display_data"
    }
   ],
   "source": [
    "# Lets add another categorical variable to the graph:\n",
    "# We want to add Diagnosed or not to the figure\n",
    "\n",
    "sns.catplot(data=df_all,\n",
    "            x=\"Gender\", \n",
    "            y=\"PIQ\", \n",
    "            hue = \"Diagnosed\",\n",
    "            #palette={\"Male\": \"blue\", \"Female\": \"pink\"}, # you can also specify colours!\n",
    "            kind=\"bar\"); #experiment with different kinds, e.g. “bar”, “strip”, “swarm”, “box”, “violin”, or “boxen”.\n",
    "\n"
   ]
  },
  {
   "cell_type": "code",
   "execution_count": 52,
   "metadata": {},
   "outputs": [],
   "source": [
    "# Lets do some correlations and make a correlation matrix\n",
    "\n",
    "corr = df_all.corr()"
   ]
  },
  {
   "cell_type": "code",
   "execution_count": 53,
   "metadata": {},
   "outputs": [
    {
     "data": {
      "text/html": [
       "<div>\n",
       "<style scoped>\n",
       "    .dataframe tbody tr th:only-of-type {\n",
       "        vertical-align: middle;\n",
       "    }\n",
       "\n",
       "    .dataframe tbody tr th {\n",
       "        vertical-align: top;\n",
       "    }\n",
       "\n",
       "    .dataframe thead th {\n",
       "        text-align: right;\n",
       "    }\n",
       "</style>\n",
       "<table border=\"1\" class=\"dataframe\">\n",
       "  <thead>\n",
       "    <tr style=\"text-align: right;\">\n",
       "      <th></th>\n",
       "      <th>ppt_id</th>\n",
       "      <th>FSIQ</th>\n",
       "      <th>VIQ</th>\n",
       "      <th>PIQ</th>\n",
       "      <th>MRI_Count</th>\n",
       "      <th>Weight</th>\n",
       "      <th>Height</th>\n",
       "    </tr>\n",
       "  </thead>\n",
       "  <tbody>\n",
       "    <tr>\n",
       "      <th>ppt_id</th>\n",
       "      <td>1.000000</td>\n",
       "      <td>-0.334072</td>\n",
       "      <td>-0.241473</td>\n",
       "      <td>-0.371150</td>\n",
       "      <td>-0.139724</td>\n",
       "      <td>0.140406</td>\n",
       "      <td>-0.051866</td>\n",
       "    </tr>\n",
       "    <tr>\n",
       "      <th>FSIQ</th>\n",
       "      <td>-0.334072</td>\n",
       "      <td>1.000000</td>\n",
       "      <td>0.946639</td>\n",
       "      <td>0.934125</td>\n",
       "      <td>0.357641</td>\n",
       "      <td>-0.051816</td>\n",
       "      <td>0.214837</td>\n",
       "    </tr>\n",
       "    <tr>\n",
       "      <th>VIQ</th>\n",
       "      <td>-0.241473</td>\n",
       "      <td>0.946639</td>\n",
       "      <td>1.000000</td>\n",
       "      <td>0.778135</td>\n",
       "      <td>0.337478</td>\n",
       "      <td>-0.065207</td>\n",
       "      <td>0.186785</td>\n",
       "    </tr>\n",
       "    <tr>\n",
       "      <th>PIQ</th>\n",
       "      <td>-0.371150</td>\n",
       "      <td>0.934125</td>\n",
       "      <td>0.778135</td>\n",
       "      <td>1.000000</td>\n",
       "      <td>0.386817</td>\n",
       "      <td>-0.006720</td>\n",
       "      <td>0.186126</td>\n",
       "    </tr>\n",
       "    <tr>\n",
       "      <th>MRI_Count</th>\n",
       "      <td>-0.139724</td>\n",
       "      <td>0.357641</td>\n",
       "      <td>0.337478</td>\n",
       "      <td>0.386817</td>\n",
       "      <td>1.000000</td>\n",
       "      <td>0.514483</td>\n",
       "      <td>0.085562</td>\n",
       "    </tr>\n",
       "    <tr>\n",
       "      <th>Weight</th>\n",
       "      <td>0.140406</td>\n",
       "      <td>-0.051816</td>\n",
       "      <td>-0.065207</td>\n",
       "      <td>-0.006720</td>\n",
       "      <td>0.514483</td>\n",
       "      <td>1.000000</td>\n",
       "      <td>0.055469</td>\n",
       "    </tr>\n",
       "    <tr>\n",
       "      <th>Height</th>\n",
       "      <td>-0.051866</td>\n",
       "      <td>0.214837</td>\n",
       "      <td>0.186785</td>\n",
       "      <td>0.186126</td>\n",
       "      <td>0.085562</td>\n",
       "      <td>0.055469</td>\n",
       "      <td>1.000000</td>\n",
       "    </tr>\n",
       "  </tbody>\n",
       "</table>\n",
       "</div>"
      ],
      "text/plain": [
       "             ppt_id      FSIQ       VIQ       PIQ  MRI_Count    Weight  \\\n",
       "ppt_id     1.000000 -0.334072 -0.241473 -0.371150  -0.139724  0.140406   \n",
       "FSIQ      -0.334072  1.000000  0.946639  0.934125   0.357641 -0.051816   \n",
       "VIQ       -0.241473  0.946639  1.000000  0.778135   0.337478 -0.065207   \n",
       "PIQ       -0.371150  0.934125  0.778135  1.000000   0.386817 -0.006720   \n",
       "MRI_Count -0.139724  0.357641  0.337478  0.386817   1.000000  0.514483   \n",
       "Weight     0.140406 -0.051816 -0.065207 -0.006720   0.514483  1.000000   \n",
       "Height    -0.051866  0.214837  0.186785  0.186126   0.085562  0.055469   \n",
       "\n",
       "             Height  \n",
       "ppt_id    -0.051866  \n",
       "FSIQ       0.214837  \n",
       "VIQ        0.186785  \n",
       "PIQ        0.186126  \n",
       "MRI_Count  0.085562  \n",
       "Weight     0.055469  \n",
       "Height     1.000000  "
      ]
     },
     "execution_count": 53,
     "metadata": {},
     "output_type": "execute_result"
    }
   ],
   "source": [
    "corr"
   ]
  },
  {
   "cell_type": "code",
   "execution_count": 54,
   "metadata": {},
   "outputs": [
    {
     "data": {
      "text/html": [
       "<style  type=\"text/css\" >\n",
       "    #T_430b06e8_ebff_11e9_bf98_515e3b45e38crow0_col0 {\n",
       "            background-color:  #023858;\n",
       "            color:  #f1f1f1;\n",
       "        }    #T_430b06e8_ebff_11e9_bf98_515e3b45e38crow0_col1 {\n",
       "            background-color:  #fff7fb;\n",
       "            color:  #000000;\n",
       "        }    #T_430b06e8_ebff_11e9_bf98_515e3b45e38crow0_col2 {\n",
       "            background-color:  #fff7fb;\n",
       "            color:  #000000;\n",
       "        }    #T_430b06e8_ebff_11e9_bf98_515e3b45e38crow0_col3 {\n",
       "            background-color:  #fff7fb;\n",
       "            color:  #000000;\n",
       "        }    #T_430b06e8_ebff_11e9_bf98_515e3b45e38crow0_col4 {\n",
       "            background-color:  #fff7fb;\n",
       "            color:  #000000;\n",
       "        }    #T_430b06e8_ebff_11e9_bf98_515e3b45e38crow0_col5 {\n",
       "            background-color:  #dddbec;\n",
       "            color:  #000000;\n",
       "        }    #T_430b06e8_ebff_11e9_bf98_515e3b45e38crow0_col6 {\n",
       "            background-color:  #fff7fb;\n",
       "            color:  #000000;\n",
       "        }    #T_430b06e8_ebff_11e9_bf98_515e3b45e38crow1_col0 {\n",
       "            background-color:  #fbf4f9;\n",
       "            color:  #000000;\n",
       "        }    #T_430b06e8_ebff_11e9_bf98_515e3b45e38crow1_col1 {\n",
       "            background-color:  #023858;\n",
       "            color:  #f1f1f1;\n",
       "        }    #T_430b06e8_ebff_11e9_bf98_515e3b45e38crow1_col2 {\n",
       "            background-color:  #03446a;\n",
       "            color:  #f1f1f1;\n",
       "        }    #T_430b06e8_ebff_11e9_bf98_515e3b45e38crow1_col3 {\n",
       "            background-color:  #03456c;\n",
       "            color:  #f1f1f1;\n",
       "        }    #T_430b06e8_ebff_11e9_bf98_515e3b45e38crow1_col4 {\n",
       "            background-color:  #8eb3d5;\n",
       "            color:  #000000;\n",
       "        }    #T_430b06e8_ebff_11e9_bf98_515e3b45e38crow1_col5 {\n",
       "            background-color:  #fdf5fa;\n",
       "            color:  #000000;\n",
       "        }    #T_430b06e8_ebff_11e9_bf98_515e3b45e38crow1_col6 {\n",
       "            background-color:  #d0d1e6;\n",
       "            color:  #000000;\n",
       "        }    #T_430b06e8_ebff_11e9_bf98_515e3b45e38crow2_col0 {\n",
       "            background-color:  #f1ebf4;\n",
       "            color:  #000000;\n",
       "        }    #T_430b06e8_ebff_11e9_bf98_515e3b45e38crow2_col1 {\n",
       "            background-color:  #034369;\n",
       "            color:  #f1f1f1;\n",
       "        }    #T_430b06e8_ebff_11e9_bf98_515e3b45e38crow2_col2 {\n",
       "            background-color:  #023858;\n",
       "            color:  #f1f1f1;\n",
       "        }    #T_430b06e8_ebff_11e9_bf98_515e3b45e38crow2_col3 {\n",
       "            background-color:  #046097;\n",
       "            color:  #f1f1f1;\n",
       "        }    #T_430b06e8_ebff_11e9_bf98_515e3b45e38crow2_col4 {\n",
       "            background-color:  #94b6d7;\n",
       "            color:  #000000;\n",
       "        }    #T_430b06e8_ebff_11e9_bf98_515e3b45e38crow2_col5 {\n",
       "            background-color:  #fff7fb;\n",
       "            color:  #000000;\n",
       "        }    #T_430b06e8_ebff_11e9_bf98_515e3b45e38crow2_col6 {\n",
       "            background-color:  #d5d5e8;\n",
       "            color:  #000000;\n",
       "        }    #T_430b06e8_ebff_11e9_bf98_515e3b45e38crow3_col0 {\n",
       "            background-color:  #fff7fb;\n",
       "            color:  #000000;\n",
       "        }    #T_430b06e8_ebff_11e9_bf98_515e3b45e38crow3_col1 {\n",
       "            background-color:  #03456c;\n",
       "            color:  #f1f1f1;\n",
       "        }    #T_430b06e8_ebff_11e9_bf98_515e3b45e38crow3_col2 {\n",
       "            background-color:  #04639b;\n",
       "            color:  #f1f1f1;\n",
       "        }    #T_430b06e8_ebff_11e9_bf98_515e3b45e38crow3_col3 {\n",
       "            background-color:  #023858;\n",
       "            color:  #f1f1f1;\n",
       "        }    #T_430b06e8_ebff_11e9_bf98_515e3b45e38crow3_col4 {\n",
       "            background-color:  #83afd3;\n",
       "            color:  #000000;\n",
       "        }    #T_430b06e8_ebff_11e9_bf98_515e3b45e38crow3_col5 {\n",
       "            background-color:  #f7f0f7;\n",
       "            color:  #000000;\n",
       "        }    #T_430b06e8_ebff_11e9_bf98_515e3b45e38crow3_col6 {\n",
       "            background-color:  #d6d6e9;\n",
       "            color:  #000000;\n",
       "        }    #T_430b06e8_ebff_11e9_bf98_515e3b45e38crow4_col0 {\n",
       "            background-color:  #e2dfee;\n",
       "            color:  #000000;\n",
       "        }    #T_430b06e8_ebff_11e9_bf98_515e3b45e38crow4_col1 {\n",
       "            background-color:  #6ba5cd;\n",
       "            color:  #000000;\n",
       "        }    #T_430b06e8_ebff_11e9_bf98_515e3b45e38crow4_col2 {\n",
       "            background-color:  #81aed2;\n",
       "            color:  #000000;\n",
       "        }    #T_430b06e8_ebff_11e9_bf98_515e3b45e38crow4_col3 {\n",
       "            background-color:  #5a9ec9;\n",
       "            color:  #000000;\n",
       "        }    #T_430b06e8_ebff_11e9_bf98_515e3b45e38crow4_col4 {\n",
       "            background-color:  #023858;\n",
       "            color:  #f1f1f1;\n",
       "        }    #T_430b06e8_ebff_11e9_bf98_515e3b45e38crow4_col5 {\n",
       "            background-color:  #5ea0ca;\n",
       "            color:  #000000;\n",
       "        }    #T_430b06e8_ebff_11e9_bf98_515e3b45e38crow4_col6 {\n",
       "            background-color:  #ebe6f2;\n",
       "            color:  #000000;\n",
       "        }    #T_430b06e8_ebff_11e9_bf98_515e3b45e38crow5_col0 {\n",
       "            background-color:  #a7bddb;\n",
       "            color:  #000000;\n",
       "        }    #T_430b06e8_ebff_11e9_bf98_515e3b45e38crow5_col1 {\n",
       "            background-color:  #d9d8ea;\n",
       "            color:  #000000;\n",
       "        }    #T_430b06e8_ebff_11e9_bf98_515e3b45e38crow5_col2 {\n",
       "            background-color:  #e8e4f0;\n",
       "            color:  #000000;\n",
       "        }    #T_430b06e8_ebff_11e9_bf98_515e3b45e38crow5_col3 {\n",
       "            background-color:  #cacee5;\n",
       "            color:  #000000;\n",
       "        }    #T_430b06e8_ebff_11e9_bf98_515e3b45e38crow5_col4 {\n",
       "            background-color:  #509ac6;\n",
       "            color:  #000000;\n",
       "        }    #T_430b06e8_ebff_11e9_bf98_515e3b45e38crow5_col5 {\n",
       "            background-color:  #023858;\n",
       "            color:  #f1f1f1;\n",
       "        }    #T_430b06e8_ebff_11e9_bf98_515e3b45e38crow5_col6 {\n",
       "            background-color:  #f0eaf4;\n",
       "            color:  #000000;\n",
       "        }    #T_430b06e8_ebff_11e9_bf98_515e3b45e38crow6_col0 {\n",
       "            background-color:  #d4d4e8;\n",
       "            color:  #000000;\n",
       "        }    #T_430b06e8_ebff_11e9_bf98_515e3b45e38crow6_col1 {\n",
       "            background-color:  #97b7d7;\n",
       "            color:  #000000;\n",
       "        }    #T_430b06e8_ebff_11e9_bf98_515e3b45e38crow6_col2 {\n",
       "            background-color:  #b0c2de;\n",
       "            color:  #000000;\n",
       "        }    #T_430b06e8_ebff_11e9_bf98_515e3b45e38crow6_col3 {\n",
       "            background-color:  #99b8d8;\n",
       "            color:  #000000;\n",
       "        }    #T_430b06e8_ebff_11e9_bf98_515e3b45e38crow6_col4 {\n",
       "            background-color:  #dcdaeb;\n",
       "            color:  #000000;\n",
       "        }    #T_430b06e8_ebff_11e9_bf98_515e3b45e38crow6_col5 {\n",
       "            background-color:  #eee8f3;\n",
       "            color:  #000000;\n",
       "        }    #T_430b06e8_ebff_11e9_bf98_515e3b45e38crow6_col6 {\n",
       "            background-color:  #023858;\n",
       "            color:  #f1f1f1;\n",
       "        }</style><table id=\"T_430b06e8_ebff_11e9_bf98_515e3b45e38c\" ><thead>    <tr>        <th class=\"blank level0\" ></th>        <th class=\"col_heading level0 col0\" >ppt_id</th>        <th class=\"col_heading level0 col1\" >FSIQ</th>        <th class=\"col_heading level0 col2\" >VIQ</th>        <th class=\"col_heading level0 col3\" >PIQ</th>        <th class=\"col_heading level0 col4\" >MRI_Count</th>        <th class=\"col_heading level0 col5\" >Weight</th>        <th class=\"col_heading level0 col6\" >Height</th>    </tr></thead><tbody>\n",
       "                <tr>\n",
       "                        <th id=\"T_430b06e8_ebff_11e9_bf98_515e3b45e38clevel0_row0\" class=\"row_heading level0 row0\" >ppt_id</th>\n",
       "                        <td id=\"T_430b06e8_ebff_11e9_bf98_515e3b45e38crow0_col0\" class=\"data row0 col0\" >1</td>\n",
       "                        <td id=\"T_430b06e8_ebff_11e9_bf98_515e3b45e38crow0_col1\" class=\"data row0 col1\" >-0.33</td>\n",
       "                        <td id=\"T_430b06e8_ebff_11e9_bf98_515e3b45e38crow0_col2\" class=\"data row0 col2\" >-0.24</td>\n",
       "                        <td id=\"T_430b06e8_ebff_11e9_bf98_515e3b45e38crow0_col3\" class=\"data row0 col3\" >-0.37</td>\n",
       "                        <td id=\"T_430b06e8_ebff_11e9_bf98_515e3b45e38crow0_col4\" class=\"data row0 col4\" >-0.14</td>\n",
       "                        <td id=\"T_430b06e8_ebff_11e9_bf98_515e3b45e38crow0_col5\" class=\"data row0 col5\" >0.14</td>\n",
       "                        <td id=\"T_430b06e8_ebff_11e9_bf98_515e3b45e38crow0_col6\" class=\"data row0 col6\" >-0.052</td>\n",
       "            </tr>\n",
       "            <tr>\n",
       "                        <th id=\"T_430b06e8_ebff_11e9_bf98_515e3b45e38clevel0_row1\" class=\"row_heading level0 row1\" >FSIQ</th>\n",
       "                        <td id=\"T_430b06e8_ebff_11e9_bf98_515e3b45e38crow1_col0\" class=\"data row1 col0\" >-0.33</td>\n",
       "                        <td id=\"T_430b06e8_ebff_11e9_bf98_515e3b45e38crow1_col1\" class=\"data row1 col1\" >1</td>\n",
       "                        <td id=\"T_430b06e8_ebff_11e9_bf98_515e3b45e38crow1_col2\" class=\"data row1 col2\" >0.95</td>\n",
       "                        <td id=\"T_430b06e8_ebff_11e9_bf98_515e3b45e38crow1_col3\" class=\"data row1 col3\" >0.93</td>\n",
       "                        <td id=\"T_430b06e8_ebff_11e9_bf98_515e3b45e38crow1_col4\" class=\"data row1 col4\" >0.36</td>\n",
       "                        <td id=\"T_430b06e8_ebff_11e9_bf98_515e3b45e38crow1_col5\" class=\"data row1 col5\" >-0.052</td>\n",
       "                        <td id=\"T_430b06e8_ebff_11e9_bf98_515e3b45e38crow1_col6\" class=\"data row1 col6\" >0.21</td>\n",
       "            </tr>\n",
       "            <tr>\n",
       "                        <th id=\"T_430b06e8_ebff_11e9_bf98_515e3b45e38clevel0_row2\" class=\"row_heading level0 row2\" >VIQ</th>\n",
       "                        <td id=\"T_430b06e8_ebff_11e9_bf98_515e3b45e38crow2_col0\" class=\"data row2 col0\" >-0.24</td>\n",
       "                        <td id=\"T_430b06e8_ebff_11e9_bf98_515e3b45e38crow2_col1\" class=\"data row2 col1\" >0.95</td>\n",
       "                        <td id=\"T_430b06e8_ebff_11e9_bf98_515e3b45e38crow2_col2\" class=\"data row2 col2\" >1</td>\n",
       "                        <td id=\"T_430b06e8_ebff_11e9_bf98_515e3b45e38crow2_col3\" class=\"data row2 col3\" >0.78</td>\n",
       "                        <td id=\"T_430b06e8_ebff_11e9_bf98_515e3b45e38crow2_col4\" class=\"data row2 col4\" >0.34</td>\n",
       "                        <td id=\"T_430b06e8_ebff_11e9_bf98_515e3b45e38crow2_col5\" class=\"data row2 col5\" >-0.065</td>\n",
       "                        <td id=\"T_430b06e8_ebff_11e9_bf98_515e3b45e38crow2_col6\" class=\"data row2 col6\" >0.19</td>\n",
       "            </tr>\n",
       "            <tr>\n",
       "                        <th id=\"T_430b06e8_ebff_11e9_bf98_515e3b45e38clevel0_row3\" class=\"row_heading level0 row3\" >PIQ</th>\n",
       "                        <td id=\"T_430b06e8_ebff_11e9_bf98_515e3b45e38crow3_col0\" class=\"data row3 col0\" >-0.37</td>\n",
       "                        <td id=\"T_430b06e8_ebff_11e9_bf98_515e3b45e38crow3_col1\" class=\"data row3 col1\" >0.93</td>\n",
       "                        <td id=\"T_430b06e8_ebff_11e9_bf98_515e3b45e38crow3_col2\" class=\"data row3 col2\" >0.78</td>\n",
       "                        <td id=\"T_430b06e8_ebff_11e9_bf98_515e3b45e38crow3_col3\" class=\"data row3 col3\" >1</td>\n",
       "                        <td id=\"T_430b06e8_ebff_11e9_bf98_515e3b45e38crow3_col4\" class=\"data row3 col4\" >0.39</td>\n",
       "                        <td id=\"T_430b06e8_ebff_11e9_bf98_515e3b45e38crow3_col5\" class=\"data row3 col5\" >-0.0067</td>\n",
       "                        <td id=\"T_430b06e8_ebff_11e9_bf98_515e3b45e38crow3_col6\" class=\"data row3 col6\" >0.19</td>\n",
       "            </tr>\n",
       "            <tr>\n",
       "                        <th id=\"T_430b06e8_ebff_11e9_bf98_515e3b45e38clevel0_row4\" class=\"row_heading level0 row4\" >MRI_Count</th>\n",
       "                        <td id=\"T_430b06e8_ebff_11e9_bf98_515e3b45e38crow4_col0\" class=\"data row4 col0\" >-0.14</td>\n",
       "                        <td id=\"T_430b06e8_ebff_11e9_bf98_515e3b45e38crow4_col1\" class=\"data row4 col1\" >0.36</td>\n",
       "                        <td id=\"T_430b06e8_ebff_11e9_bf98_515e3b45e38crow4_col2\" class=\"data row4 col2\" >0.34</td>\n",
       "                        <td id=\"T_430b06e8_ebff_11e9_bf98_515e3b45e38crow4_col3\" class=\"data row4 col3\" >0.39</td>\n",
       "                        <td id=\"T_430b06e8_ebff_11e9_bf98_515e3b45e38crow4_col4\" class=\"data row4 col4\" >1</td>\n",
       "                        <td id=\"T_430b06e8_ebff_11e9_bf98_515e3b45e38crow4_col5\" class=\"data row4 col5\" >0.51</td>\n",
       "                        <td id=\"T_430b06e8_ebff_11e9_bf98_515e3b45e38crow4_col6\" class=\"data row4 col6\" >0.086</td>\n",
       "            </tr>\n",
       "            <tr>\n",
       "                        <th id=\"T_430b06e8_ebff_11e9_bf98_515e3b45e38clevel0_row5\" class=\"row_heading level0 row5\" >Weight</th>\n",
       "                        <td id=\"T_430b06e8_ebff_11e9_bf98_515e3b45e38crow5_col0\" class=\"data row5 col0\" >0.14</td>\n",
       "                        <td id=\"T_430b06e8_ebff_11e9_bf98_515e3b45e38crow5_col1\" class=\"data row5 col1\" >-0.052</td>\n",
       "                        <td id=\"T_430b06e8_ebff_11e9_bf98_515e3b45e38crow5_col2\" class=\"data row5 col2\" >-0.065</td>\n",
       "                        <td id=\"T_430b06e8_ebff_11e9_bf98_515e3b45e38crow5_col3\" class=\"data row5 col3\" >-0.0067</td>\n",
       "                        <td id=\"T_430b06e8_ebff_11e9_bf98_515e3b45e38crow5_col4\" class=\"data row5 col4\" >0.51</td>\n",
       "                        <td id=\"T_430b06e8_ebff_11e9_bf98_515e3b45e38crow5_col5\" class=\"data row5 col5\" >1</td>\n",
       "                        <td id=\"T_430b06e8_ebff_11e9_bf98_515e3b45e38crow5_col6\" class=\"data row5 col6\" >0.055</td>\n",
       "            </tr>\n",
       "            <tr>\n",
       "                        <th id=\"T_430b06e8_ebff_11e9_bf98_515e3b45e38clevel0_row6\" class=\"row_heading level0 row6\" >Height</th>\n",
       "                        <td id=\"T_430b06e8_ebff_11e9_bf98_515e3b45e38crow6_col0\" class=\"data row6 col0\" >-0.052</td>\n",
       "                        <td id=\"T_430b06e8_ebff_11e9_bf98_515e3b45e38crow6_col1\" class=\"data row6 col1\" >0.21</td>\n",
       "                        <td id=\"T_430b06e8_ebff_11e9_bf98_515e3b45e38crow6_col2\" class=\"data row6 col2\" >0.19</td>\n",
       "                        <td id=\"T_430b06e8_ebff_11e9_bf98_515e3b45e38crow6_col3\" class=\"data row6 col3\" >0.19</td>\n",
       "                        <td id=\"T_430b06e8_ebff_11e9_bf98_515e3b45e38crow6_col4\" class=\"data row6 col4\" >0.086</td>\n",
       "                        <td id=\"T_430b06e8_ebff_11e9_bf98_515e3b45e38crow6_col5\" class=\"data row6 col5\" >0.055</td>\n",
       "                        <td id=\"T_430b06e8_ebff_11e9_bf98_515e3b45e38crow6_col6\" class=\"data row6 col6\" >1</td>\n",
       "            </tr>\n",
       "    </tbody></table>"
      ],
      "text/plain": [
       "<pandas.io.formats.style.Styler at 0x7f408fd6fb70>"
      ]
     },
     "execution_count": 54,
     "metadata": {},
     "output_type": "execute_result"
    }
   ],
   "source": [
    "# Now lets add some colour to help differentiate between variables\n",
    "\n",
    "corr.style.background_gradient().set_precision(2)"
   ]
  },
  {
   "cell_type": "markdown",
   "metadata": {},
   "source": [
    "If you want to calculate pearson r then you can use the function below, don't worry about the code"
   ]
  },
  {
   "cell_type": "code",
   "execution_count": 55,
   "metadata": {},
   "outputs": [],
   "source": [
    "from scipy.stats import pearsonr\n",
    "import pandas as pd\n",
    "\n",
    "def calculate_pvalues(df):\n",
    "    df = df.dropna()._get_numeric_data()\n",
    "    dfcols = pd.DataFrame(columns=df.columns)\n",
    "    pvalues = dfcols.transpose().join(dfcols, how='outer')\n",
    "    for r in df.columns:\n",
    "        for c in df.columns:\n",
    "            pvalues[r][c] = round(pearsonr(df[r], df[c])[1], 4)\n",
    "    return pvalues"
   ]
  },
  {
   "cell_type": "code",
   "execution_count": 56,
   "metadata": {},
   "outputs": [
    {
     "data": {
      "text/html": [
       "<div>\n",
       "<style scoped>\n",
       "    .dataframe tbody tr th:only-of-type {\n",
       "        vertical-align: middle;\n",
       "    }\n",
       "\n",
       "    .dataframe tbody tr th {\n",
       "        vertical-align: top;\n",
       "    }\n",
       "\n",
       "    .dataframe thead th {\n",
       "        text-align: right;\n",
       "    }\n",
       "</style>\n",
       "<table border=\"1\" class=\"dataframe\">\n",
       "  <thead>\n",
       "    <tr style=\"text-align: right;\">\n",
       "      <th></th>\n",
       "      <th>ppt_id</th>\n",
       "      <th>FSIQ</th>\n",
       "      <th>VIQ</th>\n",
       "      <th>PIQ</th>\n",
       "      <th>MRI_Count</th>\n",
       "      <th>Weight</th>\n",
       "      <th>Height</th>\n",
       "    </tr>\n",
       "  </thead>\n",
       "  <tbody>\n",
       "    <tr>\n",
       "      <th>ppt_id</th>\n",
       "      <td>0</td>\n",
       "      <td>0.0351</td>\n",
       "      <td>0.1333</td>\n",
       "      <td>0.0184</td>\n",
       "      <td>0.3898</td>\n",
       "      <td>0.3875</td>\n",
       "      <td>0.7506</td>\n",
       "    </tr>\n",
       "    <tr>\n",
       "      <th>FSIQ</th>\n",
       "      <td>0.0351</td>\n",
       "      <td>0</td>\n",
       "      <td>0</td>\n",
       "      <td>0</td>\n",
       "      <td>0.0235</td>\n",
       "      <td>0.7508</td>\n",
       "      <td>0.1831</td>\n",
       "    </tr>\n",
       "    <tr>\n",
       "      <th>VIQ</th>\n",
       "      <td>0.1333</td>\n",
       "      <td>0</td>\n",
       "      <td>0</td>\n",
       "      <td>0</td>\n",
       "      <td>0.0332</td>\n",
       "      <td>0.6893</td>\n",
       "      <td>0.2485</td>\n",
       "    </tr>\n",
       "    <tr>\n",
       "      <th>PIQ</th>\n",
       "      <td>0.0184</td>\n",
       "      <td>0</td>\n",
       "      <td>0</td>\n",
       "      <td>0</td>\n",
       "      <td>0.0137</td>\n",
       "      <td>0.9672</td>\n",
       "      <td>0.2502</td>\n",
       "    </tr>\n",
       "    <tr>\n",
       "      <th>MRI_Count</th>\n",
       "      <td>0.3898</td>\n",
       "      <td>0.0235</td>\n",
       "      <td>0.0332</td>\n",
       "      <td>0.0137</td>\n",
       "      <td>0</td>\n",
       "      <td>0.0007</td>\n",
       "      <td>0.5996</td>\n",
       "    </tr>\n",
       "    <tr>\n",
       "      <th>Weight</th>\n",
       "      <td>0.3875</td>\n",
       "      <td>0.7508</td>\n",
       "      <td>0.6893</td>\n",
       "      <td>0.9672</td>\n",
       "      <td>0.0007</td>\n",
       "      <td>0</td>\n",
       "      <td>0.7339</td>\n",
       "    </tr>\n",
       "    <tr>\n",
       "      <th>Height</th>\n",
       "      <td>0.7506</td>\n",
       "      <td>0.1831</td>\n",
       "      <td>0.2485</td>\n",
       "      <td>0.2502</td>\n",
       "      <td>0.5996</td>\n",
       "      <td>0.7339</td>\n",
       "      <td>0</td>\n",
       "    </tr>\n",
       "  </tbody>\n",
       "</table>\n",
       "</div>"
      ],
      "text/plain": [
       "           ppt_id    FSIQ     VIQ     PIQ MRI_Count  Weight  Height\n",
       "ppt_id          0  0.0351  0.1333  0.0184    0.3898  0.3875  0.7506\n",
       "FSIQ       0.0351       0       0       0    0.0235  0.7508  0.1831\n",
       "VIQ        0.1333       0       0       0    0.0332  0.6893  0.2485\n",
       "PIQ        0.0184       0       0       0    0.0137  0.9672  0.2502\n",
       "MRI_Count  0.3898  0.0235  0.0332  0.0137         0  0.0007  0.5996\n",
       "Weight     0.3875  0.7508  0.6893  0.9672    0.0007       0  0.7339\n",
       "Height     0.7506  0.1831  0.2485  0.2502    0.5996  0.7339       0"
      ]
     },
     "execution_count": 56,
     "metadata": {},
     "output_type": "execute_result"
    }
   ],
   "source": [
    "calculate_pvalues(df_all)"
   ]
  },
  {
   "cell_type": "code",
   "execution_count": 57,
   "metadata": {},
   "outputs": [],
   "source": [
    "#Exploring scatterplots\n",
    "\n",
    "#https://seaborn.pydata.org/generated/seaborn.scatterplot.html"
   ]
  },
  {
   "cell_type": "code",
   "execution_count": 58,
   "metadata": {},
   "outputs": [
    {
     "data": {
      "text/plain": [
       "<matplotlib.axes._subplots.AxesSubplot at 0x7f408cbca9b0>"
      ]
     },
     "execution_count": 58,
     "metadata": {},
     "output_type": "execute_result"
    },
    {
     "data": {
      "image/png": "[encoded data removed]",
      "text/plain": [
       "<Figure size 432x288 with 1 Axes>"
      ]
     },
     "metadata": {
      "needs_background": "light"
     },
     "output_type": "display_data"
    }
   ],
   "source": [
    "sns.scatterplot(x=\"FSIQ\", y=\"PIQ\", data=df_all)"
   ]
  },
  {
   "cell_type": "code",
   "execution_count": 59,
   "metadata": {},
   "outputs": [
    {
     "data": {
      "text/plain": [
       "<matplotlib.axes._subplots.AxesSubplot at 0x7f408c97e080>"
      ]
     },
     "execution_count": 59,
     "metadata": {},
     "output_type": "execute_result"
    },
    {
     "data": {
      "image/png": "[encoded data removed]",
      "text/plain": [
       "<Figure size 432x288 with 1 Axes>"
      ]
     },
     "metadata": {
      "needs_background": "light"
     },
     "output_type": "display_data"
    }
   ],
   "source": [
    "#plt.figure(figsize=(10,8))\n",
    "\n",
    "sns.scatterplot(data=df_all,\n",
    "                x=\"FSIQ\", \n",
    "                y=\"PIQ\", \n",
    "                hue=\"Gender\",) #experiment with different categorical 'hues', e.g. Diagnosed\n",
    "                #size = \"Height\") # Explore what the size argument does...\n"
   ]
  },
  {
   "cell_type": "code",
   "execution_count": 60,
   "metadata": {},
   "outputs": [
    {
     "data": {
      "image/png": "[encoded data removed]",
      "text/plain": [
       "<Figure size 432x288 with 1 Axes>"
      ]
     },
     "metadata": {
      "needs_background": "light"
     },
     "output_type": "display_data"
    }
   ],
   "source": [
    "# Saving your figures for publication\n",
    "\n",
    "# assign the code to a random variable (something like g = )\n",
    "\n",
    "g = sns.scatterplot(data=df_all,\n",
    "                x=\"FSIQ\", \n",
    "                y=\"PIQ\", \n",
    "                hue=\"Gender\",) #experiment with different categorical 'hues', e.g. Diagnosed\n",
    "                #size = \"Height\") # Explore what the size argument does...\n",
    "\n",
    "    \n",
    "# Use the savefig argument and provide a filename, such as figure1.png\n",
    "# You can use keyword arguments based on your journal's submission requirements\n",
    "# For exmaple, for the British Journal of Psychiatry (https://www.cambridge.org/core/services/authors/journals/journals-artwork-guide)\n",
    "# they want images at 300dpi and ideally in TIFF format, so you can save your figure appropriately\n",
    "# So check with your submission guidelines and provide the appropriate arguments\n",
    "# Tip: for posters, you might want to use the transparancy argument\n",
    "\n",
    "g.figure.savefig(\"output.tiff\", dpi = 300, transparency = True)"
   ]
  },
  {
   "cell_type": "code",
   "execution_count": 61,
   "metadata": {},
   "outputs": [
    {
     "data": {
      "text/html": [
       "<div>\n",
       "<style scoped>\n",
       "    .dataframe tbody tr th:only-of-type {\n",
       "        vertical-align: middle;\n",
       "    }\n",
       "\n",
       "    .dataframe tbody tr th {\n",
       "        vertical-align: top;\n",
       "    }\n",
       "\n",
       "    .dataframe thead th {\n",
       "        text-align: right;\n",
       "    }\n",
       "</style>\n",
       "<table border=\"1\" class=\"dataframe\">\n",
       "  <thead>\n",
       "    <tr style=\"text-align: right;\">\n",
       "      <th></th>\n",
       "      <th>ppt_id</th>\n",
       "      <th>FSIQ</th>\n",
       "      <th>VIQ</th>\n",
       "      <th>PIQ</th>\n",
       "      <th>MRI_Count</th>\n",
       "      <th>Gender</th>\n",
       "      <th>Weight</th>\n",
       "      <th>Height</th>\n",
       "      <th>Diagnosed</th>\n",
       "    </tr>\n",
       "  </thead>\n",
       "  <tbody>\n",
       "    <tr>\n",
       "      <th>0</th>\n",
       "      <td>1</td>\n",
       "      <td>133</td>\n",
       "      <td>132</td>\n",
       "      <td>124</td>\n",
       "      <td>816932</td>\n",
       "      <td>Female</td>\n",
       "      <td>118.000000</td>\n",
       "      <td>645.0</td>\n",
       "      <td>Yes</td>\n",
       "    </tr>\n",
       "    <tr>\n",
       "      <th>1</th>\n",
       "      <td>2</td>\n",
       "      <td>140</td>\n",
       "      <td>150</td>\n",
       "      <td>124</td>\n",
       "      <td>1001121</td>\n",
       "      <td>Male</td>\n",
       "      <td>166.444444</td>\n",
       "      <td>725.0</td>\n",
       "      <td>No</td>\n",
       "    </tr>\n",
       "    <tr>\n",
       "      <th>2</th>\n",
       "      <td>3</td>\n",
       "      <td>139</td>\n",
       "      <td>123</td>\n",
       "      <td>150</td>\n",
       "      <td>1038437</td>\n",
       "      <td>Male</td>\n",
       "      <td>143.000000</td>\n",
       "      <td>733.0</td>\n",
       "      <td>Yes</td>\n",
       "    </tr>\n",
       "    <tr>\n",
       "      <th>3</th>\n",
       "      <td>4</td>\n",
       "      <td>133</td>\n",
       "      <td>129</td>\n",
       "      <td>128</td>\n",
       "      <td>965353</td>\n",
       "      <td>Male</td>\n",
       "      <td>172.000000</td>\n",
       "      <td>688.0</td>\n",
       "      <td>No</td>\n",
       "    </tr>\n",
       "    <tr>\n",
       "      <th>4</th>\n",
       "      <td>5</td>\n",
       "      <td>137</td>\n",
       "      <td>132</td>\n",
       "      <td>134</td>\n",
       "      <td>951545</td>\n",
       "      <td>Female</td>\n",
       "      <td>147.000000</td>\n",
       "      <td>65.0</td>\n",
       "      <td>Yes</td>\n",
       "    </tr>\n",
       "  </tbody>\n",
       "</table>\n",
       "</div>"
      ],
      "text/plain": [
       "   ppt_id  FSIQ  VIQ  PIQ  MRI_Count  Gender      Weight  Height Diagnosed\n",
       "0       1   133  132  124     816932  Female  118.000000   645.0       Yes\n",
       "1       2   140  150  124    1001121    Male  166.444444   725.0        No\n",
       "2       3   139  123  150    1038437    Male  143.000000   733.0       Yes\n",
       "3       4   133  129  128     965353    Male  172.000000   688.0        No\n",
       "4       5   137  132  134     951545  Female  147.000000    65.0       Yes"
      ]
     },
     "execution_count": 61,
     "metadata": {},
     "output_type": "execute_result"
    }
   ],
   "source": [
    "df_all.head()"
   ]
  },
  {
   "cell_type": "markdown",
   "metadata": {},
   "source": [
    "# Some statistics in Python"
   ]
  },
  {
   "cell_type": "markdown",
   "metadata": {},
   "source": [
    "##### IV = Gender (Male, Female), also Diagnoses (Yes, No)\n",
    "##### DV = IQ Scores (FSIQ, VIQ, PIQ)"
   ]
  },
  {
   "cell_type": "markdown",
   "metadata": {},
   "source": [
    "We want to test if there is a difference in IQ measures between genders? Or \"diagnosed\"? What tests can we use?"
   ]
  },
  {
   "cell_type": "code",
   "execution_count": 62,
   "metadata": {},
   "outputs": [],
   "source": [
    "# There are two libraries (that i know of anyway) to do stats in Python - scipy and statsmodels\n",
    "\n",
    "# Lets start with scipy and we will compare the syntax and output with statsmodel\n",
    "\n",
    "# Import as below...\n",
    "\n",
    "import scipy.stats as stats"
   ]
  },
  {
   "cell_type": "code",
   "execution_count": 63,
   "metadata": {},
   "outputs": [],
   "source": [
    "import matplotlib.pyplot as plt\n",
    "from IPython.display import display\n",
    "import seaborn as sns"
   ]
  },
  {
   "cell_type": "markdown",
   "metadata": {},
   "source": [
    "### Assumption of normality\n",
    "\n",
    "#### Shapiro-wilk test (output = w test statistic, p value)"
   ]
  },
  {
   "cell_type": "code",
   "execution_count": 64,
   "metadata": {},
   "outputs": [
    {
     "name": "stdout",
     "output_type": "stream",
     "text": [
      "(0.8300552368164062, 3.057045250898227e-05)\n",
      "(0.8203510046005249, 0.0017663020407781005)\n"
     ]
    }
   ],
   "source": [
    "print(stats.shapiro(df_all[\"FSIQ\"]))\n",
    "\n",
    "# consider the difference between the above and the below commented code:\n",
    "\n",
    "print(stats.shapiro(df_all[\"FSIQ\"][df_all['Gender'] == 'Male']))"
   ]
  },
  {
   "cell_type": "code",
   "execution_count": 65,
   "metadata": {},
   "outputs": [
    {
     "name": "stdout",
     "output_type": "stream",
     "text": [
      "(0.9278563261032104, 0.013718176633119583)\n",
      "(0.9212856292724609, 0.00845432560890913)\n"
     ]
    }
   ],
   "source": [
    "# You can also test other DVs\n",
    "\n",
    "print(stats.shapiro(df_all[\"PIQ\"]))\n",
    "print(stats.shapiro(df_all[\"VIQ\"]))"
   ]
  },
  {
   "cell_type": "code",
   "execution_count": 66,
   "metadata": {},
   "outputs": [
    {
     "data": {
      "image/png": "[encoded data removed]",
      "text/plain": [
       "<Figure size 432x288 with 1 Axes>"
      ]
     },
     "metadata": {
      "needs_background": "light"
     },
     "output_type": "display_data"
    }
   ],
   "source": [
    "# Now lets make some Q-Q Plots\n",
    "stats.probplot(df_all[\"FSIQ\"],plot= plt)\n",
    "\n",
    "# Give your figure a title\n",
    "plt.title(\"FSIQ Q-Q Plot\");"
   ]
  },
  {
   "cell_type": "code",
   "execution_count": 67,
   "metadata": {},
   "outputs": [
    {
     "name": "stdout",
     "output_type": "stream",
     "text": [
      "FSIQ\n",
      "(0.8203510046005249, 0.0017663020407781005)\n",
      "PIQ\n",
      "(0.9154750108718872, 0.08110667765140533)\n",
      "VIQ\n",
      "(0.881869912147522, 0.0191198717802763)\n",
      "\n",
      "\n",
      "Assumption of normality is violated as (all) the p-values are < than 0.05.\n"
     ]
    },
    {
     "data": {
      "image/png": "[encoded data removed]",
      "text/plain": [
       "<Figure size 432x288 with 1 Axes>"
      ]
     },
     "metadata": {
      "needs_background": "light"
     },
     "output_type": "display_data"
    }
   ],
   "source": [
    "# Lets make a loop and test all three of our IQ DVs in one go:\n",
    "\n",
    "# First make a list variable called cols with your DVs in it\n",
    "cols = ['FSIQ', 'PIQ', 'VIQ']\n",
    "\n",
    "# Then make a loop using the for statement. This will loop through every item in cols\n",
    "# and do you tell it to do, in this case, we are telling it to do stats.shapiro\n",
    "for i in cols:\n",
    "    print(i)\n",
    "    print(stats.shapiro(df_all[i][df_all['Gender'] == 'Male']))\n",
    "    \n",
    "for i in cols:\n",
    "    stats.probplot(df_all[i][df_all['Gender'] == 'Male'], plot= plt)\n",
    "    plt.title(\"Mental Health Q-Q Plot\")\n",
    "    \n",
    "print(\"\\n\\nAssumption of normality is violated as (all) the p-values are < than 0.05.\")"
   ]
  },
  {
   "cell_type": "markdown",
   "metadata": {},
   "source": [
    "##### Levene's Test "
   ]
  },
  {
   "cell_type": "code",
   "execution_count": 68,
   "metadata": {},
   "outputs": [],
   "source": [
    "levene_1 = df_all[\"PIQ\"][df_all['Gender'] == 'Male']\n",
    "levene_2 = df_all[\"PIQ\"][df_all['Gender'] == 'Female']"
   ]
  },
  {
   "cell_type": "code",
   "execution_count": 69,
   "metadata": {},
   "outputs": [
    {
     "data": {
      "text/plain": [
       "LeveneResult(statistic=0.1050579590471509, pvalue=0.7476197031711318)"
      ]
     },
     "execution_count": 69,
     "metadata": {},
     "output_type": "execute_result"
    }
   ],
   "source": [
    "stats.levene(levene_1, levene_2)"
   ]
  },
  {
   "cell_type": "code",
   "execution_count": 70,
   "metadata": {},
   "outputs": [
    {
     "name": "stdout",
     "output_type": "stream",
     "text": [
      "FSIQ : LeveneResult(statistic=0.24447043811144256, pvalue=0.6238422857062207)\n",
      "PIQ : LeveneResult(statistic=0.1050579590471509, pvalue=0.7476197031711318)\n",
      "VIQ : LeveneResult(statistic=0.7852826699352736, pvalue=0.38110422921600584)\n"
     ]
    }
   ],
   "source": [
    "# Lets make a quick loop so we can run a levene's test on all our DVs\n",
    "\n",
    "for i in cols:\n",
    "    print(i , ':' , stats.levene(df_all[i][df_all['Gender'] == 'Male'], \n",
    "                                 df_all[i][df_all['Gender'] == 'Female']))"
   ]
  },
  {
   "cell_type": "markdown",
   "metadata": {},
   "source": [
    "##### ANOVA "
   ]
  },
  {
   "cell_type": "code",
   "execution_count": 71,
   "metadata": {},
   "outputs": [],
   "source": [
    "# We will statsmodels because the output is better (more readable)\n",
    "\n",
    "import statsmodels.api as sm\n",
    "from statsmodels.formula.api import ols\n",
    "\n",
    "# Documentation here: https://www.statsmodels.org/stable/index.html"
   ]
  },
  {
   "cell_type": "code",
   "execution_count": 72,
   "metadata": {},
   "outputs": [],
   "source": [
    "results = ols(\"FSIQ ~ C(Gender)\", data = df_all).fit()"
   ]
  },
  {
   "cell_type": "code",
   "execution_count": 73,
   "metadata": {},
   "outputs": [
    {
     "data": {
      "text/html": [
       "<table class=\"simpletable\">\n",
       "<caption>OLS Regression Results</caption>\n",
       "<tr>\n",
       "  <th>Dep. Variable:</th>          <td>FSIQ</td>       <th>  R-squared:         </th> <td>   0.004</td>\n",
       "</tr>\n",
       "<tr>\n",
       "  <th>Model:</th>                   <td>OLS</td>       <th>  Adj. R-squared:    </th> <td>  -0.022</td>\n",
       "</tr>\n",
       "<tr>\n",
       "  <th>Method:</th>             <td>Least Squares</td>  <th>  F-statistic:       </th> <td>  0.1621</td>\n",
       "</tr>\n",
       "<tr>\n",
       "  <th>Date:</th>             <td>Fri, 11 Oct 2019</td> <th>  Prob (F-statistic):</th>  <td> 0.689</td> \n",
       "</tr>\n",
       "<tr>\n",
       "  <th>Time:</th>                 <td>09:15:19</td>     <th>  Log-Likelihood:    </th> <td> -183.42</td>\n",
       "</tr>\n",
       "<tr>\n",
       "  <th>No. Observations:</th>      <td>    40</td>      <th>  AIC:               </th> <td>   370.8</td>\n",
       "</tr>\n",
       "<tr>\n",
       "  <th>Df Residuals:</th>          <td>    38</td>      <th>  BIC:               </th> <td>   374.2</td>\n",
       "</tr>\n",
       "<tr>\n",
       "  <th>Df Model:</th>              <td>     1</td>      <th>                     </th>     <td> </td>   \n",
       "</tr>\n",
       "<tr>\n",
       "  <th>Covariance Type:</th>      <td>nonrobust</td>    <th>                     </th>     <td> </td>   \n",
       "</tr>\n",
       "</table>\n",
       "<table class=\"simpletable\">\n",
       "<tr>\n",
       "          <td></td>             <th>coef</th>     <th>std err</th>      <th>t</th>      <th>P>|t|</th>  <th>[0.025</th>    <th>0.975]</th>  \n",
       "</tr>\n",
       "<tr>\n",
       "  <th>Intercept</th>         <td>  111.9000</td> <td>    5.444</td> <td>   20.556</td> <td> 0.000</td> <td>  100.880</td> <td>  122.920</td>\n",
       "</tr>\n",
       "<tr>\n",
       "  <th>C(Gender)[T.Male]</th> <td>    3.1000</td> <td>    7.699</td> <td>    0.403</td> <td> 0.689</td> <td>  -12.485</td> <td>   18.685</td>\n",
       "</tr>\n",
       "</table>\n",
       "<table class=\"simpletable\">\n",
       "<tr>\n",
       "  <th>Omnibus:</th>       <td>104.117</td> <th>  Durbin-Watson:     </th> <td>   1.470</td>\n",
       "</tr>\n",
       "<tr>\n",
       "  <th>Prob(Omnibus):</th> <td> 0.000</td>  <th>  Jarque-Bera (JB):  </th> <td>   5.241</td>\n",
       "</tr>\n",
       "<tr>\n",
       "  <th>Skew:</th>          <td>-0.131</td>  <th>  Prob(JB):          </th> <td>  0.0728</td>\n",
       "</tr>\n",
       "<tr>\n",
       "  <th>Kurtosis:</th>      <td> 1.246</td>  <th>  Cond. No.          </th> <td>    2.62</td>\n",
       "</tr>\n",
       "</table><br/><br/>Warnings:<br/>[1] Standard Errors assume that the covariance matrix of the errors is correctly specified."
      ],
      "text/plain": [
       "<class 'statsmodels.iolib.summary.Summary'>\n",
       "\"\"\"\n",
       "                            OLS Regression Results                            \n",
       "==============================================================================\n",
       "Dep. Variable:                   FSIQ   R-squared:                       0.004\n",
       "Model:                            OLS   Adj. R-squared:                 -0.022\n",
       "Method:                 Least Squares   F-statistic:                    0.1621\n",
       "Date:                Fri, 11 Oct 2019   Prob (F-statistic):              0.689\n",
       "Time:                        09:15:19   Log-Likelihood:                -183.42\n",
       "No. Observations:                  40   AIC:                             370.8\n",
       "Df Residuals:                      38   BIC:                             374.2\n",
       "Df Model:                           1                                         \n",
       "Covariance Type:            nonrobust                                         \n",
       "=====================================================================================\n",
       "                        coef    std err          t      P>|t|      [0.025      0.975]\n",
       "-------------------------------------------------------------------------------------\n",
       "Intercept           111.9000      5.444     20.556      0.000     100.880     122.920\n",
       "C(Gender)[T.Male]     3.1000      7.699      0.403      0.689     -12.485      18.685\n",
       "==============================================================================\n",
       "Omnibus:                      104.117   Durbin-Watson:                   1.470\n",
       "Prob(Omnibus):                  0.000   Jarque-Bera (JB):                5.241\n",
       "Skew:                          -0.131   Prob(JB):                       0.0728\n",
       "Kurtosis:                       1.246   Cond. No.                         2.62\n",
       "==============================================================================\n",
       "\n",
       "Warnings:\n",
       "[1] Standard Errors assume that the covariance matrix of the errors is correctly specified.\n",
       "\"\"\""
      ]
     },
     "execution_count": 73,
     "metadata": {},
     "output_type": "execute_result"
    }
   ],
   "source": [
    "results.summary()"
   ]
  },
  {
   "cell_type": "code",
   "execution_count": 74,
   "metadata": {},
   "outputs": [
    {
     "name": "stdout",
     "output_type": "stream",
     "text": [
      "The adfsaf asdf , F(38.000000, 1.000000) = 0.162145 , p = 0.689446\n"
     ]
    }
   ],
   "source": [
    "print(\"The adfsaf asdf , F(%f, %f) = %f , p = %f\" %(results.df_resid, \n",
    "                                                    results.df_model,\n",
    "                                                    results.fvalue, \n",
    "                                                    results.f_pvalue))"
   ]
  },
  {
   "cell_type": "code",
   "execution_count": 75,
   "metadata": {
    "scrolled": true
   },
   "outputs": [],
   "source": [
    "# Consider writing a function that writes out your results section for you!\n",
    "# You need to find the following bits of info from the above...\n",
    "\n",
    "# F(df effect, df error) = F-value, MSE = mean-square error, p-value\". \n",
    "# e.g., \"IQ scores did/didn't differ significantly between genders, F(X,XX) = XXXX, MSE = XXX, p = XXX.\n",
    "\n",
    "# You can find each of those individual bits of data by typing results. then hit tab and \n",
    "# you will be able to see all the methods that the results object contains!\n",
    "\n",
    "# For instance:\n",
    "\n",
    "#print(results.df_model)\n",
    "#print(results.df_resid)\n",
    "#print(results.fvalue)\n",
    "#print(results.f_pvalue)\n",
    "#print(results.mse_total)\n",
    "\n",
    "# Now you just need to put all that together..."
   ]
  },
  {
   "cell_type": "code",
   "execution_count": 76,
   "metadata": {},
   "outputs": [],
   "source": [
    "def res_output(dv, iv, df):\n",
    "\n",
    "        # So first make two variables that represent the IV and DV\n",
    "        x = (\"~ C(%s)\" %iv)\n",
    "        y = str(dv + x)\n",
    "        \n",
    "        # Then make the model.\n",
    "        results = ols(y, data=df).fit()\n",
    "        \n",
    "        # Then make a statement which prints out an appropriate statement \n",
    "        # based on the p-value...\n",
    "        \n",
    "        if results.f_pvalue > 0.05:\n",
    "            \n",
    "            print(\"A one-way ANOVA was conducted to compare difference in %s between %s. We found no significant difference between %s,\\\n",
    "                   F(%f, %f) = %f , p = %f\" %(dv, iv, iv,\n",
    "                                              results.df_model, \n",
    "                                              results.df_resid,\n",
    "                                              results.fvalue, \n",
    "                                              results.f_pvalue))\n",
    "        else:\n",
    "            print(\"A one-way ANOVA was conducted to compare difference in %s between %s. We found a significant difference between %s\\\n",
    "                   F(%f, %f) = %f , p = %f\" %(dv, iv, iv,\n",
    "                                              results.df_model, \n",
    "                                              results.df_resid,\n",
    "                                              results.fvalue, \n",
    "                                              results.f_pvalue))\n",
    "        \n",
    "        # If you fancy, you can tell the function to return an output such as the\n",
    "        # summary table, if so, uncomment the bottom bit below...\n",
    "        \n",
    "        return results.summary()"
   ]
  },
  {
   "cell_type": "code",
   "execution_count": 77,
   "metadata": {},
   "outputs": [
    {
     "name": "stdout",
     "output_type": "stream",
     "text": [
      "A one-way ANOVA was conducted to compare difference in VIQ between Gender. We found no significant difference between Gender,                   F(1.000000, 38.000000) = 0.596936 , p = 0.444529\n"
     ]
    },
    {
     "data": {
      "text/html": [
       "<table class=\"simpletable\">\n",
       "<caption>OLS Regression Results</caption>\n",
       "<tr>\n",
       "  <th>Dep. Variable:</th>           <td>VIQ</td>       <th>  R-squared:         </th> <td>   0.015</td>\n",
       "</tr>\n",
       "<tr>\n",
       "  <th>Model:</th>                   <td>OLS</td>       <th>  Adj. R-squared:    </th> <td>  -0.010</td>\n",
       "</tr>\n",
       "<tr>\n",
       "  <th>Method:</th>             <td>Least Squares</td>  <th>  F-statistic:       </th> <td>  0.5969</td>\n",
       "</tr>\n",
       "<tr>\n",
       "  <th>Date:</th>             <td>Fri, 11 Oct 2019</td> <th>  Prob (F-statistic):</th>  <td> 0.445</td> \n",
       "</tr>\n",
       "<tr>\n",
       "  <th>Time:</th>                 <td>09:15:19</td>     <th>  Log-Likelihood:    </th> <td> -182.42</td>\n",
       "</tr>\n",
       "<tr>\n",
       "  <th>No. Observations:</th>      <td>    40</td>      <th>  AIC:               </th> <td>   368.8</td>\n",
       "</tr>\n",
       "<tr>\n",
       "  <th>Df Residuals:</th>          <td>    38</td>      <th>  BIC:               </th> <td>   372.2</td>\n",
       "</tr>\n",
       "<tr>\n",
       "  <th>Df Model:</th>              <td>     1</td>      <th>                     </th>     <td> </td>   \n",
       "</tr>\n",
       "<tr>\n",
       "  <th>Covariance Type:</th>      <td>nonrobust</td>    <th>                     </th>     <td> </td>   \n",
       "</tr>\n",
       "</table>\n",
       "<table class=\"simpletable\">\n",
       "<tr>\n",
       "          <td></td>             <th>coef</th>     <th>std err</th>      <th>t</th>      <th>P>|t|</th>  <th>[0.025</th>    <th>0.975]</th>  \n",
       "</tr>\n",
       "<tr>\n",
       "  <th>Intercept</th>         <td>  109.4500</td> <td>    5.308</td> <td>   20.619</td> <td> 0.000</td> <td>   98.704</td> <td>  120.196</td>\n",
       "</tr>\n",
       "<tr>\n",
       "  <th>C(Gender)[T.Male]</th> <td>    5.8000</td> <td>    7.507</td> <td>    0.773</td> <td> 0.445</td> <td>   -9.397</td> <td>   20.997</td>\n",
       "</tr>\n",
       "</table>\n",
       "<table class=\"simpletable\">\n",
       "<tr>\n",
       "  <th>Omnibus:</th>       <td>26.188</td> <th>  Durbin-Watson:     </th> <td>   1.709</td>\n",
       "</tr>\n",
       "<tr>\n",
       "  <th>Prob(Omnibus):</th> <td> 0.000</td> <th>  Jarque-Bera (JB):  </th> <td>   3.703</td>\n",
       "</tr>\n",
       "<tr>\n",
       "  <th>Skew:</th>          <td> 0.010</td> <th>  Prob(JB):          </th> <td>   0.157</td>\n",
       "</tr>\n",
       "<tr>\n",
       "  <th>Kurtosis:</th>      <td> 1.510</td> <th>  Cond. No.          </th> <td>    2.62</td>\n",
       "</tr>\n",
       "</table><br/><br/>Warnings:<br/>[1] Standard Errors assume that the covariance matrix of the errors is correctly specified."
      ],
      "text/plain": [
       "<class 'statsmodels.iolib.summary.Summary'>\n",
       "\"\"\"\n",
       "                            OLS Regression Results                            \n",
       "==============================================================================\n",
       "Dep. Variable:                    VIQ   R-squared:                       0.015\n",
       "Model:                            OLS   Adj. R-squared:                 -0.010\n",
       "Method:                 Least Squares   F-statistic:                    0.5969\n",
       "Date:                Fri, 11 Oct 2019   Prob (F-statistic):              0.445\n",
       "Time:                        09:15:19   Log-Likelihood:                -182.42\n",
       "No. Observations:                  40   AIC:                             368.8\n",
       "Df Residuals:                      38   BIC:                             372.2\n",
       "Df Model:                           1                                         \n",
       "Covariance Type:            nonrobust                                         \n",
       "=====================================================================================\n",
       "                        coef    std err          t      P>|t|      [0.025      0.975]\n",
       "-------------------------------------------------------------------------------------\n",
       "Intercept           109.4500      5.308     20.619      0.000      98.704     120.196\n",
       "C(Gender)[T.Male]     5.8000      7.507      0.773      0.445      -9.397      20.997\n",
       "==============================================================================\n",
       "Omnibus:                       26.188   Durbin-Watson:                   1.709\n",
       "Prob(Omnibus):                  0.000   Jarque-Bera (JB):                3.703\n",
       "Skew:                           0.010   Prob(JB):                        0.157\n",
       "Kurtosis:                       1.510   Cond. No.                         2.62\n",
       "==============================================================================\n",
       "\n",
       "Warnings:\n",
       "[1] Standard Errors assume that the covariance matrix of the errors is correctly specified.\n",
       "\"\"\""
      ]
     },
     "execution_count": 77,
     "metadata": {},
     "output_type": "execute_result"
    }
   ],
   "source": [
    "# Now you can call your function and give it your arguments like below...\n",
    "\n",
    "res_output(dv = \"VIQ\", \n",
    "           iv = \"Gender\", \n",
    "           df = df_all) "
   ]
  }
 ],
 "metadata": {
  "kernelspec": {
   "display_name": "Python 3",
   "language": "python",
   "name": "python3"
  },
  "language_info": {
   "codemirror_mode": {
    "name": "ipython",
    "version": 3
   },
   "file_extension": ".py",
   "mimetype": "text/x-python",
   "name": "python",
   "nbconvert_exporter": "python",
   "pygments_lexer": "ipython3",
   "version": "3.7.3"
  }
 },
 "nbformat": 4,
 "nbformat_minor": 2
}
