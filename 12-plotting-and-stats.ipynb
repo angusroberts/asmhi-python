{
  "cells": [
    {
      "cell_type": "markdown",
      "metadata": {
        "id": "_X7IC5qV0qqC"
      },
      "source": [
        "# 7PAVITPR: Introduction to Statistical Programming\n",
        "# Python practical 12\n",
        "\n",
        "\n",
        "_Department of Biostatistics and Health Informatics<br/>\n",
        "Institute of Psychiatry, Psychology and Neuroscience<br/>\n",
        "King's College London<br/>_\n",
        "\n",
        "\n",
        "_Acknowledgment: based on parts of the course \"Big Data Analytics in Python\", written by Sagar Jilka, KCL_"
      ]
    },
    {
      "cell_type": "markdown",
      "metadata": {
        "id": "Ojas4TnK0qqG"
      },
      "source": [
        "# Further data handling packages: plotting and statistics\n",
        "\n",
        "This practical is a demonstration of plotting and statistics from the follwoing packages:\n",
        "\n",
        "* MatPLotlib\n",
        "* seaborn\n",
        "* SciPy\n",
        "* statsmodels\n",
        "\n",
        "There is no coding for you to do - it is a demo for you to read and run, giving examples of how to use these packages.\n",
        "\n",
        "__NB You need to run every cell!__"
      ]
    },
    {
      "cell_type": "markdown",
      "metadata": {
        "id": "CGNliX3o0qqG"
      },
      "source": [
        "# Preparing the data\n",
        "\n",
        "We will use the same brain size and IQ data sets as from practical 11. We will repeat the main code from that practical to read in the data, merge it and deal with missing values."
      ]
    },
    {
      "cell_type": "code",
      "execution_count": null,
      "metadata": {
        "id": "YrHmYAPz0qqH"
      },
      "outputs": [],
      "source": [
        "# Import pandas...\n",
        "import pandas as pd\n",
        "\n",
        "# Read in the data\n",
        "df_m = pd.read_csv('brain_clinic_measures.csv')\n",
        "df_p = pd.read_csv('brain_participant_info.csv')\n",
        "\n",
        "# Drop unwanted columns\n",
        "df_m = df_m.drop('Unnamed: 0', axis=1)\n",
        "df_p = df_p.drop('Unnamed: 0', axis=1)\n",
        "\n",
        "# create one merged DataFrame\n",
        "df_all = df_m.merge(df_p, on = ['ppt_id'], how = 'left')\n",
        "\n",
        "# Transform dataframe to means for gender\n",
        "means_for_gender = df_all.groupby(\"Gender\").transform(\"mean\", numeric_only=True)\n",
        "\n",
        "# Fill in Height and Weight NAs with mean for gender\n",
        "df_all = df_all.fillna(means_for_gender.loc[:,['Height','Weight']])\n",
        "\n",
        "# Take a look\n",
        "# df_all.head()\n",
        "df_all.describe()"
      ]
    },
    {
      "cell_type": "markdown",
      "metadata": {
        "id": "mNUf9jTb0qqK"
      },
      "source": [
        "# Plotting and visualising data"
      ]
    },
    {
      "cell_type": "markdown",
      "metadata": {
        "id": "7rTPsHgY0qqL"
      },
      "source": [
        "Start with basic bar/line plots, learning seaborn methods, and then something interactive"
      ]
    },
    {
      "cell_type": "code",
      "execution_count": null,
      "metadata": {
        "id": "c0gjj_5L0qqP"
      },
      "outputs": [],
      "source": [
        "#we need to import more libraries, notably matplotlib and seaborn\n",
        "\n",
        "import matplotlib.pyplot as plt\n",
        "from IPython.display import display\n",
        "import seaborn as sns\n",
        "\n",
        "#note the magic function below. This is important because it will allow the plots you\n",
        "#create to appear here in the notebook.\n",
        "%matplotlib inline\n"
      ]
    },
    {
      "cell_type": "code",
      "execution_count": null,
      "metadata": {
        "id": "_cFEeDrg0qqQ"
      },
      "outputs": [],
      "source": [
        "xx = df_all[\"FSIQ\"] # you can replace FSIQ with any other column.. try it\n",
        "plt.hist(xx, bins = 10);"
      ]
    },
    {
      "cell_type": "markdown",
      "metadata": {
        "id": "WV3zJTJe0qqR"
      },
      "source": [
        "Now lets consider the seaborn library, which we will use as seaborn is generally easier, and make the images much better!"
      ]
    },
    {
      "cell_type": "code",
      "execution_count": null,
      "metadata": {
        "id": "Xv04NErp0qqR"
      },
      "outputs": [],
      "source": [
        "sns.distplot(df_all['Weight'], kde=False, rug=True, bins = 10)"
      ]
    },
    {
      "cell_type": "markdown",
      "metadata": {
        "id": "ODkHKVp60qqS"
      },
      "source": [
        "We want to investigate:\n",
        "\n",
        "\n",
        "(1) Differences in IQ/brain size between men and women?\n",
        "\n",
        "(2) Any correlations?"
      ]
    },
    {
      "cell_type": "markdown",
      "metadata": {
        "id": "jCABy_3G0qqS"
      },
      "source": [
        "** Now is a good time to explore the seaborn library.\n",
        "I will show you how to use the examples and apply them to your work **"
      ]
    },
    {
      "cell_type": "code",
      "execution_count": null,
      "metadata": {
        "id": "SY-5uEjQ0qqS"
      },
      "outputs": [],
      "source": [
        "#https://seaborn.pydata.org/generated/seaborn.catplot.html?highlight=catplot#seaborn.catplot\n",
        "\n",
        "sns.catplot(data=df_all,\n",
        "            x=\"Gender\",\n",
        "            y=\"PIQ\",\n",
        "            #palette={\"Male\": \"blue\", \"Female\": \"pink\"}, # you can also specify colours!\n",
        "            kind=\"strip\"); #experiment with different kinds, e.g. “bar”, “strip”, “swarm”, “box”, “violin”, or “boxen”.\n",
        "\n"
      ]
    },
    {
      "cell_type": "code",
      "execution_count": null,
      "metadata": {
        "id": "ChZ84q-H0qqT"
      },
      "outputs": [],
      "source": [
        "# Lets add another categorical variable to the graph:\n",
        "# We want to add Diagnosed or not to the figure\n",
        "\n",
        "sns.catplot(data=df_all,\n",
        "            x=\"Gender\",\n",
        "            y=\"PIQ\",\n",
        "            hue = \"Diagnosed\",\n",
        "            #palette={\"Male\": \"blue\", \"Female\": \"pink\"}, # you can also specify colours!\n",
        "            kind=\"bar\"); #experiment with different kinds, e.g. “bar”, “strip”, “swarm”, “box”, “violin”, or “boxen”.\n",
        "\n"
      ]
    },
    {
      "cell_type": "code",
      "execution_count": null,
      "metadata": {
        "id": "5FLGix470qqU"
      },
      "outputs": [],
      "source": [
        "# Lets do some correlations and make a correlation matrix\n",
        "\n",
        "corr = df_all.corr(numeric_only=True)"
      ]
    },
    {
      "cell_type": "code",
      "execution_count": null,
      "metadata": {
        "id": "PlqD9XLv0qqV"
      },
      "outputs": [],
      "source": [
        "corr"
      ]
    },
    {
      "cell_type": "code",
      "execution_count": null,
      "metadata": {
        "id": "AD4Q-EYN0qqV"
      },
      "outputs": [],
      "source": [
        "# Now lets add some colour to help differentiate between variables\n",
        "\n",
        "corr.style.background_gradient().set_precision(2)"
      ]
    },
    {
      "cell_type": "code",
      "source": [],
      "metadata": {
        "id": "aTe5IK4lFjiV"
      },
      "execution_count": null,
      "outputs": []
    },
    {
      "cell_type": "markdown",
      "metadata": {
        "id": "uUg7KtSR0qqV"
      },
      "source": [
        "If you want to calculate pearson r then you can use the function below, don't worry about the code"
      ]
    },
    {
      "cell_type": "markdown",
      "source": [],
      "metadata": {
        "id": "ZKw02vGaO5jP"
      }
    },
    {
      "cell_type": "code",
      "execution_count": null,
      "metadata": {
        "id": "R4FLZ0p00qqW"
      },
      "outputs": [],
      "source": [
        "from scipy.stats import pearsonr\n",
        "import pandas as pd\n",
        "\n",
        "def calculate_pvalues(df):\n",
        "    df = df.dropna()._get_numeric_data()\n",
        "    dfcols = pd.DataFrame(columns=df.columns)\n",
        "    pvalues = dfcols.transpose().join(dfcols, how='outer')\n",
        "    for r in df.columns:\n",
        "        for c in df.columns:\n",
        "            pvalues[r][c] = round(pearsonr(df[r], df[c])[1], 4)\n",
        "    return pvalues"
      ]
    },
    {
      "cell_type": "code",
      "execution_count": null,
      "metadata": {
        "id": "9C5YVOJc0qqW"
      },
      "outputs": [],
      "source": [
        "calculate_pvalues(df_all)"
      ]
    },
    {
      "cell_type": "code",
      "execution_count": null,
      "metadata": {
        "id": "W0wG79d-0qqW"
      },
      "outputs": [],
      "source": [
        "#Exploring scatterplots\n",
        "\n",
        "#https://seaborn.pydata.org/generated/seaborn.scatterplot.html"
      ]
    },
    {
      "cell_type": "code",
      "execution_count": null,
      "metadata": {
        "id": "aQHlIIoQ0qqX"
      },
      "outputs": [],
      "source": [
        "sns.scatterplot(x=\"FSIQ\", y=\"PIQ\", data=df_all)"
      ]
    },
    {
      "cell_type": "code",
      "execution_count": null,
      "metadata": {
        "id": "LT_2wvOs0qqX"
      },
      "outputs": [],
      "source": [
        "#plt.figure(figsize=(10,8))\n",
        "\n",
        "sns.scatterplot(data=df_all,\n",
        "                x=\"FSIQ\",\n",
        "                y=\"PIQ\",\n",
        "                hue=\"Gender\",) #experiment with different categorical 'hues', e.g. Diagnosed\n",
        "                #size = \"Height\") # Explore what the size argument does...\n"
      ]
    },
    {
      "cell_type": "code",
      "execution_count": null,
      "metadata": {
        "id": "jBa7-wjQ0qqY"
      },
      "outputs": [],
      "source": [
        "# Saving your figures for publication\n",
        "\n",
        "# assign the code to a random variable (something like g = )\n",
        "\n",
        "g = sns.scatterplot(data=df_all,\n",
        "                x=\"FSIQ\",\n",
        "                y=\"PIQ\",\n",
        "                hue=\"Gender\",) #experiment with different categorical 'hues', e.g. Diagnosed\n",
        "                #size = \"Height\") # Explore what the size argument does...\n",
        "\n",
        "\n",
        "# Use the savefig argument and provide a filename, such as figure1.png\n",
        "# You can use keyword arguments based on your journal's submission requirements\n",
        "# For exmaple, for the British Journal of Psychiatry (https://www.cambridge.org/core/services/authors/journals/journals-artwork-guide)\n",
        "# they want images at 300dpi and ideally in TIFF format, so you can save your figure appropriately\n",
        "# So check with your submission guidelines and provide the appropriate arguments\n",
        "# Tip: for posters, you might want to use the transparancy argument\n",
        "\n",
        "g.figure.savefig(\"output.tiff\", dpi = 300, transparent=True)"
      ]
    },
    {
      "cell_type": "code",
      "execution_count": null,
      "metadata": {
        "id": "NqT2V1Mx0qqY"
      },
      "outputs": [],
      "source": [
        "df_all.head()"
      ]
    },
    {
      "cell_type": "markdown",
      "metadata": {
        "id": "_gtRgKy60qqY"
      },
      "source": [
        "# Some statistics in Python"
      ]
    },
    {
      "cell_type": "markdown",
      "metadata": {
        "id": "MCSH6u9p0qqY"
      },
      "source": [
        "##### IV = Gender (Male, Female), also Diagnoses (Yes, No)\n",
        "##### DV = IQ Scores (FSIQ, VIQ, PIQ)"
      ]
    },
    {
      "cell_type": "markdown",
      "metadata": {
        "id": "ZRJCflte0qqZ"
      },
      "source": [
        "We want to test if there is a difference in IQ measures between genders? Or \"diagnosed\"? What tests can we use?"
      ]
    },
    {
      "cell_type": "code",
      "execution_count": null,
      "metadata": {
        "id": "w-tDIJux0qqZ"
      },
      "outputs": [],
      "source": [
        "# There are two libraries (that i know of anyway) to do stats in Python - scipy and statsmodels\n",
        "\n",
        "# Lets start with scipy and we will compare the syntax and output with statsmodel\n",
        "\n",
        "# Import as below...\n",
        "\n",
        "import scipy.stats as stats"
      ]
    },
    {
      "cell_type": "code",
      "execution_count": null,
      "metadata": {
        "id": "DuqzBJZE0qqZ"
      },
      "outputs": [],
      "source": [
        "import matplotlib.pyplot as plt\n",
        "from IPython.display import display\n",
        "import seaborn as sns"
      ]
    },
    {
      "cell_type": "markdown",
      "metadata": {
        "id": "lqNdrOiQ0qqZ"
      },
      "source": [
        "### Assumption of normality\n",
        "\n",
        "#### Shapiro-wilk test (output = w test statistic, p value)"
      ]
    },
    {
      "cell_type": "code",
      "execution_count": null,
      "metadata": {
        "id": "cagF0UB60qqZ"
      },
      "outputs": [],
      "source": [
        "print(stats.shapiro(df_all[\"FSIQ\"]))\n",
        "\n",
        "# consider the difference between the above and the below commented code:\n",
        "\n",
        "print(stats.shapiro(df_all[\"FSIQ\"][df_all['Gender'] == 'Male']))"
      ]
    },
    {
      "cell_type": "code",
      "execution_count": null,
      "metadata": {
        "id": "XjbgUtPH0qqa"
      },
      "outputs": [],
      "source": [
        "# You can also test other DVs\n",
        "\n",
        "print(stats.shapiro(df_all[\"PIQ\"]))\n",
        "print(stats.shapiro(df_all[\"VIQ\"]))"
      ]
    },
    {
      "cell_type": "code",
      "execution_count": null,
      "metadata": {
        "id": "Ru2_S1xu0qqa"
      },
      "outputs": [],
      "source": [
        "# Now lets make some Q-Q Plots\n",
        "stats.probplot(df_all[\"FSIQ\"],plot= plt)\n",
        "\n",
        "# Give your figure a title\n",
        "plt.title(\"FSIQ Q-Q Plot\");"
      ]
    },
    {
      "cell_type": "code",
      "execution_count": null,
      "metadata": {
        "id": "M97HKEkJ0qqb"
      },
      "outputs": [],
      "source": [
        "# Lets make a loop and test all three of our IQ DVs in one go:\n",
        "\n",
        "# First make a list variable called cols with your DVs in it\n",
        "cols = ['FSIQ', 'PIQ', 'VIQ']\n",
        "\n",
        "# Then make a loop using the for statement. This will loop through every item in cols\n",
        "# and do you tell it to do, in this case, we are telling it to do stats.shapiro\n",
        "for i in cols:\n",
        "    print(i)\n",
        "    print(stats.shapiro(df_all[i][df_all['Gender'] == 'Male']))\n",
        "\n",
        "for i in cols:\n",
        "    stats.probplot(df_all[i][df_all['Gender'] == 'Male'], plot= plt)\n",
        "    plt.title(\"Mental Health Q-Q Plot\")\n",
        "\n",
        "print(\"\\n\\nAssumption of normality is violated as (all) the p-values are < than 0.05.\")"
      ]
    },
    {
      "cell_type": "markdown",
      "metadata": {
        "id": "b9M-dbA40qqb"
      },
      "source": [
        "##### Levene's Test"
      ]
    },
    {
      "cell_type": "code",
      "execution_count": null,
      "metadata": {
        "id": "ujSEaijQ0qqb"
      },
      "outputs": [],
      "source": [
        "levene_1 = df_all[\"PIQ\"][df_all['Gender'] == 'Male']\n",
        "levene_2 = df_all[\"PIQ\"][df_all['Gender'] == 'Female']"
      ]
    },
    {
      "cell_type": "code",
      "execution_count": null,
      "metadata": {
        "id": "4gW3zG6O0qqb"
      },
      "outputs": [],
      "source": [
        "stats.levene(levene_1, levene_2)"
      ]
    },
    {
      "cell_type": "code",
      "execution_count": null,
      "metadata": {
        "id": "zRYLPNdz0qqc"
      },
      "outputs": [],
      "source": [
        "# Lets make a quick loop so we can run a levene's test on all our DVs\n",
        "\n",
        "for i in cols:\n",
        "    print(i , ':' , stats.levene(df_all[i][df_all['Gender'] == 'Male'],\n",
        "                                 df_all[i][df_all['Gender'] == 'Female']))"
      ]
    },
    {
      "cell_type": "markdown",
      "metadata": {
        "id": "KoQzdTuV0qqg"
      },
      "source": [
        "##### ANOVA"
      ]
    },
    {
      "cell_type": "code",
      "execution_count": null,
      "metadata": {
        "id": "cofj1GB_0qqg"
      },
      "outputs": [],
      "source": [
        "# We will statsmodels because the output is better (more readable)\n",
        "\n",
        "import statsmodels.api as sm\n",
        "from statsmodels.formula.api import ols\n",
        "\n",
        "# Documentation here: https://www.statsmodels.org/stable/index.html"
      ]
    },
    {
      "cell_type": "code",
      "execution_count": null,
      "metadata": {
        "id": "qfV56GBP0qqh"
      },
      "outputs": [],
      "source": [
        "results = ols(\"FSIQ ~ C(Gender)\", data = df_all).fit()"
      ]
    },
    {
      "cell_type": "code",
      "execution_count": null,
      "metadata": {
        "id": "IRXjyZu40qqh"
      },
      "outputs": [],
      "source": [
        "results.summary()"
      ]
    },
    {
      "cell_type": "code",
      "execution_count": null,
      "metadata": {
        "id": "HtERXhkj0qqh"
      },
      "outputs": [],
      "source": [
        "print(\"The adfsaf asdf , F(%f, %f) = %f , p = %f\" %(results.df_resid,\n",
        "                                                    results.df_model,\n",
        "                                                    results.fvalue,\n",
        "                                                    results.f_pvalue))"
      ]
    },
    {
      "cell_type": "code",
      "execution_count": null,
      "metadata": {
        "scrolled": true,
        "id": "7V9IBiGM0qqh"
      },
      "outputs": [],
      "source": [
        "# Consider writing a function that writes out your results section for you!\n",
        "# You need to find the following bits of info from the above...\n",
        "\n",
        "# F(df effect, df error) = F-value, MSE = mean-square error, p-value\".\n",
        "# e.g., \"IQ scores did/didn't differ significantly between genders, F(X,XX) = XXXX, MSE = XXX, p = XXX.\n",
        "\n",
        "# You can find each of those individual bits of data by typing results. then hit tab and\n",
        "# you will be able to see all the methods that the results object contains!\n",
        "\n",
        "# For instance:\n",
        "\n",
        "#print(results.df_model)\n",
        "#print(results.df_resid)\n",
        "#print(results.fvalue)\n",
        "#print(results.f_pvalue)\n",
        "#print(results.mse_total)\n",
        "\n",
        "# Now you just need to put all that together..."
      ]
    },
    {
      "cell_type": "code",
      "execution_count": null,
      "metadata": {
        "id": "w2PTwIOM0qqi"
      },
      "outputs": [],
      "source": [
        "def res_output(dv, iv, df):\n",
        "\n",
        "        # So first make two variables that represent the IV and DV\n",
        "        x = (\"~ C(%s)\" %iv)\n",
        "        y = str(dv + x)\n",
        "\n",
        "        # Then make the model.\n",
        "        results = ols(y, data=df).fit()\n",
        "\n",
        "        # Then make a statement which prints out an appropriate statement\n",
        "        # based on the p-value...\n",
        "\n",
        "        if results.f_pvalue > 0.05:\n",
        "\n",
        "            print(\"A one-way ANOVA was conducted to compare difference in %s between %s. We found no significant difference between %s,\\\n",
        "                   F(%f, %f) = %f , p = %f\" %(dv, iv, iv,\n",
        "                                              results.df_model,\n",
        "                                              results.df_resid,\n",
        "                                              results.fvalue,\n",
        "                                              results.f_pvalue))\n",
        "        else:\n",
        "            print(\"A one-way ANOVA was conducted to compare difference in %s between %s. We found a significant difference between %s\\\n",
        "                   F(%f, %f) = %f , p = %f\" %(dv, iv, iv,\n",
        "                                              results.df_model,\n",
        "                                              results.df_resid,\n",
        "                                              results.fvalue,\n",
        "                                              results.f_pvalue))\n",
        "\n",
        "        # If you fancy, you can tell the function to return an output such as the\n",
        "        # summary table, if so, uncomment the bottom bit below...\n",
        "\n",
        "        return results.summary()"
      ]
    },
    {
      "cell_type": "code",
      "execution_count": null,
      "metadata": {
        "id": "3u65vNBo0qqj"
      },
      "outputs": [],
      "source": [
        "# Now you can call your function and give it your arguments like below...\n",
        "\n",
        "res_output(dv = \"VIQ\",\n",
        "           iv = \"Gender\",\n",
        "           df = df_all)"
      ]
    }
  ],
  "metadata": {
    "kernelspec": {
      "display_name": "Python 3",
      "language": "python",
      "name": "python3"
    },
    "language_info": {
      "codemirror_mode": {
        "name": "ipython",
        "version": 3
      },
      "file_extension": ".py",
      "mimetype": "text/x-python",
      "name": "python",
      "nbconvert_exporter": "python",
      "pygments_lexer": "ipython3",
      "version": "3.7.3"
    },
    "colab": {
      "provenance": []
    }
  },
  "nbformat": 4,
  "nbformat_minor": 0
}