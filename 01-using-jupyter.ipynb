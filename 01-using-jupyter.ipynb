{
  "nbformat": 4,
  "nbformat_minor": 0,
  "metadata": {
    "kernelspec": {
      "display_name": "Python 3",
      "language": "python",
      "name": "python3"
    },
    "language_info": {
      "codemirror_mode": {
        "name": "ipython",
        "version": 3
      },
      "file_extension": ".py",
      "mimetype": "text/x-python",
      "name": "python",
      "nbconvert_exporter": "python",
      "pygments_lexer": "ipython3",
      "version": "3.7.3"
    },
    "colab": {
      "name": "01-using-jupyter.ipynb",
      "provenance": []
    }
  },
  "cells": [
    {
      "cell_type": "markdown",
      "metadata": {
        "id": "5tZCKTFtEFNz",
        "colab_type": "text"
      },
      "source": [
        "# 7PAVITPR: Introduction to Statistical Programming\n",
        "# Python practical 1\n",
        "\n",
        "_Angus Roberts<br/>\n",
        "Department of Biostatistics and Health Informatics<br/>\n",
        "Institute of Psychiatry, Psychology and Neuroscience<br/>\n",
        "King's College London<br/>_\n",
        "\n",
        "# Using Jupyter Notebook\n",
        "\n",
        "- This is a Jupyter notebook\n",
        "- A notebook is made up of cells in series\n",
        "- This is the first cell\n",
        "- Cells can be:\n",
        "    - written in a text formatting language, called markdown, like this one\n",
        "    - Or Python code, like the next one\n",
        "- You move between cells with the arrow keys\n",
        "- Move to the next cell, and read what it says\n",
        "\n"
      ]
    },
    {
      "cell_type": "code",
      "metadata": {
        "id": "qZ6Jds9LEFN0",
        "colab_type": "code",
        "colab": {}
      },
      "source": [
        "# These hashed lines are Python comments.\n",
        "# Below them is a single line of simple Python code.\n",
        "#\n",
        "# You can run the code and move to the next cell by:\n",
        "#     - clicking the run icon on the toolbar\n",
        "#     - pressing shift+enter\n",
        "# You can run the code and stay on this cell by:\n",
        "#     - clicking the run icon to the left\n",
        "#     - pressing ctrl+enter\n",
        "#\n",
        "# There are also various menu options to run cells\n",
        "#\n",
        "# When you run the code, output will appear below the cell\n",
        "# Run the code now, look at the output, and then move to the next cell\n",
        "\n",
        "\n",
        "2+2"
      ],
      "execution_count": null,
      "outputs": []
    },
    {
      "cell_type": "markdown",
      "metadata": {
        "id": "zHWgqR9kEFN3",
        "colab_type": "text"
      },
      "source": [
        " ## Markdown\n",
        " \n",
        " - This is another markdown cell.\n",
        " - If you double click it, you can edit the markdown\n",
        " - Press ctrl+enter when you have finished editing\n",
        " \n",
        " ___Double click the cell now, to see how you write markdown___\n",
        " \n",
        " \n",
        " # A big heading\n",
        " ## Level two heading\n",
        " ### A bit smaller\n",
        " #### etc\n",
        "\n",
        "- square bullet lists\n",
        "- are written\n",
        "- line this\n",
        "\n",
        "* and round ones\n",
        "* are like this\n",
        "  - indentation\n",
        "  - is like this\n",
        "  \n",
        "  \n",
        "1. numbered lists\n",
        "1. are like this\n",
        "1. and so on\n",
        "  1. and can also\n",
        "  1. be indented\n",
        "  \n",
        "  \n",
        "_one underscore on each side of some text mean italics_\n",
        "__two means bold__\n",
        "___and three means bold+italic___\n",
        "\n",
        "\n",
        "`back ticks are used for monospaced text (such as computer code)`\n",
        "\n",
        "[and url links are like this](htts://www.kcl.ac.uk)\n",
        "\n",
        "For a full list of markdown commands, look under the help menu\n",
        "\n",
        "__Now press ctrl+enter to finish looking at the raw markdown, and move to the next cell__\n",
        "\n",
        "\n"
      ]
    },
    {
      "cell_type": "markdown",
      "metadata": {
        "id": "arMSXEiLEFN3",
        "colab_type": "text"
      },
      "source": [
        "## Your turn\n",
        "\n",
        "This is also a markdown cell. Double click and try writing some markdown.\n",
        "\n",
        "When you have done, move to the next cell."
      ]
    },
    {
      "cell_type": "code",
      "metadata": {
        "id": "GLT2nCb7EFN4",
        "colab_type": "code",
        "colab": {}
      },
      "source": [
        "# This is another code cell.\n",
        "# Write some Python code, and execute it.\n",
        "# When you have done, move to the next cell\n",
        "#\n",
        "# If you don't  think you know any Python, try some arithmetic\n",
        "\n"
      ],
      "execution_count": null,
      "outputs": []
    },
    {
      "cell_type": "markdown",
      "metadata": {
        "id": "LqaIMJnwEFN6",
        "colab_type": "text"
      },
      "source": [
        "## Clearing Python output\n",
        "\n",
        "- There are options under the _Cell_ menu to clear the output of Python cells\n",
        "- Move back to the previous cell, clear the output, and run again\n",
        "- Then move to the next cell"
      ]
    },
    {
      "cell_type": "markdown",
      "metadata": {
        "id": "a8aTKPUsEFN7",
        "colab_type": "text"
      },
      "source": [
        "## Adding cells\n",
        "\n",
        "- You can add your own cells\n",
        "- One way:\n",
        "    - use the __+__ on the toolbar\n",
        "    - then select cell type from the toolbar dropdown\n",
        "- Another way:\n",
        "    - Via the __Insert__ menu\n",
        "- The quickest way:\n",
        "    - press esc to enter _command mode_ and then:\n",
        "    - either press __a__ to insert a cell before your current one\n",
        "    - or press __b__ to insert after\n",
        "    - either press __m__ to change a cell to markdown\n",
        "    - or press __y__ to change it to code\n",
        "- There are also commands to move cells up and down\n",
        "  - on the toolbar\n",
        "  - in the __Edit__ menu\n",
        "- To cut and paste cells, you can use the menus, toolbars or\n",
        "  - esc then x\n",
        "  - esc then v\n",
        "  \n",
        "__Spend some time adding, deleting, and moving cells__\n",
        "\n",
        "__When you have done, move to the cell below titled \"More on notebooks\"__"
      ]
    },
    {
      "cell_type": "markdown",
      "metadata": {
        "id": "cqrKZj8ZEFN7",
        "colab_type": "text"
      },
      "source": [
        "## More on notebooks\n",
        "\n",
        "Some things to bear in mind:\n",
        "\n",
        "#### Kernels and running code\n",
        "\n",
        "- Python code is run in a self-contained kernel\n",
        "- When you write and run Python code in one notebook, any changes you make e.g. creating and changing variables, are available to other Python cells in the same kernel / notebook\n",
        "- If you open more than one notebook, they will run in separate kernels\n",
        "- You can stop the kernel, restart it etc if your code runs away with itself - see the toolbars and menu\n",
        "\n",
        "\n",
        "#### Saving files\n",
        "\n",
        "- This happens automatically\n",
        "- If you want to save at a particular point, then use _save and checkpoint_ - see the File menu\n",
        "- You can revert to old checkpoints - see the File menu\n",
        "\n",
        "#### Opening files\n",
        "\n",
        "- _Open_ in the File menu opens a directory browser\n",
        "- You can only browse from the directory you opened in and below\n",
        "\n",
        "#### Shutting down\n",
        "\n",
        "- Choose _Close and halt_ from the file menu, for any open notebook you want to close cleanly\n",
        "- In the terminal where you started Jupyter, press ctrl+c, then _y_ for _Yes_\n",
        "\n",
        "\n",
        "\n"
      ]
    },
    {
      "cell_type": "markdown",
      "metadata": {
        "id": "FKRZBT6vEFN7",
        "colab_type": "text"
      },
      "source": [
        "## Getting help\n",
        "\n",
        "- Use te help menu :)\n",
        "- Especially see _keyboard shortcuts_ under the help menu\n",
        "- Click the keyboard icon on the help menu for a searchable list of commands\n",
        "- ctrl+shift+f gets you the same\n",
        "\n",
        "# To find out more, Explore!"
      ]
    }
  ]
}