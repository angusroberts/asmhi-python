{
 "cells": [
  {
   "cell_type": "markdown",
   "metadata": {},
   "source": [
    "# 7PAVITPR: Introduction to Statistical Programming\n",
    "# Python practical 5\n",
    "\n",
    "_Angus Roberts<br/>\n",
    "Department of Biostatistics and Health Informatics<br/>\n",
    "Institute of Psychiatry, Psychology and Neuroscience<br/>\n",
    "King's College London<br/>_\n"
   ]
  },
  {
   "cell_type": "markdown",
   "metadata": {},
   "source": [
    "# Truth: booleans, operations and comparisons\n",
    "We have now looked at the main features of variables, and their manipulation.\n",
    "\n",
    "Up to now though, all of our programs have been linear - there has only been one path through our code, with no branching or decision points. There has been no _flow of control_.\n",
    "\n",
    "As in other programming languages, Python flow of control is based on executing one piece of code or another based on Boolean truth: is some statement true or false?\n",
    "\n",
    "Before we can consider how to control the flow of our Python programs, we therefore need to know how Python represents and manipulates Boolean truth values. Python has three built-in _constants_ that we will make use of. The first two are obvious in meaning:\n",
    "- `True`\n",
    "- `False`\n",
    "- `None` - this is the absence of any value, and is also defined to be false.\n",
    "\n",
    "Many built-in functions and methods in the standard library return truth values. Take a look at these examples:"
   ]
  },
  {
   "cell_type": "code",
   "execution_count": 1,
   "metadata": {},
   "outputs": [
    {
     "name": "stdout",
     "output_type": "stream",
     "text": [
      "False\n",
      "True\n",
      "True\n",
      "True\n",
      "False\n"
     ]
    }
   ],
   "source": [
    "print('UPPER'.islower())\n",
    "print('lower'.islower())\n",
    "print('123'.isnumeric())\n",
    "print(float(12).is_integer())\n",
    "print(float(12.1).is_integer())\n"
   ]
  },
  {
   "cell_type": "markdown",
   "metadata": {},
   "source": [
    "### Comparing values\n",
    "There are several operators that compare two values, and return True or False depending on the outcome of the comparison. Try the following to see how this works for the _equality_ operator:"
   ]
  },
  {
   "cell_type": "code",
   "execution_count": 2,
   "metadata": {},
   "outputs": [
    {
     "name": "stdout",
     "output_type": "stream",
     "text": [
      "True\n",
      "False\n"
     ]
    }
   ],
   "source": [
    "print(1==1)\n",
    "print(1==2)"
   ]
  },
  {
   "cell_type": "markdown",
   "metadata": {},
   "source": [
    "## <font color=green>❓ Question</font>\n",
    "\n",
    "Write code to demonstrate what the following operators do. Give at least one example of each, and at least one example using each of string, number, and list types:\n",
    "\n",
    "- `<`\n",
    "- `<=`\n",
    "- `>`\n",
    "- `>=`\n",
    "\n",
    "- `!=`\n",
    "\n",
    "Note that the behaviour of these operators with strings and lists may not be obvious, but it is well defined, and documented!\n",
    "\n",
    "## <font color=green>⌨️ Your answer</font>"
   ]
  },
  {
   "cell_type": "code",
   "execution_count": 2,
   "metadata": {},
   "outputs": [
    {
     "name": "stdout",
     "output_type": "stream",
     "text": [
      "True\n",
      "True\n",
      "True\n",
      "False\n",
      "True\n"
     ]
    }
   ],
   "source": [
    "# Uncomment and complete the below,\n",
    "# using a mix of strings, numbers and list\n",
    "\n",
    "print( 'abc' < 'abcd' )\n",
    "print( 1 <= 1)\n",
    "print( [1,2,3] > [1,2])\n",
    "print( 2 >= 4)\n",
    "print( 'abc'!= [1])"
   ]
  },
  {
   "cell_type": "markdown",
   "metadata": {},
   "source": [
    "### Combining truth values\n",
    "We can combine truth values with these three operators:\n",
    "\n",
    "- `x or y`\n",
    "- `x and y`\n",
    "- `not x`\n",
    "\n",
    "## <font color=green>❓ Question</font>\n",
    "\n",
    "Using Python's documentation for [sequence operations](https://docs.python.org/3/library/stdtypes.html#common-sequence-operations) and [string methods](https://docs.python.org/3/library/stdtypes.html#string-methods), write a line of code that checks whether a string is both upper case and longer than 3 characters. Print the resulting truth value constant directly.\n",
    "\n",
    "## <font color=green>⌨️ Your answer</font>"
   ]
  },
  {
   "cell_type": "code",
   "execution_count": 4,
   "metadata": {},
   "outputs": [
    {
     "name": "stdout",
     "output_type": "stream",
     "text": [
      "False\n"
     ]
    }
   ],
   "source": [
    "# Uncomment and complete the code below\n",
    "\n",
    "some_string = \"CGT\"\n",
    "print(some_string.isupper() and len(some_string)>3)"
   ]
  },
  {
   "cell_type": "markdown",
   "metadata": {},
   "source": [
    "### What is true?\n",
    "\n",
    "Every object in Python has a truth value. Most things are True, except:\n",
    "\n",
    "- the constants None and False\n",
    "- any numeric type with a value of zero (e.g. `0`, `0.0`)\n",
    "- anything with a length of zero (such as an empty string or list)\n",
    "\n",
    "## <font color=green>💬 Discussion point</font>\n",
    "Why does Python define empty lists to be false? Why might we want to test for the truth value of an empty list?\n",
    "\n",
    "## <font color=green>❓ Question</font>\n",
    "Given the following:\n",
    "- Two lists, `[1, 2, 3]` and `[]`.\n",
    "- The built-in function `bool(x)`, which tests the truth value of any object `x`\n",
    "\n",
    "Write a piece of code that prints out the truth value of either one or the other list being empty.\n",
    "\n",
    "## <font color=green>⌨️ Your answer</font>\n",
    "\n"
   ]
  },
  {
   "cell_type": "code",
   "execution_count": 8,
   "metadata": {},
   "outputs": [
    {
     "name": "stdout",
     "output_type": "stream",
     "text": [
      "[1, 2, 3]\n"
     ]
    }
   ],
   "source": [
    "# Uncomment and complete the code below\n",
    "list_a = [1,2,3]\n",
    "list_b = []\n",
    "\n",
    "print(list_a or list_b)\n",
    "#print(bool(list_a) or bool(list_b))\n"
   ]
  },
  {
   "cell_type": "markdown",
   "metadata": {},
   "source": [
    "## <font color=green>💬 Discussion point</font>\n",
    "Why did we have to use the function `bool()` in the above? What would have happened if we had not used the `bool()` function, as shown below? What is happening here?"
   ]
  },
  {
   "cell_type": "code",
   "execution_count": 9,
   "metadata": {},
   "outputs": [
    {
     "name": "stdout",
     "output_type": "stream",
     "text": [
      "True\n",
      "abcd\n",
      "-------\n",
      "False\n",
      "\n",
      "-------\n",
      "True\n",
      "xyz\n",
      "-------\n",
      "True\n",
      "True\n"
     ]
    }
   ],
   "source": [
    "something = 'abcd'\n",
    "nothing = ''\n",
    "something_else = 'xyz'\n",
    "print(bool(something or nothing))\n",
    "print(something or nothing)\n",
    "print('-------')\n",
    "print(bool(something and nothing))\n",
    "print(something and nothing)\n",
    "print('-------')\n",
    "print(bool(something and something_else))\n",
    "print(something and something_else)\n",
    "print('-------')\n",
    "print(bool(not nothing))\n",
    "print(not nothing)"
   ]
  }
 ],
 "metadata": {
  "kernelspec": {
   "display_name": "Python 3",
   "language": "python",
   "name": "python3"
  },
  "language_info": {
   "codemirror_mode": {
    "name": "ipython",
    "version": 3
   },
   "file_extension": ".py",
   "mimetype": "text/x-python",
   "name": "python",
   "nbconvert_exporter": "python",
   "pygments_lexer": "ipython3",
   "version": "3.7.3"
  }
 },
 "nbformat": 4,
 "nbformat_minor": 2
}
