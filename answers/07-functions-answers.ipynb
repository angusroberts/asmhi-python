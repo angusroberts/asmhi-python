{
 "cells": [
  {
   "cell_type": "markdown",
   "metadata": {},
   "source": [
    "# 7PAVITPR: Introduction to Statistical Programming\n",
    "# Python practical 7\n",
    "\n",
    "_Angus Roberts<br/>\n",
    "Department of Biostatistics and Health Informatics<br/>\n",
    "Institute of Psychiatry, Psychology and Neuroscience<br/>\n",
    "King's College London<br/>_\n",
    "\n"
   ]
  },
  {
   "cell_type": "markdown",
   "metadata": {},
   "source": [
    "# Defining  functions\n",
    "So far our code has not been very modular. If we wanted to reuse some piece of code, we would have to cut and paste it. It is better to break our code in to smaller pieces in order to:\n",
    "\n",
    "- reflect the component parts of the problem\n",
    "- make code available for reuse\n",
    "\n",
    "One way to modularise and reuse code is by defining our own functions, just as in R. There are other ways, which we will mention briefly later.\n",
    "\n",
    "Here is an example of a function definition, for the F1 score. This is the harmonic mean of precision and recall - a metric used in machine learning:"
   ]
  },
  {
   "cell_type": "code",
   "execution_count": 1,
   "metadata": {},
   "outputs": [],
   "source": [
    "# Compute F1 score from precision and recall\n",
    "\n",
    "def f1_score(precision, recall):\n",
    "    \"\"\"Return the F1 score, given a precision and a recall\"\"\"\n",
    "    f1 = (2 * precision * recall)/(precision + recall)\n",
    "    \n",
    "    return f1\n"
   ]
  },
  {
   "cell_type": "markdown",
   "metadata": {},
   "source": [
    "And here is some code that uses our new function:"
   ]
  },
  {
   "cell_type": "code",
   "execution_count": 2,
   "metadata": {},
   "outputs": [
    {
     "name": "stdout",
     "output_type": "stream",
     "text": [
      "[0.6381679389312978, 0.5480314960629922, 0.6755072463768117]\n"
     ]
    }
   ],
   "source": [
    "p = [0.76, 0.87, 0.79]           # A list of precisions\n",
    "r = [0.55, 0.40, 0.59]           # A list of recalls\n",
    "f1 = []                          # An empty list to put the F1s in\n",
    "\n",
    "for i, j in zip(p, r):           # Iterate over each pair of precision and recall\n",
    "    f1.append(f1_score(i, j))    # Add the F1 to the end of the list of F1s\n",
    "    \n",
    "print(f1)                        # Take a look at the answers"
   ]
  },
  {
   "cell_type": "markdown",
   "metadata": {},
   "source": [
    "The function definition is made up of the following parts:\n",
    "\n",
    "- Above the function definition is a comment which explains the function to programmers reading the code\n",
    "- The function starts with the `def` keyword\n",
    "- This is followed by the name that will be used to call the function, and its arguments in parentheses, then a colon\n",
    "- The function statements follow on the next lines, indented\n",
    "- The first line after `def ...` is an optional _document string_ or _docstring_. This is used by automated tools to compile documentation of code\n",
    "- At the end of the function, the `return` keyword precedes one or more values to return to the code that called the function\n",
    "- If no `return` is given, or if no values follow it, then `None` will be returned\n",
    "\n",
    "## <font color=green>💬 Discussion point</font>\n",
    "\n",
    "Why might you want to write a function that returns `None`? Can you think of any built-in functions that return `None`?"
   ]
  },
  {
   "cell_type": "markdown",
   "metadata": {},
   "source": [
    "## <font color=green>❓ Question</font>\n",
    "\n",
    "Write a function that\n",
    "- takes a list of numbers as an argument\n",
    "- returns a new list that has members which are:\n",
    "  - the same as the argument list, in the same order \n",
    "  - except any member with a value of zero is replaced with the mean of the non-zero members\n",
    "  \n",
    "For example,\n",
    "\n",
    "`replace_zeros([2, 4, 0, 2, 3, 0, 4])`\n",
    "\n",
    "should return:\n",
    "\n",
    "`[2, 4, 3, 2, 3, 3, 4]`\n",
    "\n",
    "(because 3 is the mean of teh non-zero members, `[2, 4, 2, 3, 4]`\n",
    "\n",
    "## <font color=green>⌨️ Your answer</font>\n"
   ]
  },
  {
   "cell_type": "code",
   "execution_count": 7,
   "metadata": {},
   "outputs": [
    {
     "name": "stdout",
     "output_type": "stream",
     "text": [
      "[2, 4, 3.0, 2, 3, 3.0, 4]\n",
      "[12.5, 14.6, 14.725000000000001, 17.3, 14.5, 14.725000000000001, 14.725000000000001]\n"
     ]
    }
   ],
   "source": [
    "# Complete the following code, replacing the text where neccesary\n",
    "\n",
    "def replace_zeros(values):\n",
    "    '''Takes a list of numbers, and returns a copy with any zero values replaced\n",
    "    by the mean of the non-zero values'''\n",
    "\n",
    "    # first iterate over the list to find the mean of the non-zero values\n",
    "    \n",
    "    total = 0                 # initialise a sum and count of non-zeros\n",
    "    count = 0\n",
    "    \n",
    "    # iterate over the list argument, summing and counting non-zero items\n",
    "    for v in values:\n",
    "        if v:\n",
    "            total = total + v\n",
    "            count = count + 1\n",
    "    \n",
    "    # mean of the non-zero values\n",
    "    mean = total / count\n",
    "\n",
    "    # this is the list we will return\n",
    "    new_list = []\n",
    "    \n",
    "    # iterate over the list argument, putting its values in new_list\n",
    "    # when they are non-zero, and putting the mean in new_list when they are zero\n",
    "    for v in values:\n",
    "        if v:\n",
    "            new_list.append(v)\n",
    "        else:\n",
    "            new_list.append(mean)\n",
    "    \n",
    "    # return the new list\n",
    "    return new_list\n",
    "\n",
    "# Some code to test it out\n",
    "print(replace_zeros([2, 4, 0, 2, 3, 0, 4]))\n",
    "print(replace_zeros([12.5, 14.6, 0, 17.3, 14.5, 0, 0]))"
   ]
  },
  {
   "cell_type": "markdown",
   "metadata": {},
   "source": [
    "### More complex function definitions\n",
    "\n",
    "There are several additional features available when defining functions. We cover two in the code below. There are others, less often used. Read the code, and run it."
   ]
  },
  {
   "cell_type": "code",
   "execution_count": 10,
   "metadata": {},
   "outputs": [
    {
     "name": "stdout",
     "output_type": "stream",
     "text": [
      "True\n",
      "True\n",
      "True\n",
      "True\n"
     ]
    }
   ],
   "source": [
    "# Find the mean of values in a list.\n",
    "# Optionally, replace None values with some specified value\n",
    "\n",
    "def mean(values, include_none=True, replace_none_with=0):\n",
    "    '''compute the mean of list members, handling None value as specified'''\n",
    "    total = 0                     # initialise our variables\n",
    "    count = 0\n",
    "    \n",
    "    for val in values:\n",
    "        if val is not None:\n",
    "            total += val            # this is shorthand for total = total + val\n",
    "            count += 1\n",
    "        elif include_none:          # the value is None, check whether we should deal with it\n",
    "            total += replace_none_with\n",
    "            count += 1\n",
    "        else:                       # this \"else\" isn't needed, including shows we have not forgotten\n",
    "            pass                    # this means do nothing\n",
    "         \n",
    "    return total / count\n",
    "\n",
    "\n",
    "# Some test assertions. Checks that results are what they should be\n",
    "# Prints True for each test that passes\n",
    "\n",
    "print( mean([2,3,4,None]) == 2.25 )\n",
    "print( mean([2,3,4,None], False) == 3.0 )\n",
    "print( mean([2,3,4,None], include_none=False) == 3.0 )\n",
    "print( mean(replace_none_with=2.5, values=[2,3,4,None]) == 2.875 )\n",
    "            \n",
    "        \n",
    "    "
   ]
  },
  {
   "cell_type": "markdown",
   "metadata": {},
   "source": [
    "\n",
    "- __Positional arguments__ We can refer to arguments by virtue of their position in the function call. This is shown in the first two tests.\n",
    "- __Keyword arguments__ We can refer to arguments with an explicit keyword, of the form _keyword=value_, as shown in the 3rd and 4th tests.\n",
    "- __Default arguments__ We can provide a default value for an argument, by specifying it in the function definition\n",
    "\n",
    "Note that you can mix positional and keyword arguments, but the positional ones must come first.\n",
    "\n",
    "The code shows some additional features, that we have not seen before:\n",
    "\n",
    "- `+=`  operator: x+=y is shorthand for x = x + y\n",
    "- `pass` is a statement that does nothing, to be used when a statement is required, but no action needed\n",
    "- __Assertions__ a simple way of testing that the code works as expected. In this case, we print out True if our test passes, False otherwise\n",
    "\n"
   ]
  },
  {
   "cell_type": "markdown",
   "metadata": {},
   "source": [
    "## <font color=green>❓ Question</font>\n",
    "\n",
    "The F1 measure described above is a specialisation of the F measure, which is defined as:\n",
    "\n",
    "`f_score = ( (1 + (beta * beta) ) * precision * recall ) / ( (beta * beta * precision) + recall )` \n",
    "\n",
    "where `beta` defines the relative weight given to precision and recall in the metric. `beta=1` for the F1 measure.\n",
    "\n",
    "Write a f_score() function, with keyword arguments for precision and recall, and an argument beta that defaults to 1. Test it with different ordering and naming of parameters, with and without defaults.\n",
    "\n",
    "## <font color=green>⌨️ Your answer</font>"
   ]
  },
  {
   "cell_type": "code",
   "execution_count": 12,
   "metadata": {},
   "outputs": [
    {
     "name": "stdout",
     "output_type": "stream",
     "text": [
      "True\n",
      "True\n",
      "True\n",
      "True\n"
     ]
    }
   ],
   "source": [
    "# Write your answer below, replacing the text where neccesary\n",
    "\n",
    "def f_score(precision, recall, beta=1):\n",
    "    '''The generalised F score'''\n",
    "    f = ((1+beta**2) * precision * recall ) / ((beta**2 * precision) + recall)\n",
    "    \n",
    "    return f\n",
    "\n",
    "# Some test assertions - you should get four Trues\n",
    "\n",
    "print( round( f_score(70,  80), 3 ) == 74.667 )\n",
    "print( round( f_score(70,  80, 1), 3 ) == 74.667 )\n",
    "print( round( f_score(70,  80, 2), 3 ) == 77.778 )\n",
    "print( round( f_score(beta=2, recall=80, precision=70), 3 ) == 77.778 )"
   ]
  }
 ],
 "metadata": {
  "kernelspec": {
   "display_name": "Python 3",
   "language": "python",
   "name": "python3"
  },
  "language_info": {
   "codemirror_mode": {
    "name": "ipython",
    "version": 3
   },
   "file_extension": ".py",
   "mimetype": "text/x-python",
   "name": "python",
   "nbconvert_exporter": "python",
   "pygments_lexer": "ipython3",
   "version": "3.7.3"
  }
 },
 "nbformat": 4,
 "nbformat_minor": 2
}
