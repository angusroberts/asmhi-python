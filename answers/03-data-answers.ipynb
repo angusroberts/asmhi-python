{
 "cells": [
  {
   "cell_type": "markdown",
   "metadata": {},
   "source": [
    "# 7PAVITPR: Introduction to Statistical Programming\n",
    "# Python practical 3\n",
    "\n",
    "_Angus Roberts<br/>\n",
    "Department of Biostatistics and Health Informatics<br/>\n",
    "Institute of Psychiatry, Psychology and Neuroscience<br/>\n",
    "King's College London<br/>_\n",
    "\n",
    "# Some data types: numbers, strings, and lists\n",
    "\n",
    "So far, we have used examples of textual and numeric data. We will now look at the main Python data types in a little more detail."
   ]
  },
  {
   "cell_type": "markdown",
   "metadata": {},
   "source": [
    "### Numbers and arithmetic\n",
    "\n",
    "- The main numeric types in Python are integers (`int`) and floating point numbers (`float`).\n",
    "- The usual arithmetic operators are supported.\n",
    "\n",
    "## <font color=green>❓ Question</font>\n",
    "- What do you get if you add two integers together? What about a float and an integer? Demonstrate by adding a line to the code below.\n",
    "\n",
    "## <font color=green>⌨️ Your answer</font>"
   ]
  },
  {
   "cell_type": "code",
   "execution_count": 3,
   "metadata": {},
   "outputs": [
    {
     "name": "stdout",
     "output_type": "stream",
     "text": [
      "int+int\t\t 2\n",
      "float*float\t 25.380000000000003\n",
      "int*int\t\t 6\n",
      "float+int\t 6.7\n"
     ]
    }
   ],
   "source": [
    "# Add your answer to this cell:\n",
    "print('int+int\\t\\t', 1+1)\n",
    "print('float*float\\t', 2.7*9.4)\n",
    "\n",
    "# my code\n",
    "print('int*int\\t\\t', 2+4)\n",
    "print('float+int\\t', 2.7+4)"
   ]
  },
  {
   "cell_type": "markdown",
   "metadata": {},
   "source": [
    "## <font color=green>❓ Question</font>\n",
    "\n",
    "Ilustrate what these operators and built-in functions do, with some simple code:\n",
    "- `/`\n",
    "- `//`\n",
    "- `%`\n",
    "- `**`\n",
    "- `divmod(x, y)`\n",
    "- `abs(x)`\n",
    "\n",
    "\n",
    "## <font color=green>⌨️ Your answer</font>"
   ]
  },
  {
   "cell_type": "code",
   "execution_count": 44,
   "metadata": {},
   "outputs": [
    {
     "name": "stdout",
     "output_type": "stream",
     "text": [
      "1.3333333333333333\n",
      "1\n",
      "2\n",
      "64\n",
      "(1, 2)\n",
      "3\n"
     ]
    }
   ],
   "source": [
    "# Write your answer in this cell:\n",
    "print(4/3)\n",
    "print(4//3)\n",
    "print(5%3)\n",
    "print(4**3)\n",
    "print(divmod(5, 3))\n",
    "print(abs(-3))\n"
   ]
  },
  {
   "cell_type": "markdown",
   "metadata": {},
   "source": [
    "### String\n",
    "\n",
    "\n",
    "The basic type used to represent text is `str`, or *string*. Up to now we have shown text literals in single quotes. You can also create them in double quotes:"
   ]
  },
  {
   "cell_type": "code",
   "execution_count": 46,
   "metadata": {},
   "outputs": [
    {
     "name": "stdout",
     "output_type": "stream",
     "text": [
      "single quotes double quotes\n",
      "there's a good point\n"
     ]
    }
   ],
   "source": [
    "a = 'single quotes'\n",
    "b = \"double quotes\"\n",
    "print(a, b)\n",
    "print( \"there's a good point\" )"
   ]
  },
  {
   "cell_type": "markdown",
   "metadata": {},
   "source": [
    "## <font color=green>💬 Discussion point</font>\n",
    "Why might you want to use one form of quotes, and not the other?\n",
    "\n",
    "## <font color=green>❓ Question</font>\n",
    "Write a piece of code to illustrate:\n",
    "- what the *escape sequences* `\\t` and `\\n` do when placed in a text string\n",
    "- What the escape sequence `\\\\` does when placed in a text string? Why do you need this last one?\n",
    "- What effect does putting the letter `r` in front of the string's opening quote mark have on escape sequences (e.g. `r'...'`?\n",
    "- Think of an example of when this might be useful\n",
    "\n",
    "\n",
    "## <font color=green>⌨️ Your answer</font>"
   ]
  },
  {
   "cell_type": "code",
   "execution_count": 50,
   "metadata": {},
   "outputs": [
    {
     "name": "stdout",
     "output_type": "stream",
     "text": [
      "\t\t xyz \n",
      "\t\t pqr\n",
      "\\t\\t xyz \\n\\t\\t pqr\n",
      "\\b\n"
     ]
    }
   ],
   "source": [
    "# Write your answer in this cell:\n",
    "print('\\t\\t','xyz','\\n\\t\\t','pqr')\n",
    "print(r'\\t\\t','xyz',r'\\n\\t\\t','pqr')\n",
    "print('\\\\b')"
   ]
  },
  {
   "cell_type": "markdown",
   "metadata": {},
   "source": [
    "**Multi-line string**\n",
    "\n",
    "You can print multi-line strings like this:"
   ]
  },
  {
   "cell_type": "code",
   "execution_count": 72,
   "metadata": {},
   "outputs": [
    {
     "name": "stdout",
     "output_type": "stream",
     "text": [
      "     This string\n",
      "     spans multiple lines\n"
     ]
    }
   ],
   "source": [
    "a_big_string = '''\\\n",
    "     This string\n",
    "     spans multiple lines'''\n",
    "print(a_big_string)"
   ]
  },
  {
   "cell_type": "markdown",
   "metadata": {},
   "source": [
    "## <font color=green>💬 Discussion point</font>\n",
    "What do you think the `\\` at the start of the above string does? Is this consistent with the treatment of escape sequences described above?"
   ]
  },
  {
   "cell_type": "markdown",
   "metadata": {},
   "source": [
    "## <font color=green>💬 Discussion point</font>\n",
    "Run the code below. What do you think `len()`, `*`, and `+` do?"
   ]
  },
  {
   "cell_type": "code",
   "execution_count": 15,
   "metadata": {},
   "outputs": [
    {
     "name": "stdout",
     "output_type": "stream",
     "text": [
      "4\n"
     ]
    }
   ],
   "source": [
    "print(len('a'*3+'h'))\n"
   ]
  },
  {
   "cell_type": "markdown",
   "metadata": {},
   "source": [
    "### Slices\n",
    "- Strings are a type of Python *sequence*.\n",
    "- You can use Python to extract parts or *slices* of sequences \n",
    "- You do this with the *bracket operator* `[n]` (also referred to as *subscript notation*)\n",
    "- Appending it to the string literal or string variable, e.g. `'hello'[1]` will return `'e'`\n"
   ]
  },
  {
   "cell_type": "markdown",
   "metadata": {},
   "source": [
    "## <font color=green>❓ Question</font>\n",
    "\n",
    "Create a string variable, and use the bracket operator `[n]` at the end of it, in a print statement. `n` is an integer.\n",
    "\n",
    "- What does a zero value of `n` return?\n",
    "- What is the largest value `n` can take?\n",
    "- What does a negative `n` do?\n",
    "- What does `[n:m]` do, where `n` and `m` are two integers?\n",
    "- What do the `n` and `m` subscripts represent?\n",
    "- What about `[n:]` and `[:n]`?\n",
    "- What does [1:10:2] do?\n",
    "- Can you explain what `some_string[4:] + some_string[:4]` does?\n",
    "\n",
    "## <font color=green>⌨️ Your answer</font>"
   ]
  },
  {
   "cell_type": "code",
   "execution_count": 24,
   "metadata": {},
   "outputs": [
    {
     "name": "stdout",
     "output_type": "stream",
     "text": [
      "N\n",
      "North face of the Uxbridge Road\n",
      " of the Uxbridge Roa\n",
      "rth face\n",
      "th face of the Uxbridge Road\n",
      "North face o\n",
      "ot ae\n",
      "h face of the Uxbridge RoadNort\n"
     ]
    }
   ],
   "source": [
    "# Expand on this code to experiment with subscript notations.\n",
    "# in order to answer the questions above:\n",
    "some_string = 'North face of the Uxbridge Road'\n",
    "print(some_string[0])\n",
    "print(some_string[0:100])\n",
    "print(some_string[10:-1])\n",
    "print(some_string[2:10])\n",
    "print(some_string[3:])\n",
    "print(some_string[:12])\n",
    "print(some_string[1:10:2])\n",
    "print(some_string[4:]+some_string[:4])"
   ]
  },
  {
   "cell_type": "markdown",
   "metadata": {},
   "source": [
    "### Typing and casting\n",
    "\n",
    "- In Python, as in many programming languages, we talk about each piece of data (e.g. variable, literal) having a *type*, which defines how it can be operated on and used by a program.\n",
    "- Strings, integers and floats are examples of types.\n",
    "\n",
    "## <font color=green>💬 Discussion point</font>\n",
    "Python is *dynamically typed*. Take a look at the example below, run the code, and see if you can work out:\n",
    "- What has happened to `some_variable`?\n",
    "- What is the function `type` doing?\n",
    "- What do we mean by *dynamically typed*?\n"
   ]
  },
  {
   "cell_type": "code",
   "execution_count": 25,
   "metadata": {},
   "outputs": [
    {
     "name": "stdout",
     "output_type": "stream",
     "text": [
      "<class 'str'>\n",
      "<class 'int'>\n"
     ]
    }
   ],
   "source": [
    "some_variable = 'a string'\n",
    "print(type(some_variable))\n",
    "\n",
    "some_variable = 1\n",
    "print(type(some_variable))\n"
   ]
  },
  {
   "cell_type": "markdown",
   "metadata": {},
   "source": [
    "## <font color=green>💬 Discussion point</font>\n",
    "\n",
    "Take a look at the two pieces of code below, and run them. Both are examples of *casting* variables. Can you explain what is happening in each?\n"
   ]
  },
  {
   "cell_type": "code",
   "execution_count": 51,
   "metadata": {},
   "outputs": [
    {
     "name": "stdout",
     "output_type": "stream",
     "text": [
      "14\n",
      "5\n",
      "5.0\n"
     ]
    }
   ],
   "source": [
    "# Casting example 1 - explain what is happening\n",
    "x = '1'\n",
    "y = '4'\n",
    "print(x + y)\n",
    "print(int(x) + int(y))\n",
    "print(float(x) + int(y))\n"
   ]
  },
  {
   "cell_type": "code",
   "execution_count": 52,
   "metadata": {},
   "outputs": [
    {
     "name": "stdout",
     "output_type": "stream",
     "text": [
      "5\n",
      "14\n"
     ]
    }
   ],
   "source": [
    "# Casting example 2 - explain what is happening\n",
    "x = 1\n",
    "y = 4\n",
    "print(x + y)\n",
    "print(str(x) + str(y))"
   ]
  },
  {
   "cell_type": "markdown",
   "metadata": {},
   "source": [
    "## <font color=green>❓ Question</font>\n",
    "\n",
    "Using the `input()` and `print()` functions and casting, write a short piece of code that asks the user to input two numbers, and prints the result of summing them.\n",
    "\n",
    "## <font color=green>⌨️ Your answer</font>"
   ]
  },
  {
   "cell_type": "code",
   "execution_count": 53,
   "metadata": {},
   "outputs": [
    {
     "name": "stdout",
     "output_type": "stream",
     "text": [
      "input 1:12\n",
      "input 2:12\n",
      "24.0\n"
     ]
    }
   ],
   "source": [
    "# Write your answer in this cell:\n",
    "x = input(\"input 1:\")\n",
    "y = input(\"input 2:\")\n",
    "print(float(x)+float(y))"
   ]
  },
  {
   "cell_type": "markdown",
   "metadata": {},
   "source": [
    "### Lists\n",
    "\n",
    "- The next data type we will look at is the `list`, which is used to group together values.\n",
    "- Data types which are made up of others are referred to as *compound types*\n",
    "- We create lists using `[]`\n",
    "- Run this code for an example:\n"
   ]
  },
  {
   "cell_type": "code",
   "execution_count": 29,
   "metadata": {},
   "outputs": [
    {
     "name": "stdout",
     "output_type": "stream",
     "text": [
      "[10, 11, 14, 9, 11, 37]\n"
     ]
    }
   ],
   "source": [
    "values = [10, 11, 14, 9, 11, 37]\n",
    "print(values)"
   ]
  },
  {
   "cell_type": "markdown",
   "metadata": {},
   "source": [
    "## <font color=green>💬 Discussion point</font>\n",
    "Take a look at the code below.\n",
    "- What does it tell us about creating lists?\n",
    "- What does it tell us about what lists can contain?"
   ]
  },
  {
   "cell_type": "code",
   "execution_count": 54,
   "metadata": {},
   "outputs": [
    {
     "name": "stdout",
     "output_type": "stream",
     "text": [
      "Here's a <class 'list'>\n",
      "\n",
      " [2, 8, 5, 'H', [14, 9]]\n",
      "\n",
      "It contains\n",
      "\n",
      "\t <class 'int'>\n",
      "\t <class 'str'>\n",
      "\t <class 'list'>\n"
     ]
    }
   ],
   "source": [
    "more_values = [1+1, 2*4, len('Hello'), 'Hello'[0], values[2:4]]\n",
    "\n",
    "print(\"Here's a\", type(more_values))\n",
    "print('\\n', more_values)\n",
    "print('\\nIt contains\\n')\n",
    "print('\\t', type(more_values[0]))\n",
    "print('\\t', type(more_values[3]))\n",
    "print('\\t', type(more_values[4]))\n"
   ]
  },
  {
   "cell_type": "markdown",
   "metadata": {},
   "source": [
    "**Lists are sequences**\n",
    "\n",
    "Like the `str` data type (strings), lists are also sequences, and so many of the  operators we used with strings, will also work with lists.\n",
    "\n",
    "## <font color=green>❓ Question</font>\n",
    "\n",
    "\n",
    "Amend the code below, using slices to create two new lists from the one given. The first should contain the first and last elements of the given list. The second should contain all of the other elements.\n",
    "\n",
    "## <font color=green>⌨️ Your answer</font>"
   ]
  },
  {
   "cell_type": "code",
   "execution_count": 58,
   "metadata": {},
   "outputs": [
    {
     "name": "stdout",
     "output_type": "stream",
     "text": [
      "[10, 37]\n",
      "[11, 14, 9, 11]\n"
     ]
    }
   ],
   "source": [
    "# Amend the code below to give your answer\n",
    "values = [10, 11, 14, 9, 11, 37]\n",
    "\n",
    "# replace each xxx and uncomment this next line\n",
    "ends = [values[0:1][0], values[-1:][0]]\n",
    "print(ends)\n",
    "\n",
    "# replace xxx and uncomment this next line\n",
    "middle = values[1:-1]\n",
    "print(middle)\n"
   ]
  },
  {
   "cell_type": "markdown",
   "metadata": {},
   "source": [
    "## <font color=green>💬 Discussion point</font>\n",
    "\n",
    "Try the following out with your above code:\n",
    "\n",
    "- What does the code do if the list has only one member?\n",
    "- What if it is an empty list?\n",
    "- Why?"
   ]
  },
  {
   "cell_type": "markdown",
   "metadata": {},
   "source": [
    "## <font color=green>❓ Question</font>\n",
    "\n",
    "Write a short piece of code to illustrate what the following slice operator does:\n",
    "\n",
    "`values[i:j:k]`\n",
    "\n",
    "## <font color=green>⌨️ Your answer</font>\n"
   ]
  },
  {
   "cell_type": "code",
   "execution_count": 59,
   "metadata": {},
   "outputs": [
    {
     "data": {
      "text/plain": [
       "[10, 14]"
      ]
     },
     "execution_count": 59,
     "metadata": {},
     "output_type": "execute_result"
    }
   ],
   "source": [
    "# Write your answer in this cell:\n",
    "values[0:4:2]"
   ]
  },
  {
   "cell_type": "markdown",
   "metadata": {},
   "source": [
    "### Mutability\n",
    "\n",
    "Lists are *mutable*. This means we can change their values, like this:\n",
    "\n",
    "`values[2] = 4`\n",
    "\n",
    "## <font color=green>❓ Question</font>\n",
    "\n",
    "Amend the code below to\n",
    "- change the last item in the list to `12`. Make sure your code will work with any length of list, by not using the actual index number of the last item.\n",
    "- replace the 4 middle items (i.e. all except first and last) with the single value `2`, giving a 3 item list\n",
    "(*hint* - try replacing the middle items with a new list, containing 1 item)\n",
    "\n",
    "## <font color=green>⌨️ Your answer</font>\n"
   ]
  },
  {
   "cell_type": "code",
   "execution_count": 71,
   "metadata": {},
   "outputs": [
    {
     "name": "stdout",
     "output_type": "stream",
     "text": [
      "[10, 11, 14, 9, 11, 12]\n",
      "[10, 2, 12]\n"
     ]
    }
   ],
   "source": [
    "# Write your answer in this cell:\n",
    "values = [10, 11, 14, 9, 11, 37]\n",
    "# Add a line here, to change the last to something else\n",
    "values[-1] = 12\n",
    "print(values)\n",
    "# Add a line here, to replace the middle 4 items with a single value,\n",
    "# to give a 3 item list \n",
    "values[1:-1] = [2]\n",
    "print(values)"
   ]
  },
  {
   "cell_type": "markdown",
   "metadata": {},
   "source": [
    "## <font color=green>💬 Discussion point</font>\n",
    "Are strings mutable? Why is Python designed this way?"
   ]
  },
  {
   "cell_type": "markdown",
   "metadata": {},
   "source": [
    "### What's in a name? Python's reference semantics\n",
    "\n",
    "Although we have used the word _variables_ quite a lot, this is lazy. Really, Python has _names_, which themselves refer not to data, but to references to that objects (data in the simlpe case) in memory.\n",
    "\n",
    "This means  several names can refer to the same piece of data.\n",
    "\n",
    "Try the following code:"
   ]
  },
  {
   "cell_type": "code",
   "execution_count": 60,
   "metadata": {},
   "outputs": [
    {
     "name": "stdout",
     "output_type": "stream",
     "text": [
      "[1, 2, 3, 4]\n",
      "[1, 2, 3, 4]\n"
     ]
    }
   ],
   "source": [
    "x = [1, 2, 3]\n",
    "y = x\n",
    "x.append(4)\n",
    "print( x )\n",
    "print( y )"
   ]
  },
  {
   "cell_type": "markdown",
   "metadata": {},
   "source": [
    "## <font color=green>💬 Discussion point</font>\n",
    "\n",
    "Can you explain what has happened in the above code?\n",
    "\n",
    "Now try the next piece of code, and explain what is happening here:"
   ]
  },
  {
   "cell_type": "code",
   "execution_count": 61,
   "metadata": {},
   "outputs": [
    {
     "name": "stdout",
     "output_type": "stream",
     "text": [
      "20\n",
      "10\n"
     ]
    }
   ],
   "source": [
    "x = 10\n",
    "y = x\n",
    "x = x + 10\n",
    "print( x )\n",
    "print( y )"
   ]
  },
  {
   "cell_type": "markdown",
   "metadata": {},
   "source": [
    "### Copying lists\n",
    "\n",
    "When we copy a list in Python, the copy is *shallow*.\n",
    "\n",
    "## <font color=green>💬 Discussion point</font>\n",
    "\n",
    "Take a look at the code below, run it, and explain what we mean by a *shallow copy*."
   ]
  },
  {
   "cell_type": "code",
   "execution_count": 62,
   "metadata": {},
   "outputs": [
    {
     "name": "stdout",
     "output_type": "stream",
     "text": [
      "['a', 'b', [1, 2, 3]]\n",
      "['a', 'b', [1, 2, 3]]\n",
      "['a', 'b', [1, 2, 3]]\n",
      "['a', 'b', [1, 2, 'c']]\n"
     ]
    }
   ],
   "source": [
    "inner = [1, 2, 3]\n",
    "outer = ['a', 'b', inner]\n",
    "\n",
    "print(outer)\n",
    "\n",
    "copy_of_outer = outer[:]\n",
    "copy_of_inner = inner[:]\n",
    "\n",
    "print(copy_of_outer)\n",
    "\n",
    "outer[2] = 'c'\n",
    "print(copy_of_outer)\n",
    "\n",
    "inner[2] = 'c'\n",
    "print(copy_of_outer)"
   ]
  }
 ],
 "metadata": {
  "kernelspec": {
   "display_name": "Python 3",
   "language": "python",
   "name": "python3"
  },
  "language_info": {
   "codemirror_mode": {
    "name": "ipython",
    "version": 3
   },
   "file_extension": ".py",
   "mimetype": "text/x-python",
   "name": "python",
   "nbconvert_exporter": "python",
   "pygments_lexer": "ipython3",
   "version": "3.7.3"
  }
 },
 "nbformat": 4,
 "nbformat_minor": 2
}
