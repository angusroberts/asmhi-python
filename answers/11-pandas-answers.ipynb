{
  "nbformat": 4,
  "nbformat_minor": 0,
  "metadata": {
    "kernelspec": {
      "display_name": "Python 3",
      "language": "python",
      "name": "python3"
    },
    "language_info": {
      "codemirror_mode": {
        "name": "ipython",
        "version": 3
      },
      "file_extension": ".py",
      "mimetype": "text/x-python",
      "name": "python",
      "nbconvert_exporter": "python",
      "pygments_lexer": "ipython3",
      "version": "3.7.3"
    },
    "colab": {
      "name": "11-pandas-answers.ipynb",
      "provenance": []
    }
  },
  "cells": [
    {
      "cell_type": "markdown",
      "metadata": {
        "id": "I63cYGe7ea43"
      },
      "source": [
        "# 7PAVITPR: Introduction to Statistical Programming\n",
        "# Python practical 11\n",
        "\n",
        "\n",
        "_Department of Biostatistics and Health Informatics<br/>\n",
        "Institute of Psychiatry, Psychology and Neuroscience<br/>\n",
        "King's College London<br/>_\n",
        "\n",
        "\n",
        "_Acknowledgment: based on parts of the course \"Big Data Analytics in Python\", written by Sagar Jilka, KCL_"
      ]
    },
    {
      "cell_type": "markdown",
      "metadata": {
        "id": "v-zwcXO_ea43"
      },
      "source": [
        "# Pandas\n",
        "\n",
        "__NOTE__ This notebook assumes the files brain_clinic_measures.csv and brain_participant_info.csv are in the same directory as the notebook. If you are using colab, you will need to upload the files to your colab session. If you are using Jupyter Notebook, you will need to make sure the files are in the same directory as the notebook.\n",
        "\n",
        "\n",
        "Python has many powerful packages to help us analyse data. Pandas is one of the most commonly used.\n",
        "\n",
        "Pandas stands for “Python Data Analysis Library”. It's great for dealing with spreadsheet-style data – by creating ‘Dataframes’. You can then easily select columns from datasets and apply functions to them.\n",
        "\n",
        "We will show how you can use pandas to manipulate and prepare data, and do some simple procesisng, using a brain volume and IQ data set. The plan is to:\n",
        "\n",
        "1. Read in two csv files for analysis\n",
        "\n",
        "2. Explore the data with pandas dataframes\n",
        "\n",
        "3. Clean and pre-process data (e.g. fill missing values)\n",
        "\n",
        "4. Compute some basic stats\n",
        "\n",
        "5. Merge datasets\n",
        "\n",
        "6. Aggregate data\n",
        "\n",
        "\n",
        "\n",
        "## <font color=green>❓ Question</font>\n",
        "Import pandas.\n",
        "\n",
        "## <font color=green>⌨️ Your answer</font>"
      ]
    },
    {
      "cell_type": "code",
      "metadata": {
        "id": "VkMyv3NNea44"
      },
      "source": [
        "# Your Anaconda Python dxaistribution comes with Pandas ready to use. \n",
        "# All you have to do to use it is ‘import’ pandas. \n",
        "# A commonly used abbreviation for Pandas is ‘pd’, and we will use this.\n",
        "\n",
        "# Import pandas...\n",
        "import pandas as pd\n",
        "\n"
      ],
      "execution_count": null,
      "outputs": []
    },
    {
      "cell_type": "markdown",
      "metadata": {
        "id": "w1Fw_aRQea47"
      },
      "source": [
        "## Data\n",
        "\n",
        "Pandas can import all sorts of files.\n",
        "\n",
        "\n",
        "## <font color=green>💬 Discussion point</font>\n",
        "\n",
        "Take a look at the [Pandas user guide](https://pandas.pydata.org/pandas-docs/stable/user_guide/index.html). What file formats are available?\n",
        "\n",
        "\n",
        "### DataFrames\n",
        "Files are read in to a `DataFrame` object. You can think of this as a table, with column headings and row numbers. Each row is a `Series` object. Much of Pandas useage is about manipulating `DataFrames` and `Series` objects.\n",
        "\n",
        "\n",
        "## <font color=green>💬 Discussion point</font>\n",
        "\n",
        "The method to read a csv file is `read_csv()`. How do you think it works?\n",
        "\n",
        "## Reading in data\n",
        "\n",
        "We will read in our fist file, a set of clinic measurements from participants in a brain study.\n",
        "\n",
        "## <font color=green>❓ Question</font>\n",
        "Using the method `read_csv()`, read the file `brain_clinic_measures.csv` in to a DataFrame called `df_m`. Apart from the file name, you shouldn't need any arguments.\n",
        "\n",
        "What object is the method going to be applied to?\n",
        "\n",
        "## <font color=green>⌨️ Your answer</font>"
      ]
    },
    {
      "cell_type": "code",
      "metadata": {
        "id": "0mFBeJnRea48"
      },
      "source": [
        "# Complete the code below, to read in the CSV file\n",
        "df_m = pd.read_csv('brain_clinic_measures.csv')\n",
        "\n"
      ],
      "execution_count": null,
      "outputs": []
    },
    {
      "cell_type": "markdown",
      "metadata": {
        "id": "2yrLUDACea4-"
      },
      "source": [
        "## Viewing data\n",
        "\n",
        "There are a few ways to look at the data. For example, for a `DataFrame` called `df`:\n",
        "\n",
        "- `print(df)` - prints the  whole lot\n",
        "- `df.ndim` -  the number of dimensions (N.B. no brackets - an attribute, not a method)\n",
        "- `df.shape` - the size of each dimension (N.B. no brackets - an attribute, not a method)\n",
        "- `df.head()` - first 5 rows\n",
        "- `df.head(3)` - first 3 rows\n",
        "- `df.tail()` - last 5 rows\n",
        "- `df.tail(3)` - last 3 rows\n",
        "- `df.dtypes` - data types of the columns (N.B. no brackets - an attribute, not a method)\n",
        "- `df.describe()` - some stats\n",
        "\n",
        "## <font color=green>❓ Question</font>\n",
        "Using these methods and attributes:\n",
        "\n",
        "- find the size of the dataset\n",
        "- find the names of the columns\n",
        "- look at some examples of the data\n",
        "- get some summary statistics\n",
        "\n",
        "In order that you see all of your results in the notebook, you will find it easier to split your code across several cells. e.g. have a cell looking at the head of the data, then a cell with other display commands. You might want to do this other parts of the exercise, too.\n",
        "\n",
        "## <font color=green>⌨️ Your answer</font>"
      ]
    },
    {
      "cell_type": "code",
      "metadata": {
        "scrolled": true,
        "id": "JT-10-MFea4-",
        "outputId": "8ff541b8-7a6d-4d13-e9ae-af88eb7617e6"
      },
      "source": [
        "# Explore the data, writing your own code to print out some of its features\n",
        "df_m.head()\n"
      ],
      "execution_count": null,
      "outputs": [
        {
          "output_type": "execute_result",
          "data": {
            "text/html": [
              "<div>\n",
              "<style scoped>\n",
              "    .dataframe tbody tr th:only-of-type {\n",
              "        vertical-align: middle;\n",
              "    }\n",
              "\n",
              "    .dataframe tbody tr th {\n",
              "        vertical-align: top;\n",
              "    }\n",
              "\n",
              "    .dataframe thead th {\n",
              "        text-align: right;\n",
              "    }\n",
              "</style>\n",
              "<table border=\"1\" class=\"dataframe\">\n",
              "  <thead>\n",
              "    <tr style=\"text-align: right;\">\n",
              "      <th></th>\n",
              "      <th>Unnamed: 0</th>\n",
              "      <th>ppt_id</th>\n",
              "      <th>FSIQ</th>\n",
              "      <th>VIQ</th>\n",
              "      <th>PIQ</th>\n",
              "      <th>MRI_Count</th>\n",
              "    </tr>\n",
              "  </thead>\n",
              "  <tbody>\n",
              "    <tr>\n",
              "      <th>0</th>\n",
              "      <td>0</td>\n",
              "      <td>1</td>\n",
              "      <td>133</td>\n",
              "      <td>132</td>\n",
              "      <td>124</td>\n",
              "      <td>816932</td>\n",
              "    </tr>\n",
              "    <tr>\n",
              "      <th>1</th>\n",
              "      <td>1</td>\n",
              "      <td>2</td>\n",
              "      <td>140</td>\n",
              "      <td>150</td>\n",
              "      <td>124</td>\n",
              "      <td>1001121</td>\n",
              "    </tr>\n",
              "    <tr>\n",
              "      <th>2</th>\n",
              "      <td>2</td>\n",
              "      <td>3</td>\n",
              "      <td>139</td>\n",
              "      <td>123</td>\n",
              "      <td>150</td>\n",
              "      <td>1038437</td>\n",
              "    </tr>\n",
              "    <tr>\n",
              "      <th>3</th>\n",
              "      <td>3</td>\n",
              "      <td>4</td>\n",
              "      <td>133</td>\n",
              "      <td>129</td>\n",
              "      <td>128</td>\n",
              "      <td>965353</td>\n",
              "    </tr>\n",
              "    <tr>\n",
              "      <th>4</th>\n",
              "      <td>4</td>\n",
              "      <td>5</td>\n",
              "      <td>137</td>\n",
              "      <td>132</td>\n",
              "      <td>134</td>\n",
              "      <td>951545</td>\n",
              "    </tr>\n",
              "  </tbody>\n",
              "</table>\n",
              "</div>"
            ],
            "text/plain": [
              "   Unnamed: 0  ppt_id  FSIQ  VIQ  PIQ  MRI_Count\n",
              "0           0       1   133  132  124     816932\n",
              "1           1       2   140  150  124    1001121\n",
              "2           2       3   139  123  150    1038437\n",
              "3           3       4   133  129  128     965353\n",
              "4           4       5   137  132  134     951545"
            ]
          },
          "metadata": {
            "tags": []
          },
          "execution_count": 3
        }
      ]
    },
    {
      "cell_type": "code",
      "metadata": {
        "id": "vk7ASjTSea5B",
        "outputId": "75f0a35a-cd0b-4760-a1b0-f992c250f77a"
      },
      "source": [
        "df_m.tail()"
      ],
      "execution_count": null,
      "outputs": [
        {
          "output_type": "execute_result",
          "data": {
            "text/html": [
              "<div>\n",
              "<style scoped>\n",
              "    .dataframe tbody tr th:only-of-type {\n",
              "        vertical-align: middle;\n",
              "    }\n",
              "\n",
              "    .dataframe tbody tr th {\n",
              "        vertical-align: top;\n",
              "    }\n",
              "\n",
              "    .dataframe thead th {\n",
              "        text-align: right;\n",
              "    }\n",
              "</style>\n",
              "<table border=\"1\" class=\"dataframe\">\n",
              "  <thead>\n",
              "    <tr style=\"text-align: right;\">\n",
              "      <th></th>\n",
              "      <th>Unnamed: 0</th>\n",
              "      <th>ppt_id</th>\n",
              "      <th>FSIQ</th>\n",
              "      <th>VIQ</th>\n",
              "      <th>PIQ</th>\n",
              "      <th>MRI_Count</th>\n",
              "    </tr>\n",
              "  </thead>\n",
              "  <tbody>\n",
              "    <tr>\n",
              "      <th>35</th>\n",
              "      <td>35</td>\n",
              "      <td>36</td>\n",
              "      <td>133</td>\n",
              "      <td>129</td>\n",
              "      <td>128</td>\n",
              "      <td>948066</td>\n",
              "    </tr>\n",
              "    <tr>\n",
              "      <th>36</th>\n",
              "      <td>36</td>\n",
              "      <td>37</td>\n",
              "      <td>140</td>\n",
              "      <td>150</td>\n",
              "      <td>124</td>\n",
              "      <td>949395</td>\n",
              "    </tr>\n",
              "    <tr>\n",
              "      <th>37</th>\n",
              "      <td>37</td>\n",
              "      <td>38</td>\n",
              "      <td>88</td>\n",
              "      <td>86</td>\n",
              "      <td>94</td>\n",
              "      <td>893983</td>\n",
              "    </tr>\n",
              "    <tr>\n",
              "      <th>38</th>\n",
              "      <td>38</td>\n",
              "      <td>39</td>\n",
              "      <td>81</td>\n",
              "      <td>90</td>\n",
              "      <td>74</td>\n",
              "      <td>930016</td>\n",
              "    </tr>\n",
              "    <tr>\n",
              "      <th>39</th>\n",
              "      <td>39</td>\n",
              "      <td>40</td>\n",
              "      <td>89</td>\n",
              "      <td>91</td>\n",
              "      <td>89</td>\n",
              "      <td>935863</td>\n",
              "    </tr>\n",
              "  </tbody>\n",
              "</table>\n",
              "</div>"
            ],
            "text/plain": [
              "    Unnamed: 0  ppt_id  FSIQ  VIQ  PIQ  MRI_Count\n",
              "35          35      36   133  129  128     948066\n",
              "36          36      37   140  150  124     949395\n",
              "37          37      38    88   86   94     893983\n",
              "38          38      39    81   90   74     930016\n",
              "39          39      40    89   91   89     935863"
            ]
          },
          "metadata": {
            "tags": []
          },
          "execution_count": 4
        }
      ]
    },
    {
      "cell_type": "code",
      "metadata": {
        "id": "R-r7CeIBea5D",
        "outputId": "ec2779c7-dc65-4994-b052-25045f951dd9"
      },
      "source": [
        "print('Shape:', df_m.shape, '\\n')\n",
        "print('Columns:\\n', df_m.dtypes, '\\n', sep='')\n",
        "print(df_m.describe())"
      ],
      "execution_count": null,
      "outputs": [
        {
          "output_type": "stream",
          "text": [
            "Shape: (40, 6) \n",
            "\n",
            "Columns:\n",
            "Unnamed: 0    int64\n",
            "ppt_id        int64\n",
            "FSIQ          int64\n",
            "VIQ           int64\n",
            "PIQ           int64\n",
            "MRI_Count     int64\n",
            "dtype: object\n",
            "\n",
            "       Unnamed: 0     ppt_id        FSIQ         VIQ        PIQ     MRI_Count\n",
            "count   40.000000  40.000000   40.000000   40.000000   40.00000  4.000000e+01\n",
            "mean    19.500000  20.500000  113.450000  112.350000  111.02500  9.087550e+05\n",
            "std     11.690452  11.690452   24.082071   23.616107   22.47105  7.228205e+04\n",
            "min      0.000000   1.000000   77.000000   71.000000   72.00000  7.906190e+05\n",
            "25%      9.750000  10.750000   89.750000   90.000000   88.25000  8.559185e+05\n",
            "50%     19.500000  20.500000  116.500000  113.000000  115.00000  9.053990e+05\n",
            "75%     29.250000  30.250000  135.500000  129.750000  128.00000  9.500780e+05\n",
            "max     39.000000  40.000000  144.000000  150.000000  150.00000  1.079549e+06\n"
          ],
          "name": "stdout"
        }
      ]
    },
    {
      "cell_type": "markdown",
      "metadata": {
        "id": "79W7JQ0Vea5F"
      },
      "source": [
        "## Selecting data\n",
        "\n",
        "There are multiple ways to select data. The simplest uses slices or column names. Look at the following two examples and try them:"
      ]
    },
    {
      "cell_type": "code",
      "metadata": {
        "id": "_xhtx9bgea5G",
        "outputId": "fad6e137-c14e-45d1-be80-031b7bd8ae56"
      },
      "source": [
        "# Some examples of selecting data\n",
        "\n",
        "# select some rows: a slice\n",
        "df_m[0:10:2]"
      ],
      "execution_count": null,
      "outputs": [
        {
          "output_type": "execute_result",
          "data": {
            "text/html": [
              "<div>\n",
              "<style scoped>\n",
              "    .dataframe tbody tr th:only-of-type {\n",
              "        vertical-align: middle;\n",
              "    }\n",
              "\n",
              "    .dataframe tbody tr th {\n",
              "        vertical-align: top;\n",
              "    }\n",
              "\n",
              "    .dataframe thead th {\n",
              "        text-align: right;\n",
              "    }\n",
              "</style>\n",
              "<table border=\"1\" class=\"dataframe\">\n",
              "  <thead>\n",
              "    <tr style=\"text-align: right;\">\n",
              "      <th></th>\n",
              "      <th>Unnamed: 0</th>\n",
              "      <th>ppt_id</th>\n",
              "      <th>FSIQ</th>\n",
              "      <th>VIQ</th>\n",
              "      <th>PIQ</th>\n",
              "      <th>MRI_Count</th>\n",
              "    </tr>\n",
              "  </thead>\n",
              "  <tbody>\n",
              "    <tr>\n",
              "      <th>0</th>\n",
              "      <td>0</td>\n",
              "      <td>1</td>\n",
              "      <td>133</td>\n",
              "      <td>132</td>\n",
              "      <td>124</td>\n",
              "      <td>816932</td>\n",
              "    </tr>\n",
              "    <tr>\n",
              "      <th>2</th>\n",
              "      <td>2</td>\n",
              "      <td>3</td>\n",
              "      <td>139</td>\n",
              "      <td>123</td>\n",
              "      <td>150</td>\n",
              "      <td>1038437</td>\n",
              "    </tr>\n",
              "    <tr>\n",
              "      <th>4</th>\n",
              "      <td>4</td>\n",
              "      <td>5</td>\n",
              "      <td>137</td>\n",
              "      <td>132</td>\n",
              "      <td>134</td>\n",
              "      <td>951545</td>\n",
              "    </tr>\n",
              "    <tr>\n",
              "      <th>6</th>\n",
              "      <td>6</td>\n",
              "      <td>7</td>\n",
              "      <td>138</td>\n",
              "      <td>136</td>\n",
              "      <td>131</td>\n",
              "      <td>991305</td>\n",
              "    </tr>\n",
              "    <tr>\n",
              "      <th>8</th>\n",
              "      <td>8</td>\n",
              "      <td>9</td>\n",
              "      <td>89</td>\n",
              "      <td>93</td>\n",
              "      <td>84</td>\n",
              "      <td>904858</td>\n",
              "    </tr>\n",
              "  </tbody>\n",
              "</table>\n",
              "</div>"
            ],
            "text/plain": [
              "   Unnamed: 0  ppt_id  FSIQ  VIQ  PIQ  MRI_Count\n",
              "0           0       1   133  132  124     816932\n",
              "2           2       3   139  123  150    1038437\n",
              "4           4       5   137  132  134     951545\n",
              "6           6       7   138  136  131     991305\n",
              "8           8       9    89   93   84     904858"
            ]
          },
          "metadata": {
            "tags": []
          },
          "execution_count": 6
        }
      ]
    },
    {
      "cell_type": "code",
      "metadata": {
        "id": "zP2Q1Qeyea5I",
        "outputId": "9db1b09a-5c01-4e3f-f0e5-594db1410d08"
      },
      "source": [
        "# Some examples of selecting data\n",
        "\n",
        "# select a column: using an attribute for a column name\n",
        "# (we've added head(3) for compact output)\n",
        "df_m.PIQ.head(3)"
      ],
      "execution_count": null,
      "outputs": [
        {
          "output_type": "execute_result",
          "data": {
            "text/plain": [
              "0    124\n",
              "1    124\n",
              "2    150\n",
              "Name: PIQ, dtype: int64"
            ]
          },
          "metadata": {
            "tags": []
          },
          "execution_count": 7
        }
      ]
    },
    {
      "cell_type": "code",
      "metadata": {
        "id": "M1KlpLurea5K",
        "outputId": "5b9d6087-14e7-448f-8e63-23eec856dccb"
      },
      "source": [
        "# Some examples of selecting data\n",
        "\n",
        "# select several columns: using a list of column names\n",
        "# (we've added head(3) for compact output)\n",
        "df_m[['ppt_id', 'PIQ', 'VIQ']].head(3)"
      ],
      "execution_count": null,
      "outputs": [
        {
          "output_type": "execute_result",
          "data": {
            "text/html": [
              "<div>\n",
              "<style scoped>\n",
              "    .dataframe tbody tr th:only-of-type {\n",
              "        vertical-align: middle;\n",
              "    }\n",
              "\n",
              "    .dataframe tbody tr th {\n",
              "        vertical-align: top;\n",
              "    }\n",
              "\n",
              "    .dataframe thead th {\n",
              "        text-align: right;\n",
              "    }\n",
              "</style>\n",
              "<table border=\"1\" class=\"dataframe\">\n",
              "  <thead>\n",
              "    <tr style=\"text-align: right;\">\n",
              "      <th></th>\n",
              "      <th>ppt_id</th>\n",
              "      <th>PIQ</th>\n",
              "      <th>VIQ</th>\n",
              "    </tr>\n",
              "  </thead>\n",
              "  <tbody>\n",
              "    <tr>\n",
              "      <th>0</th>\n",
              "      <td>1</td>\n",
              "      <td>124</td>\n",
              "      <td>132</td>\n",
              "    </tr>\n",
              "    <tr>\n",
              "      <th>1</th>\n",
              "      <td>2</td>\n",
              "      <td>124</td>\n",
              "      <td>150</td>\n",
              "    </tr>\n",
              "    <tr>\n",
              "      <th>2</th>\n",
              "      <td>3</td>\n",
              "      <td>150</td>\n",
              "      <td>123</td>\n",
              "    </tr>\n",
              "  </tbody>\n",
              "</table>\n",
              "</div>"
            ],
            "text/plain": [
              "   ppt_id  PIQ  VIQ\n",
              "0       1  124  132\n",
              "1       2  124  150\n",
              "2       3  150  123"
            ]
          },
          "metadata": {
            "tags": []
          },
          "execution_count": 8
        }
      ]
    },
    {
      "cell_type": "markdown",
      "metadata": {
        "id": "kbNxa8CRea5M"
      },
      "source": [
        "## <font color=green>💬 Discussion point</font>\n",
        "\n",
        "- What does the first of the above examples do?\n",
        "- What type of object does the first and third examples return?\n",
        "\n",
        "\n",
        "The second example returns a single column, which is one dimensional."
      ]
    },
    {
      "cell_type": "markdown",
      "metadata": {
        "id": "jo9VuQBjea5N"
      },
      "source": [
        "### Series\n",
        "\n",
        "One dimensional data objects in Pandas are modelled by class `Series`. Examples are:\n",
        "\n",
        "- single columns from DataFrames\n",
        "- single rows from DataFrames\n",
        "\n",
        "The `Series` class supports a large number of methods. Examples include:\n",
        "\n",
        "- `sum()`\n",
        "- `mean()`\n",
        "- `count()`\n",
        "- `max()`\n",
        "- `min()`\n",
        "- `nunique()`\n",
        "- `fillna()`\n",
        "\n",
        "See [the documentation](https://pandas.pydata.org/pandas-docs/stable/reference/series.html) for a full list.\n",
        "\n",
        "## <font color=green>💬 Discussion point</font>\n",
        "Most of the above `Series` methods are self-explanatory. But what to the last two, `nunique()` and `fillna()` do?"
      ]
    },
    {
      "cell_type": "markdown",
      "metadata": {
        "id": "Hn_kgX3Lea5N"
      },
      "source": [
        "## Combining selection operators\n",
        "\n",
        "We can combine the above operators, for example:"
      ]
    },
    {
      "cell_type": "code",
      "metadata": {
        "id": "gPa_kDOCea5O",
        "outputId": "a0d632ed-64a6-4ac6-aecf-9cdb52058319"
      },
      "source": [
        "# Get a slice of one column\n",
        "\n",
        "df_m.PIQ[0:10:2]"
      ],
      "execution_count": null,
      "outputs": [
        {
          "output_type": "execute_result",
          "data": {
            "text/plain": [
              "0    124\n",
              "2    150\n",
              "4    134\n",
              "6    131\n",
              "8     84\n",
              "Name: PIQ, dtype: int64"
            ]
          },
          "metadata": {
            "tags": []
          },
          "execution_count": 9
        }
      ]
    },
    {
      "cell_type": "code",
      "metadata": {
        "id": "DVZZtM7Bea5Q",
        "outputId": "67d8d043-81cc-43af-9b4b-ff6f9385deb7"
      },
      "source": [
        "# Get one column of a slice\n",
        "\n",
        "df_m[0:10:2].PIQ"
      ],
      "execution_count": null,
      "outputs": [
        {
          "output_type": "execute_result",
          "data": {
            "text/plain": [
              "0    124\n",
              "2    150\n",
              "4    134\n",
              "6    131\n",
              "8     84\n",
              "Name: PIQ, dtype: int64"
            ]
          },
          "metadata": {
            "tags": []
          },
          "execution_count": 10
        }
      ]
    },
    {
      "cell_type": "markdown",
      "metadata": {
        "id": "Jv5mbqllea5S"
      },
      "source": [
        "## <font color=green>❓ Question</font>\n",
        "Write a statement that selects every other row from the 1st to the 9th, for just columns ppt_id, PIQ and VIQ\n",
        "\n",
        "## <font color=green>⌨️ Your answer</font>"
      ]
    },
    {
      "cell_type": "code",
      "metadata": {
        "id": "e37tcf9Mea5S",
        "outputId": "daa6e0eb-a636-4231-ae31-4707122f6072"
      },
      "source": [
        "# Write your answer below\n",
        "df_m[0:10:2][['ppt_id', 'PIQ', 'VIQ']]\n",
        "\n",
        "\n"
      ],
      "execution_count": null,
      "outputs": [
        {
          "output_type": "execute_result",
          "data": {
            "text/html": [
              "<div>\n",
              "<style scoped>\n",
              "    .dataframe tbody tr th:only-of-type {\n",
              "        vertical-align: middle;\n",
              "    }\n",
              "\n",
              "    .dataframe tbody tr th {\n",
              "        vertical-align: top;\n",
              "    }\n",
              "\n",
              "    .dataframe thead th {\n",
              "        text-align: right;\n",
              "    }\n",
              "</style>\n",
              "<table border=\"1\" class=\"dataframe\">\n",
              "  <thead>\n",
              "    <tr style=\"text-align: right;\">\n",
              "      <th></th>\n",
              "      <th>ppt_id</th>\n",
              "      <th>PIQ</th>\n",
              "      <th>VIQ</th>\n",
              "    </tr>\n",
              "  </thead>\n",
              "  <tbody>\n",
              "    <tr>\n",
              "      <th>0</th>\n",
              "      <td>1</td>\n",
              "      <td>124</td>\n",
              "      <td>132</td>\n",
              "    </tr>\n",
              "    <tr>\n",
              "      <th>2</th>\n",
              "      <td>3</td>\n",
              "      <td>150</td>\n",
              "      <td>123</td>\n",
              "    </tr>\n",
              "    <tr>\n",
              "      <th>4</th>\n",
              "      <td>5</td>\n",
              "      <td>134</td>\n",
              "      <td>132</td>\n",
              "    </tr>\n",
              "    <tr>\n",
              "      <th>6</th>\n",
              "      <td>7</td>\n",
              "      <td>131</td>\n",
              "      <td>136</td>\n",
              "    </tr>\n",
              "    <tr>\n",
              "      <th>8</th>\n",
              "      <td>9</td>\n",
              "      <td>84</td>\n",
              "      <td>93</td>\n",
              "    </tr>\n",
              "  </tbody>\n",
              "</table>\n",
              "</div>"
            ],
            "text/plain": [
              "   ppt_id  PIQ  VIQ\n",
              "0       1  124  132\n",
              "2       3  150  123\n",
              "4       5  134  132\n",
              "6       7  131  136\n",
              "8       9   84   93"
            ]
          },
          "metadata": {
            "tags": []
          },
          "execution_count": 11
        }
      ]
    },
    {
      "cell_type": "markdown",
      "metadata": {
        "id": "3ZCjt8BRea5U"
      },
      "source": [
        "## Better selection\n",
        "\n",
        "Although the above selection methods are intuitive to use in a notebook, they are also inneficient, and so best not used for production code. Pandas data objects also have attributes that give access to faster indexes - known as _location based indexes_. These hold additional information, and optimised access to the underlying data.\n",
        "\n",
        "The two attributes are:\n",
        "\n",
        "- `loc` - use this for selection by label\n",
        "- `iloc` - use this for selection by index number\n",
        "\n",
        "These are used with _indexers_, which are placed in square brackets and look very much like slice operators:\n",
        "\n",
        "- `Series`\t- `s.loc[indexer]`\n",
        "- `DataFrame`\t- `df.loc[row_indexer,column_indexer]`\n",
        "\n",
        "(the same works for iloc)\n",
        "\n",
        "Examples of indexers are:\n",
        "\n",
        "- explicit index of a row - `2`\n",
        "- lists of explicit column indices - `[1, 4, 5]`\n",
        "- column names - `ppt_id`\n",
        "- lists of column names - `['ppt_id', 'PIQ']`\n",
        "- slices of rows - `2:10:2`\n",
        "\n",
        "Below are a couple of examples: try them.\n"
      ]
    },
    {
      "cell_type": "code",
      "metadata": {
        "id": "RDDN0NU3ea5V",
        "outputId": "f1f1458a-65dd-4f64-d0f0-d35ec3d1a6f4"
      },
      "source": [
        "# selecting just columns - select everything with the row indexer\n",
        "df_m.iloc[:,[1,2,3]].head(3)"
      ],
      "execution_count": null,
      "outputs": [
        {
          "output_type": "execute_result",
          "data": {
            "text/html": [
              "<div>\n",
              "<style scoped>\n",
              "    .dataframe tbody tr th:only-of-type {\n",
              "        vertical-align: middle;\n",
              "    }\n",
              "\n",
              "    .dataframe tbody tr th {\n",
              "        vertical-align: top;\n",
              "    }\n",
              "\n",
              "    .dataframe thead th {\n",
              "        text-align: right;\n",
              "    }\n",
              "</style>\n",
              "<table border=\"1\" class=\"dataframe\">\n",
              "  <thead>\n",
              "    <tr style=\"text-align: right;\">\n",
              "      <th></th>\n",
              "      <th>ppt_id</th>\n",
              "      <th>FSIQ</th>\n",
              "      <th>VIQ</th>\n",
              "    </tr>\n",
              "  </thead>\n",
              "  <tbody>\n",
              "    <tr>\n",
              "      <th>0</th>\n",
              "      <td>1</td>\n",
              "      <td>133</td>\n",
              "      <td>132</td>\n",
              "    </tr>\n",
              "    <tr>\n",
              "      <th>1</th>\n",
              "      <td>2</td>\n",
              "      <td>140</td>\n",
              "      <td>150</td>\n",
              "    </tr>\n",
              "    <tr>\n",
              "      <th>2</th>\n",
              "      <td>3</td>\n",
              "      <td>139</td>\n",
              "      <td>123</td>\n",
              "    </tr>\n",
              "  </tbody>\n",
              "</table>\n",
              "</div>"
            ],
            "text/plain": [
              "   ppt_id  FSIQ  VIQ\n",
              "0       1   133  132\n",
              "1       2   140  150\n",
              "2       3   139  123"
            ]
          },
          "metadata": {
            "tags": []
          },
          "execution_count": 12
        }
      ]
    },
    {
      "cell_type": "code",
      "metadata": {
        "id": "U0jpv2Nqea5X",
        "outputId": "97a39c7f-18df-4722-c335-80a78d03d1f6"
      },
      "source": [
        "# selecting just rows\n",
        "df_m.iloc[4:7]"
      ],
      "execution_count": null,
      "outputs": [
        {
          "output_type": "execute_result",
          "data": {
            "text/html": [
              "<div>\n",
              "<style scoped>\n",
              "    .dataframe tbody tr th:only-of-type {\n",
              "        vertical-align: middle;\n",
              "    }\n",
              "\n",
              "    .dataframe tbody tr th {\n",
              "        vertical-align: top;\n",
              "    }\n",
              "\n",
              "    .dataframe thead th {\n",
              "        text-align: right;\n",
              "    }\n",
              "</style>\n",
              "<table border=\"1\" class=\"dataframe\">\n",
              "  <thead>\n",
              "    <tr style=\"text-align: right;\">\n",
              "      <th></th>\n",
              "      <th>Unnamed: 0</th>\n",
              "      <th>ppt_id</th>\n",
              "      <th>FSIQ</th>\n",
              "      <th>VIQ</th>\n",
              "      <th>PIQ</th>\n",
              "      <th>MRI_Count</th>\n",
              "    </tr>\n",
              "  </thead>\n",
              "  <tbody>\n",
              "    <tr>\n",
              "      <th>4</th>\n",
              "      <td>4</td>\n",
              "      <td>5</td>\n",
              "      <td>137</td>\n",
              "      <td>132</td>\n",
              "      <td>134</td>\n",
              "      <td>951545</td>\n",
              "    </tr>\n",
              "    <tr>\n",
              "      <th>5</th>\n",
              "      <td>5</td>\n",
              "      <td>6</td>\n",
              "      <td>99</td>\n",
              "      <td>90</td>\n",
              "      <td>110</td>\n",
              "      <td>928799</td>\n",
              "    </tr>\n",
              "    <tr>\n",
              "      <th>6</th>\n",
              "      <td>6</td>\n",
              "      <td>7</td>\n",
              "      <td>138</td>\n",
              "      <td>136</td>\n",
              "      <td>131</td>\n",
              "      <td>991305</td>\n",
              "    </tr>\n",
              "  </tbody>\n",
              "</table>\n",
              "</div>"
            ],
            "text/plain": [
              "   Unnamed: 0  ppt_id  FSIQ  VIQ  PIQ  MRI_Count\n",
              "4           4       5   137  132  134     951545\n",
              "5           5       6    99   90  110     928799\n",
              "6           6       7   138  136  131     991305"
            ]
          },
          "metadata": {
            "tags": []
          },
          "execution_count": 13
        }
      ]
    },
    {
      "cell_type": "markdown",
      "metadata": {
        "id": "1tbLWyAjea5Z"
      },
      "source": [
        "## <font color=green>❓ Question</font>\n",
        "Write a statement that uses loc to select the 10th to 15th rows for columns ppt_id and MRI_Count\n",
        "\n",
        "## <font color=green>⌨️ Your answer</font>"
      ]
    },
    {
      "cell_type": "code",
      "metadata": {
        "id": "1lANt9Byea5a",
        "outputId": "5a3f3476-0a31-4bee-cd1d-17c07d0bcfc4"
      },
      "source": [
        "# Write your answer here\n",
        "df_m.loc[9:14,['ppt_id', 'MRI_Count']]"
      ],
      "execution_count": null,
      "outputs": [
        {
          "output_type": "execute_result",
          "data": {
            "text/html": [
              "<div>\n",
              "<style scoped>\n",
              "    .dataframe tbody tr th:only-of-type {\n",
              "        vertical-align: middle;\n",
              "    }\n",
              "\n",
              "    .dataframe tbody tr th {\n",
              "        vertical-align: top;\n",
              "    }\n",
              "\n",
              "    .dataframe thead th {\n",
              "        text-align: right;\n",
              "    }\n",
              "</style>\n",
              "<table border=\"1\" class=\"dataframe\">\n",
              "  <thead>\n",
              "    <tr style=\"text-align: right;\">\n",
              "      <th></th>\n",
              "      <th>ppt_id</th>\n",
              "      <th>MRI_Count</th>\n",
              "    </tr>\n",
              "  </thead>\n",
              "  <tbody>\n",
              "    <tr>\n",
              "      <th>9</th>\n",
              "      <td>10</td>\n",
              "      <td>955466</td>\n",
              "    </tr>\n",
              "    <tr>\n",
              "      <th>10</th>\n",
              "      <td>11</td>\n",
              "      <td>833868</td>\n",
              "    </tr>\n",
              "    <tr>\n",
              "      <th>11</th>\n",
              "      <td>12</td>\n",
              "      <td>1079549</td>\n",
              "    </tr>\n",
              "    <tr>\n",
              "      <th>12</th>\n",
              "      <td>13</td>\n",
              "      <td>924059</td>\n",
              "    </tr>\n",
              "    <tr>\n",
              "      <th>13</th>\n",
              "      <td>14</td>\n",
              "      <td>856472</td>\n",
              "    </tr>\n",
              "    <tr>\n",
              "      <th>14</th>\n",
              "      <td>15</td>\n",
              "      <td>878897</td>\n",
              "    </tr>\n",
              "  </tbody>\n",
              "</table>\n",
              "</div>"
            ],
            "text/plain": [
              "    ppt_id  MRI_Count\n",
              "9       10     955466\n",
              "10      11     833868\n",
              "11      12    1079549\n",
              "12      13     924059\n",
              "13      14     856472\n",
              "14      15     878897"
            ]
          },
          "metadata": {
            "tags": []
          },
          "execution_count": 14
        }
      ]
    },
    {
      "cell_type": "markdown",
      "metadata": {
        "id": "HEINFgtTea5c"
      },
      "source": [
        "## <font color=green>💬 Discussion point</font>\n",
        "Can you notice a difference between the way index numbers apply in slices and in Pandas indexers? Try a few code examlpes to see if you can spot it."
      ]
    },
    {
      "cell_type": "markdown",
      "metadata": {
        "id": "12R3gbsWea5c"
      },
      "source": [
        "## Logical selectors\n",
        "\n",
        "`loc` indexers can also be logical selectors - selectors that return a truth value. The example below illustrates this:\n",
        "\n"
      ]
    },
    {
      "cell_type": "code",
      "metadata": {
        "id": "3HRMB5vSea5d",
        "outputId": "31e35754-ca91-42fc-8d20-f2611f605c5e"
      },
      "source": [
        "# Select all rows where PIQ is above 140\n",
        "\n",
        "df_m.loc[df_m.PIQ > 140]"
      ],
      "execution_count": null,
      "outputs": [
        {
          "output_type": "execute_result",
          "data": {
            "text/html": [
              "<div>\n",
              "<style scoped>\n",
              "    .dataframe tbody tr th:only-of-type {\n",
              "        vertical-align: middle;\n",
              "    }\n",
              "\n",
              "    .dataframe tbody tr th {\n",
              "        vertical-align: top;\n",
              "    }\n",
              "\n",
              "    .dataframe thead th {\n",
              "        text-align: right;\n",
              "    }\n",
              "</style>\n",
              "<table border=\"1\" class=\"dataframe\">\n",
              "  <thead>\n",
              "    <tr style=\"text-align: right;\">\n",
              "      <th></th>\n",
              "      <th>Unnamed: 0</th>\n",
              "      <th>ppt_id</th>\n",
              "      <th>FSIQ</th>\n",
              "      <th>VIQ</th>\n",
              "      <th>PIQ</th>\n",
              "      <th>MRI_Count</th>\n",
              "    </tr>\n",
              "  </thead>\n",
              "  <tbody>\n",
              "    <tr>\n",
              "      <th>2</th>\n",
              "      <td>2</td>\n",
              "      <td>3</td>\n",
              "      <td>139</td>\n",
              "      <td>123</td>\n",
              "      <td>150</td>\n",
              "      <td>1038437</td>\n",
              "    </tr>\n",
              "    <tr>\n",
              "      <th>9</th>\n",
              "      <td>9</td>\n",
              "      <td>10</td>\n",
              "      <td>133</td>\n",
              "      <td>114</td>\n",
              "      <td>147</td>\n",
              "      <td>955466</td>\n",
              "    </tr>\n",
              "    <tr>\n",
              "      <th>13</th>\n",
              "      <td>13</td>\n",
              "      <td>14</td>\n",
              "      <td>140</td>\n",
              "      <td>120</td>\n",
              "      <td>147</td>\n",
              "      <td>856472</td>\n",
              "    </tr>\n",
              "  </tbody>\n",
              "</table>\n",
              "</div>"
            ],
            "text/plain": [
              "    Unnamed: 0  ppt_id  FSIQ  VIQ  PIQ  MRI_Count\n",
              "2            2       3   139  123  150    1038437\n",
              "9            9      10   133  114  147     955466\n",
              "13          13      14   140  120  147     856472"
            ]
          },
          "metadata": {
            "tags": []
          },
          "execution_count": 15
        }
      ]
    },
    {
      "cell_type": "markdown",
      "metadata": {
        "id": "G15IgkMUea5f"
      },
      "source": [
        "### Interlude: understanding truth values in DataFrames\n",
        "\n",
        "\n",
        "- Up to now, we have used `and`, `or` etc. to combine truth values. \n",
        "- `and`, `or` test whether things are _logically true_\n",
        "- Python defines anything that is not empty to be _logically true_\n",
        "\n",
        "Try the following code:\n",
        "\n"
      ]
    },
    {
      "cell_type": "code",
      "metadata": {
        "id": "ILvDLq5vea5f",
        "outputId": "a59ddf8d-6266-4d72-c36e-8db0a891cb61"
      },
      "source": [
        "print( False and True )\n",
        "print( [False] and True )"
      ],
      "execution_count": null,
      "outputs": [
        {
          "output_type": "stream",
          "text": [
            "False\n",
            "True\n"
          ],
          "name": "stdout"
        }
      ]
    },
    {
      "cell_type": "markdown",
      "metadata": {
        "id": "-t1CDT-2ea5h"
      },
      "source": [
        "This behaviour is problematic when we want to do vector operations. Pandas uses NumPy vectors under the hood, which do not support the notion of logical truth. This is because it makes no sense when trying to combine two vectors of truth values, as both vectors are True. Instead, NumPy and Pandas override the bitwise operators such as &, |, to do element by element comparison of vector values.\n",
        "\n",
        "\n",
        "- `&` - bitwise and\n",
        "- `|` - bitwise or\n",
        "\n",
        "(there are other bitwise operators - see the [Python docs](https://docs.python.org/3/library/stdtypes.html#bitwise-operations-on-integer-types) if needed)\n",
        "\n",
        "\n",
        "We also have to account for the fact that bitwise operators are higher precedence than comparison operators. So if we have:\n",
        "\n",
        "`10 < 2 & 10 < 100`\n",
        "\n",
        "the `2 & 10` is evaluated first.\n",
        "\n",
        "To get the correct evaluation, we use parentheses, as these have a higher priority than `&`, `|`:\n",
        "\n",
        "`(10 < 2) & (10 < 100)`"
      ]
    },
    {
      "cell_type": "markdown",
      "metadata": {
        "id": "YUrs6BKuea5i"
      },
      "source": [
        "## <font color=green>❓ Question</font>\n",
        "Write a statement that uses loc to select ppt_id, FSIQ and PIQ where PIQ is greater than 130, and FSIQ less than 140.\n",
        "\n",
        "__Hint:__ you will need to combine two truth expressions with `&`. When you do, place parentheses around each of the two truth expressions\n",
        "\n",
        "## <font color=green>⌨️ Your answer</font>"
      ]
    },
    {
      "cell_type": "code",
      "metadata": {
        "id": "bw-l-WGGea5i",
        "outputId": "a0f5130f-cc76-4b8d-ca5f-f4a55ca5fe99"
      },
      "source": [
        "# Your answer here - like the one below:\n",
        "df_m.loc[(df_m.PIQ > 130) & (df_m.FSIQ < 140), ['ppt_id', 'FSIQ', 'PIQ']]"
      ],
      "execution_count": null,
      "outputs": [
        {
          "output_type": "execute_result",
          "data": {
            "text/html": [
              "<div>\n",
              "<style scoped>\n",
              "    .dataframe tbody tr th:only-of-type {\n",
              "        vertical-align: middle;\n",
              "    }\n",
              "\n",
              "    .dataframe tbody tr th {\n",
              "        vertical-align: top;\n",
              "    }\n",
              "\n",
              "    .dataframe thead th {\n",
              "        text-align: right;\n",
              "    }\n",
              "</style>\n",
              "<table border=\"1\" class=\"dataframe\">\n",
              "  <thead>\n",
              "    <tr style=\"text-align: right;\">\n",
              "      <th></th>\n",
              "      <th>ppt_id</th>\n",
              "      <th>FSIQ</th>\n",
              "      <th>PIQ</th>\n",
              "    </tr>\n",
              "  </thead>\n",
              "  <tbody>\n",
              "    <tr>\n",
              "      <th>2</th>\n",
              "      <td>3</td>\n",
              "      <td>139</td>\n",
              "      <td>150</td>\n",
              "    </tr>\n",
              "    <tr>\n",
              "      <th>4</th>\n",
              "      <td>5</td>\n",
              "      <td>137</td>\n",
              "      <td>134</td>\n",
              "    </tr>\n",
              "    <tr>\n",
              "      <th>6</th>\n",
              "      <td>7</td>\n",
              "      <td>138</td>\n",
              "      <td>131</td>\n",
              "    </tr>\n",
              "    <tr>\n",
              "      <th>9</th>\n",
              "      <td>10</td>\n",
              "      <td>133</td>\n",
              "      <td>147</td>\n",
              "    </tr>\n",
              "    <tr>\n",
              "      <th>22</th>\n",
              "      <td>23</td>\n",
              "      <td>135</td>\n",
              "      <td>134</td>\n",
              "    </tr>\n",
              "    <tr>\n",
              "      <th>30</th>\n",
              "      <td>31</td>\n",
              "      <td>133</td>\n",
              "      <td>132</td>\n",
              "    </tr>\n",
              "  </tbody>\n",
              "</table>\n",
              "</div>"
            ],
            "text/plain": [
              "    ppt_id  FSIQ  PIQ\n",
              "2        3   139  150\n",
              "4        5   137  134\n",
              "6        7   138  131\n",
              "9       10   133  147\n",
              "22      23   135  134\n",
              "30      31   133  132"
            ]
          },
          "metadata": {
            "tags": []
          },
          "execution_count": 17
        }
      ]
    },
    {
      "cell_type": "markdown",
      "metadata": {
        "id": "24m0-a-uea5l"
      },
      "source": [
        "## <font color=green>💬 Discussion point</font>\n",
        "Why did you have to put parentheses around the two logical expressions?"
      ]
    },
    {
      "cell_type": "markdown",
      "metadata": {
        "id": "tfK8cv5Iea5m"
      },
      "source": [
        "## Setting values in Pandas data objects\n",
        "\n",
        "Selectors - including slices, `loc` and `iloc` can also be used to set the values in `DataFrames` and `Series`. For example,\n",
        "\n",
        "`df.loc[df.some_column < 1, 'some_column'] = 0`\n",
        "\n",
        "will set all values less than 1 in _some_column_ to zero.\n",
        "\n",
        "You can also combine slice selectors with slice setting of values. For example,\n",
        "\n",
        "`df[['B', 'A']] = df[['A', 'B']]`\n",
        "\n",
        "will swap two columns.\n",
        "\n",
        "This last technique does not work with `loc` and `iloc` - see the [documentation](https://pandas.pydata.org/pandas-docs/stable/user_guide/indexing.html) for details of how to do this with `loc` and `iloc`"
      ]
    },
    {
      "cell_type": "markdown",
      "metadata": {
        "id": "fFwKgEzJea5m"
      },
      "source": [
        "## Deleting data\n",
        "\n",
        "Now that we can select bits of our data objects, we can start to do things with the data. First, we will see how to delete bits.\n",
        "\n",
        "### Deleting columns\n",
        "\n",
        "\n",
        "## <font color=green>💬 Discussion point</font>\n",
        "\n",
        "Our DataFrame has a strange column \"Unnmamed: 0\". What do you think it is?\n",
        "\n",
        "There are a few ways we could delete this column. For example, using the selector operators we looked at above, we could keep just the columns we want, like this:\n",
        "\n",
        "`df_m = df_m[['ppt_id', 'FSIQ', 'VIQ', 'PIQ', 'MRI_Count']]`\n",
        "\n",
        "We are instead going to use the `drop` method. This takes as arguments:\n",
        "\n",
        "- column name\n",
        "- axis=n, where n=1 denotes a column, and n=0 denotes a row\n",
        "\n",
        "Run the example below to see this:"
      ]
    },
    {
      "cell_type": "code",
      "metadata": {
        "id": "fEDSKqzcea5m",
        "outputId": "0dba3263-d3dc-43fb-a5e5-262eadeef684"
      },
      "source": [
        "# remove the column \"Unnamed: 0\" - an artefact from some earlier\n",
        "# data processing\n",
        "df_m = df_m.drop('Unnamed: 0', axis=1)\n",
        "df_m.head(3)"
      ],
      "execution_count": null,
      "outputs": [
        {
          "output_type": "execute_result",
          "data": {
            "text/html": [
              "<div>\n",
              "<style scoped>\n",
              "    .dataframe tbody tr th:only-of-type {\n",
              "        vertical-align: middle;\n",
              "    }\n",
              "\n",
              "    .dataframe tbody tr th {\n",
              "        vertical-align: top;\n",
              "    }\n",
              "\n",
              "    .dataframe thead th {\n",
              "        text-align: right;\n",
              "    }\n",
              "</style>\n",
              "<table border=\"1\" class=\"dataframe\">\n",
              "  <thead>\n",
              "    <tr style=\"text-align: right;\">\n",
              "      <th></th>\n",
              "      <th>ppt_id</th>\n",
              "      <th>FSIQ</th>\n",
              "      <th>VIQ</th>\n",
              "      <th>PIQ</th>\n",
              "      <th>MRI_Count</th>\n",
              "    </tr>\n",
              "  </thead>\n",
              "  <tbody>\n",
              "    <tr>\n",
              "      <th>0</th>\n",
              "      <td>1</td>\n",
              "      <td>133</td>\n",
              "      <td>132</td>\n",
              "      <td>124</td>\n",
              "      <td>816932</td>\n",
              "    </tr>\n",
              "    <tr>\n",
              "      <th>1</th>\n",
              "      <td>2</td>\n",
              "      <td>140</td>\n",
              "      <td>150</td>\n",
              "      <td>124</td>\n",
              "      <td>1001121</td>\n",
              "    </tr>\n",
              "    <tr>\n",
              "      <th>2</th>\n",
              "      <td>3</td>\n",
              "      <td>139</td>\n",
              "      <td>123</td>\n",
              "      <td>150</td>\n",
              "      <td>1038437</td>\n",
              "    </tr>\n",
              "  </tbody>\n",
              "</table>\n",
              "</div>"
            ],
            "text/plain": [
              "   ppt_id  FSIQ  VIQ  PIQ  MRI_Count\n",
              "0       1   133  132  124     816932\n",
              "1       2   140  150  124    1001121\n",
              "2       3   139  123  150    1038437"
            ]
          },
          "metadata": {
            "tags": []
          },
          "execution_count": 18
        }
      ]
    },
    {
      "cell_type": "markdown",
      "metadata": {
        "id": "P5vERg_bea5o"
      },
      "source": [
        "### Deleting rows\n",
        "\n",
        "We can also use `drop()` to remove rows. If we know the index(es) of our rows, we can use `drop()`, as above (with axis=0).\n",
        "\n",
        "If we have a condition, we can select what we want to keep. Let's say we need to remove participant with ppt_id=17 (perhaps they have withdrawn from the study). We could use the followig - run it:\n",
        "\n",
        "\n"
      ]
    },
    {
      "cell_type": "code",
      "metadata": {
        "id": "hypVlqiGea5o",
        "outputId": "553d67fa-2f28-47de-ab77-cdb0068d59af"
      },
      "source": [
        "df_m = df_m[df_m.ppt_id != 17]\n",
        "df_m[15:18]"
      ],
      "execution_count": null,
      "outputs": [
        {
          "output_type": "execute_result",
          "data": {
            "text/html": [
              "<div>\n",
              "<style scoped>\n",
              "    .dataframe tbody tr th:only-of-type {\n",
              "        vertical-align: middle;\n",
              "    }\n",
              "\n",
              "    .dataframe tbody tr th {\n",
              "        vertical-align: top;\n",
              "    }\n",
              "\n",
              "    .dataframe thead th {\n",
              "        text-align: right;\n",
              "    }\n",
              "</style>\n",
              "<table border=\"1\" class=\"dataframe\">\n",
              "  <thead>\n",
              "    <tr style=\"text-align: right;\">\n",
              "      <th></th>\n",
              "      <th>ppt_id</th>\n",
              "      <th>FSIQ</th>\n",
              "      <th>VIQ</th>\n",
              "      <th>PIQ</th>\n",
              "      <th>MRI_Count</th>\n",
              "    </tr>\n",
              "  </thead>\n",
              "  <tbody>\n",
              "    <tr>\n",
              "      <th>15</th>\n",
              "      <td>16</td>\n",
              "      <td>83</td>\n",
              "      <td>71</td>\n",
              "      <td>96</td>\n",
              "      <td>865363</td>\n",
              "    </tr>\n",
              "    <tr>\n",
              "      <th>17</th>\n",
              "      <td>18</td>\n",
              "      <td>100</td>\n",
              "      <td>96</td>\n",
              "      <td>102</td>\n",
              "      <td>945088</td>\n",
              "    </tr>\n",
              "    <tr>\n",
              "      <th>18</th>\n",
              "      <td>19</td>\n",
              "      <td>101</td>\n",
              "      <td>112</td>\n",
              "      <td>84</td>\n",
              "      <td>808020</td>\n",
              "    </tr>\n",
              "  </tbody>\n",
              "</table>\n",
              "</div>"
            ],
            "text/plain": [
              "    ppt_id  FSIQ  VIQ  PIQ  MRI_Count\n",
              "15      16    83   71   96     865363\n",
              "17      18   100   96  102     945088\n",
              "18      19   101  112   84     808020"
            ]
          },
          "metadata": {
            "tags": []
          },
          "execution_count": 19
        }
      ]
    },
    {
      "cell_type": "markdown",
      "metadata": {
        "id": "NGUVFbsaea5q"
      },
      "source": [
        "## Reading in a second dataset\n",
        "\n",
        "\n",
        "The code above has imported a set of clinic measurements. Now we need to read in further  information for the same participants. This is in a file called `brain_participant_info.csv`\n",
        "\n",
        "## <font color=green>❓ Question</font>\n",
        "Do the following:\n",
        "\n",
        "1. Read in the csv file `brain_participant_info.csv` into a dataframe called `df_p`\n",
        "1. Take a look at it using some of the `DataFrame` methods given above\n",
        "1. Remove the artefact column, 'Unnamed: 0'\n",
        "1. Remove participant ppt_id=17\n",
        "1. Take a look at the DataFrame again, to check all is well\n",
        "\n",
        "## <font color=green>⌨️ Your answer</font>"
      ]
    },
    {
      "cell_type": "code",
      "metadata": {
        "id": "qJZlt01_ea5q",
        "outputId": "207b41af-1892-417e-b8b3-2452261479c3"
      },
      "source": [
        "# Put your answer in this cell and the next one\n",
        "\n",
        "# Read in the csv file\n",
        "df_p = pd.read_csv('brain_participant_info.csv')\n",
        "\n",
        "\n",
        "# Take a look\n",
        "df_p.head()"
      ],
      "execution_count": null,
      "outputs": [
        {
          "output_type": "execute_result",
          "data": {
            "text/html": [
              "<div>\n",
              "<style scoped>\n",
              "    .dataframe tbody tr th:only-of-type {\n",
              "        vertical-align: middle;\n",
              "    }\n",
              "\n",
              "    .dataframe tbody tr th {\n",
              "        vertical-align: top;\n",
              "    }\n",
              "\n",
              "    .dataframe thead th {\n",
              "        text-align: right;\n",
              "    }\n",
              "</style>\n",
              "<table border=\"1\" class=\"dataframe\">\n",
              "  <thead>\n",
              "    <tr style=\"text-align: right;\">\n",
              "      <th></th>\n",
              "      <th>Unnamed: 0</th>\n",
              "      <th>ppt_id</th>\n",
              "      <th>Gender</th>\n",
              "      <th>Weight</th>\n",
              "      <th>Height</th>\n",
              "      <th>Diagnosed</th>\n",
              "    </tr>\n",
              "  </thead>\n",
              "  <tbody>\n",
              "    <tr>\n",
              "      <th>0</th>\n",
              "      <td>0</td>\n",
              "      <td>1</td>\n",
              "      <td>Female</td>\n",
              "      <td>118.0</td>\n",
              "      <td>645.0</td>\n",
              "      <td>Yes</td>\n",
              "    </tr>\n",
              "    <tr>\n",
              "      <th>1</th>\n",
              "      <td>1</td>\n",
              "      <td>2</td>\n",
              "      <td>Male</td>\n",
              "      <td>NaN</td>\n",
              "      <td>725.0</td>\n",
              "      <td>No</td>\n",
              "    </tr>\n",
              "    <tr>\n",
              "      <th>2</th>\n",
              "      <td>2</td>\n",
              "      <td>3</td>\n",
              "      <td>Male</td>\n",
              "      <td>143.0</td>\n",
              "      <td>733.0</td>\n",
              "      <td>Yes</td>\n",
              "    </tr>\n",
              "    <tr>\n",
              "      <th>3</th>\n",
              "      <td>3</td>\n",
              "      <td>4</td>\n",
              "      <td>Male</td>\n",
              "      <td>172.0</td>\n",
              "      <td>688.0</td>\n",
              "      <td>No</td>\n",
              "    </tr>\n",
              "    <tr>\n",
              "      <th>4</th>\n",
              "      <td>4</td>\n",
              "      <td>5</td>\n",
              "      <td>Female</td>\n",
              "      <td>147.0</td>\n",
              "      <td>65.0</td>\n",
              "      <td>Yes</td>\n",
              "    </tr>\n",
              "  </tbody>\n",
              "</table>\n",
              "</div>"
            ],
            "text/plain": [
              "   Unnamed: 0  ppt_id  Gender  Weight  Height Diagnosed\n",
              "0           0       1  Female   118.0   645.0       Yes\n",
              "1           1       2    Male     NaN   725.0        No\n",
              "2           2       3    Male   143.0   733.0       Yes\n",
              "3           3       4    Male   172.0   688.0        No\n",
              "4           4       5  Female   147.0    65.0       Yes"
            ]
          },
          "metadata": {
            "tags": []
          },
          "execution_count": 20
        }
      ]
    },
    {
      "cell_type": "code",
      "metadata": {
        "id": "GreuTMAdea5s",
        "outputId": "f934e7d4-07af-45aa-b052-79129278ef75"
      },
      "source": [
        "# Drop the 'Unnamed: 0' column\n",
        "df_p = df_p.drop('Unnamed: 0', axis=1)\n",
        "\n",
        "\n",
        "# Remove ppt_id=17\n",
        "df_p = df_p[df_p.ppt_id != 17]\n",
        "\n",
        "\n",
        "# Take a look\n",
        "df_p[15:18]\n"
      ],
      "execution_count": null,
      "outputs": [
        {
          "output_type": "execute_result",
          "data": {
            "text/html": [
              "<div>\n",
              "<style scoped>\n",
              "    .dataframe tbody tr th:only-of-type {\n",
              "        vertical-align: middle;\n",
              "    }\n",
              "\n",
              "    .dataframe tbody tr th {\n",
              "        vertical-align: top;\n",
              "    }\n",
              "\n",
              "    .dataframe thead th {\n",
              "        text-align: right;\n",
              "    }\n",
              "</style>\n",
              "<table border=\"1\" class=\"dataframe\">\n",
              "  <thead>\n",
              "    <tr style=\"text-align: right;\">\n",
              "      <th></th>\n",
              "      <th>ppt_id</th>\n",
              "      <th>Gender</th>\n",
              "      <th>Weight</th>\n",
              "      <th>Height</th>\n",
              "      <th>Diagnosed</th>\n",
              "    </tr>\n",
              "  </thead>\n",
              "  <tbody>\n",
              "    <tr>\n",
              "      <th>15</th>\n",
              "      <td>16</td>\n",
              "      <td>Female</td>\n",
              "      <td>135.0</td>\n",
              "      <td>68.0</td>\n",
              "      <td>Yes</td>\n",
              "    </tr>\n",
              "    <tr>\n",
              "      <th>17</th>\n",
              "      <td>18</td>\n",
              "      <td>Male</td>\n",
              "      <td>178.0</td>\n",
              "      <td>735.0</td>\n",
              "      <td>No</td>\n",
              "    </tr>\n",
              "    <tr>\n",
              "      <th>18</th>\n",
              "      <td>19</td>\n",
              "      <td>Female</td>\n",
              "      <td>136.0</td>\n",
              "      <td>663.0</td>\n",
              "      <td>Yes</td>\n",
              "    </tr>\n",
              "  </tbody>\n",
              "</table>\n",
              "</div>"
            ],
            "text/plain": [
              "    ppt_id  Gender  Weight  Height Diagnosed\n",
              "15      16  Female   135.0    68.0       Yes\n",
              "17      18    Male   178.0   735.0        No\n",
              "18      19  Female   136.0   663.0       Yes"
            ]
          },
          "metadata": {
            "tags": []
          },
          "execution_count": 21
        }
      ]
    },
    {
      "cell_type": "markdown",
      "metadata": {
        "id": "d1cz1YLUea5u"
      },
      "source": [
        "## Merging Datasets\n",
        "\n",
        "Our two dataframes contain data about the same study participants. We can merge them.\n",
        "\n",
        "## <font color=green>💬 Discussion point</font>\n",
        "\n",
        "What identifies the rows in df_m that should be merged with those in df_p?\n",
        "\n",
        "The code to do the merge is given below. Run it:"
      ]
    },
    {
      "cell_type": "code",
      "metadata": {
        "id": "Os6Y-X7Sea5v",
        "outputId": "69f5539a-8d17-45d0-ffcc-0870aec0f089"
      },
      "source": [
        "# create one merged DataFrame\n",
        "df_all = df_m.merge(df_p, on = ['ppt_id'], how = 'left')\n",
        "df_all.head()"
      ],
      "execution_count": null,
      "outputs": [
        {
          "output_type": "execute_result",
          "data": {
            "text/html": [
              "<div>\n",
              "<style scoped>\n",
              "    .dataframe tbody tr th:only-of-type {\n",
              "        vertical-align: middle;\n",
              "    }\n",
              "\n",
              "    .dataframe tbody tr th {\n",
              "        vertical-align: top;\n",
              "    }\n",
              "\n",
              "    .dataframe thead th {\n",
              "        text-align: right;\n",
              "    }\n",
              "</style>\n",
              "<table border=\"1\" class=\"dataframe\">\n",
              "  <thead>\n",
              "    <tr style=\"text-align: right;\">\n",
              "      <th></th>\n",
              "      <th>ppt_id</th>\n",
              "      <th>FSIQ</th>\n",
              "      <th>VIQ</th>\n",
              "      <th>PIQ</th>\n",
              "      <th>MRI_Count</th>\n",
              "      <th>Gender</th>\n",
              "      <th>Weight</th>\n",
              "      <th>Height</th>\n",
              "      <th>Diagnosed</th>\n",
              "    </tr>\n",
              "  </thead>\n",
              "  <tbody>\n",
              "    <tr>\n",
              "      <th>0</th>\n",
              "      <td>1</td>\n",
              "      <td>133</td>\n",
              "      <td>132</td>\n",
              "      <td>124</td>\n",
              "      <td>816932</td>\n",
              "      <td>Female</td>\n",
              "      <td>118.0</td>\n",
              "      <td>645.0</td>\n",
              "      <td>Yes</td>\n",
              "    </tr>\n",
              "    <tr>\n",
              "      <th>1</th>\n",
              "      <td>2</td>\n",
              "      <td>140</td>\n",
              "      <td>150</td>\n",
              "      <td>124</td>\n",
              "      <td>1001121</td>\n",
              "      <td>Male</td>\n",
              "      <td>NaN</td>\n",
              "      <td>725.0</td>\n",
              "      <td>No</td>\n",
              "    </tr>\n",
              "    <tr>\n",
              "      <th>2</th>\n",
              "      <td>3</td>\n",
              "      <td>139</td>\n",
              "      <td>123</td>\n",
              "      <td>150</td>\n",
              "      <td>1038437</td>\n",
              "      <td>Male</td>\n",
              "      <td>143.0</td>\n",
              "      <td>733.0</td>\n",
              "      <td>Yes</td>\n",
              "    </tr>\n",
              "    <tr>\n",
              "      <th>3</th>\n",
              "      <td>4</td>\n",
              "      <td>133</td>\n",
              "      <td>129</td>\n",
              "      <td>128</td>\n",
              "      <td>965353</td>\n",
              "      <td>Male</td>\n",
              "      <td>172.0</td>\n",
              "      <td>688.0</td>\n",
              "      <td>No</td>\n",
              "    </tr>\n",
              "    <tr>\n",
              "      <th>4</th>\n",
              "      <td>5</td>\n",
              "      <td>137</td>\n",
              "      <td>132</td>\n",
              "      <td>134</td>\n",
              "      <td>951545</td>\n",
              "      <td>Female</td>\n",
              "      <td>147.0</td>\n",
              "      <td>65.0</td>\n",
              "      <td>Yes</td>\n",
              "    </tr>\n",
              "  </tbody>\n",
              "</table>\n",
              "</div>"
            ],
            "text/plain": [
              "   ppt_id  FSIQ  VIQ  PIQ  MRI_Count  Gender  Weight  Height Diagnosed\n",
              "0       1   133  132  124     816932  Female   118.0   645.0       Yes\n",
              "1       2   140  150  124    1001121    Male     NaN   725.0        No\n",
              "2       3   139  123  150    1038437    Male   143.0   733.0       Yes\n",
              "3       4   133  129  128     965353    Male   172.0   688.0        No\n",
              "4       5   137  132  134     951545  Female   147.0    65.0       Yes"
            ]
          },
          "metadata": {
            "tags": []
          },
          "execution_count": 22
        }
      ]
    },
    {
      "cell_type": "markdown",
      "metadata": {
        "id": "vRQD_lKKea5w"
      },
      "source": [
        "## <font color=green>💬 Discussion point</font>\n",
        "\n",
        "\n",
        "Take a look at the [DataFrame.merge() documentation](https://pandas.pydata.org/pandas-docs/stable/reference/api/pandas.DataFrame.merge.html#pandas-dataframe-merge).\n",
        "\n",
        "Can you explain the three arguments in the merge above?\n"
      ]
    },
    {
      "cell_type": "markdown",
      "metadata": {
        "id": "q3TkUlcAea5x"
      },
      "source": [
        "## Aggregating data \n",
        "\n",
        "- We use the `DataFrame.groupby()` method to aggregate data.\n",
        "- It returns a `GroupBy` object\n",
        "- There is also a `GroupBy` for `Series`.\n",
        "- `GroupBy` has many useful methods - take a look at the [documentation](https://pandas.pydata.org/pandas-docs/stable/reference/groupby.html#groupby)\n",
        "\n",
        "Below is an exmaple of using `groupby()` to group be gender. Try it:"
      ]
    },
    {
      "cell_type": "code",
      "metadata": {
        "id": "QVgIRlpaea5x",
        "outputId": "fa307515-2030-404e-cf12-2386dbb0d80c"
      },
      "source": [
        "# Group our merged dataset by gender, and examine the mean\n",
        "\n",
        "df_all.groupby(\"Gender\").mean()\n"
      ],
      "execution_count": null,
      "outputs": [
        {
          "output_type": "execute_result",
          "data": {
            "text/html": [
              "<div>\n",
              "<style scoped>\n",
              "    .dataframe tbody tr th:only-of-type {\n",
              "        vertical-align: middle;\n",
              "    }\n",
              "\n",
              "    .dataframe tbody tr th {\n",
              "        vertical-align: top;\n",
              "    }\n",
              "\n",
              "    .dataframe thead th {\n",
              "        text-align: right;\n",
              "    }\n",
              "</style>\n",
              "<table border=\"1\" class=\"dataframe\">\n",
              "  <thead>\n",
              "    <tr style=\"text-align: right;\">\n",
              "      <th></th>\n",
              "      <th>ppt_id</th>\n",
              "      <th>FSIQ</th>\n",
              "      <th>VIQ</th>\n",
              "      <th>PIQ</th>\n",
              "      <th>MRI_Count</th>\n",
              "      <th>Weight</th>\n",
              "      <th>Height</th>\n",
              "    </tr>\n",
              "    <tr>\n",
              "      <th>Gender</th>\n",
              "      <th></th>\n",
              "      <th></th>\n",
              "      <th></th>\n",
              "      <th></th>\n",
              "      <th></th>\n",
              "      <th></th>\n",
              "      <th></th>\n",
              "    </tr>\n",
              "  </thead>\n",
              "  <tbody>\n",
              "    <tr>\n",
              "      <th>Female</th>\n",
              "      <td>19.789474</td>\n",
              "      <td>110.842105</td>\n",
              "      <td>108.263158</td>\n",
              "      <td>109.947368</td>\n",
              "      <td>863202.526316</td>\n",
              "      <td>137.736842</td>\n",
              "      <td>376.736842</td>\n",
              "    </tr>\n",
              "    <tr>\n",
              "      <th>Male</th>\n",
              "      <td>21.350000</td>\n",
              "      <td>115.000000</td>\n",
              "      <td>115.250000</td>\n",
              "      <td>111.600000</td>\n",
              "      <td>954855.400000</td>\n",
              "      <td>166.444444</td>\n",
              "      <td>413.052632</td>\n",
              "    </tr>\n",
              "  </tbody>\n",
              "</table>\n",
              "</div>"
            ],
            "text/plain": [
              "           ppt_id        FSIQ         VIQ         PIQ      MRI_Count  \\\n",
              "Gender                                                                 \n",
              "Female  19.789474  110.842105  108.263158  109.947368  863202.526316   \n",
              "Male    21.350000  115.000000  115.250000  111.600000  954855.400000   \n",
              "\n",
              "            Weight      Height  \n",
              "Gender                          \n",
              "Female  137.736842  376.736842  \n",
              "Male    166.444444  413.052632  "
            ]
          },
          "metadata": {
            "tags": []
          },
          "execution_count": 23
        }
      ]
    },
    {
      "cell_type": "markdown",
      "metadata": {
        "id": "eH2UVUT1ea5z"
      },
      "source": [
        "## <font color=green>❓ Question</font>\n",
        "\n",
        "How do you think you aggregate by two columns? Try it below,\n",
        "\n",
        "- aggregate by the gender and diagnosed columns\n",
        "- compute the medians\n",
        "- display only Height and Weight in your table\n",
        "\n",
        "## <font color=green>⌨️ Your answer</font>"
      ]
    },
    {
      "cell_type": "code",
      "metadata": {
        "id": "IWn6euMLea5z",
        "outputId": "4214b7f5-2652-4211-ca87-f6e8c3c05b7c"
      },
      "source": [
        "# What if you want to investigate two categorical variables?\n",
        "# Group by gender and diagnosed, and show the medians of\n",
        "# the four categories\n",
        "# YOUR ANSWER HERE\n",
        "df_all.groupby(['Gender', 'Diagnosed'])[['Height', 'Weight']].mean()\n"
      ],
      "execution_count": null,
      "outputs": [
        {
          "output_type": "execute_result",
          "data": {
            "text/html": [
              "<div>\n",
              "<style scoped>\n",
              "    .dataframe tbody tr th:only-of-type {\n",
              "        vertical-align: middle;\n",
              "    }\n",
              "\n",
              "    .dataframe tbody tr th {\n",
              "        vertical-align: top;\n",
              "    }\n",
              "\n",
              "    .dataframe thead th {\n",
              "        text-align: right;\n",
              "    }\n",
              "</style>\n",
              "<table border=\"1\" class=\"dataframe\">\n",
              "  <thead>\n",
              "    <tr style=\"text-align: right;\">\n",
              "      <th></th>\n",
              "      <th></th>\n",
              "      <th>Height</th>\n",
              "      <th>Weight</th>\n",
              "    </tr>\n",
              "    <tr>\n",
              "      <th>Gender</th>\n",
              "      <th>Diagnosed</th>\n",
              "      <th></th>\n",
              "      <th></th>\n",
              "    </tr>\n",
              "  </thead>\n",
              "  <tbody>\n",
              "    <tr>\n",
              "      <th rowspan=\"2\" valign=\"top\">Female</th>\n",
              "      <th>No</th>\n",
              "      <td>401.857143</td>\n",
              "      <td>133.571429</td>\n",
              "    </tr>\n",
              "    <tr>\n",
              "      <th>Yes</th>\n",
              "      <td>362.083333</td>\n",
              "      <td>140.166667</td>\n",
              "    </tr>\n",
              "    <tr>\n",
              "      <th rowspan=\"2\" valign=\"top\">Male</th>\n",
              "      <th>No</th>\n",
              "      <td>476.250000</td>\n",
              "      <td>170.285714</td>\n",
              "    </tr>\n",
              "    <tr>\n",
              "      <th>Yes</th>\n",
              "      <td>367.090909</td>\n",
              "      <td>164.000000</td>\n",
              "    </tr>\n",
              "  </tbody>\n",
              "</table>\n",
              "</div>"
            ],
            "text/plain": [
              "                      Height      Weight\n",
              "Gender Diagnosed                        \n",
              "Female No         401.857143  133.571429\n",
              "       Yes        362.083333  140.166667\n",
              "Male   No         476.250000  170.285714\n",
              "       Yes        367.090909  164.000000"
            ]
          },
          "metadata": {
            "tags": []
          },
          "execution_count": 24
        }
      ]
    },
    {
      "cell_type": "markdown",
      "metadata": {
        "scrolled": true,
        "id": "5C-DdmAmea51"
      },
      "source": [
        "## Transposing DataFrames and GroupBys\n",
        "\n",
        "- _Transposing_ a two dimensional data object reflects it about its diagonal\n",
        "- Rows become columns, and columns become rows\n",
        "- This is useful for getting data in the right form for presenting\n",
        "- Examples of objects that cab be reflected\n",
        "  - DataFrame\n",
        "  - The display output of DataFrame operations, e.g. mean(), median(), describe()\n",
        "- Use the method `transpose()`\n",
        "- (the attribute `T` also works but is not so readable)\n",
        "  \n",
        "Run the example below, which flips the output of `describe()` for our dataset."
      ]
    },
    {
      "cell_type": "code",
      "metadata": {
        "scrolled": true,
        "id": "P0_WsrHoea51",
        "outputId": "267cfd51-16ed-4f85-b4aa-67d7ac9b9ce8"
      },
      "source": [
        "# Transpose summary statistics of the merged dataset\n",
        "df_all.describe().transpose()"
      ],
      "execution_count": null,
      "outputs": [
        {
          "output_type": "execute_result",
          "data": {
            "text/html": [
              "<div>\n",
              "<style scoped>\n",
              "    .dataframe tbody tr th:only-of-type {\n",
              "        vertical-align: middle;\n",
              "    }\n",
              "\n",
              "    .dataframe tbody tr th {\n",
              "        vertical-align: top;\n",
              "    }\n",
              "\n",
              "    .dataframe thead th {\n",
              "        text-align: right;\n",
              "    }\n",
              "</style>\n",
              "<table border=\"1\" class=\"dataframe\">\n",
              "  <thead>\n",
              "    <tr style=\"text-align: right;\">\n",
              "      <th></th>\n",
              "      <th>count</th>\n",
              "      <th>mean</th>\n",
              "      <th>std</th>\n",
              "      <th>min</th>\n",
              "      <th>25%</th>\n",
              "      <th>50%</th>\n",
              "      <th>75%</th>\n",
              "      <th>max</th>\n",
              "    </tr>\n",
              "  </thead>\n",
              "  <tbody>\n",
              "    <tr>\n",
              "      <th>ppt_id</th>\n",
              "      <td>39.0</td>\n",
              "      <td>20.589744</td>\n",
              "      <td>11.829308</td>\n",
              "      <td>1.0</td>\n",
              "      <td>10.50</td>\n",
              "      <td>21.0</td>\n",
              "      <td>30.50</td>\n",
              "      <td>40.0</td>\n",
              "    </tr>\n",
              "    <tr>\n",
              "      <th>FSIQ</th>\n",
              "      <td>39.0</td>\n",
              "      <td>112.974359</td>\n",
              "      <td>24.205792</td>\n",
              "      <td>77.0</td>\n",
              "      <td>89.50</td>\n",
              "      <td>103.0</td>\n",
              "      <td>136.00</td>\n",
              "      <td>144.0</td>\n",
              "    </tr>\n",
              "    <tr>\n",
              "      <th>VIQ</th>\n",
              "      <td>39.0</td>\n",
              "      <td>111.846154</td>\n",
              "      <td>23.706027</td>\n",
              "      <td>71.0</td>\n",
              "      <td>90.00</td>\n",
              "      <td>112.0</td>\n",
              "      <td>129.00</td>\n",
              "      <td>150.0</td>\n",
              "    </tr>\n",
              "    <tr>\n",
              "      <th>PIQ</th>\n",
              "      <td>39.0</td>\n",
              "      <td>110.794872</td>\n",
              "      <td>22.717000</td>\n",
              "      <td>72.0</td>\n",
              "      <td>87.50</td>\n",
              "      <td>110.0</td>\n",
              "      <td>128.00</td>\n",
              "      <td>150.0</td>\n",
              "    </tr>\n",
              "    <tr>\n",
              "      <th>MRI_Count</th>\n",
              "      <td>39.0</td>\n",
              "      <td>910204.000000</td>\n",
              "      <td>72636.026973</td>\n",
              "      <td>790619.0</td>\n",
              "      <td>857127.00</td>\n",
              "      <td>905940.0</td>\n",
              "      <td>950567.00</td>\n",
              "      <td>1079549.0</td>\n",
              "    </tr>\n",
              "    <tr>\n",
              "      <th>Weight</th>\n",
              "      <td>37.0</td>\n",
              "      <td>151.702703</td>\n",
              "      <td>23.453103</td>\n",
              "      <td>106.0</td>\n",
              "      <td>136.00</td>\n",
              "      <td>147.0</td>\n",
              "      <td>172.00</td>\n",
              "      <td>192.0</td>\n",
              "    </tr>\n",
              "    <tr>\n",
              "      <th>Height</th>\n",
              "      <td>38.0</td>\n",
              "      <td>394.894737</td>\n",
              "      <td>315.699634</td>\n",
              "      <td>62.0</td>\n",
              "      <td>68.25</td>\n",
              "      <td>635.0</td>\n",
              "      <td>682.25</td>\n",
              "      <td>765.0</td>\n",
              "    </tr>\n",
              "  </tbody>\n",
              "</table>\n",
              "</div>"
            ],
            "text/plain": [
              "           count           mean           std       min        25%       50%  \\\n",
              "ppt_id      39.0      20.589744     11.829308       1.0      10.50      21.0   \n",
              "FSIQ        39.0     112.974359     24.205792      77.0      89.50     103.0   \n",
              "VIQ         39.0     111.846154     23.706027      71.0      90.00     112.0   \n",
              "PIQ         39.0     110.794872     22.717000      72.0      87.50     110.0   \n",
              "MRI_Count   39.0  910204.000000  72636.026973  790619.0  857127.00  905940.0   \n",
              "Weight      37.0     151.702703     23.453103     106.0     136.00     147.0   \n",
              "Height      38.0     394.894737    315.699634      62.0      68.25     635.0   \n",
              "\n",
              "                 75%        max  \n",
              "ppt_id         30.50       40.0  \n",
              "FSIQ          136.00      144.0  \n",
              "VIQ           129.00      150.0  \n",
              "PIQ           128.00      150.0  \n",
              "MRI_Count  950567.00  1079549.0  \n",
              "Weight        172.00      192.0  \n",
              "Height        682.25      765.0  "
            ]
          },
          "metadata": {
            "tags": []
          },
          "execution_count": 25
        }
      ]
    },
    {
      "cell_type": "markdown",
      "metadata": {
        "id": "tj1Y64e8ea53"
      },
      "source": [
        "## <font color=green>❓ Question</font>\n",
        "\n",
        "`transpose()` will also work with the output of `groupby()`. Try this:\n",
        "\n",
        "- Group `df_all` by gender and diagnosed\n",
        "- Select just the MRI_Count column\n",
        "- Get summary statistics for this column\n",
        "- Transpose the summary statistics\n",
        "\n",
        "## <font color=green>⌨️ Your answer</font>"
      ]
    },
    {
      "cell_type": "code",
      "metadata": {
        "id": "nM8UDKoCea53",
        "outputId": "12db46b8-2c8f-41d0-bd3d-638d75c22c54"
      },
      "source": [
        "# Your answer below - you should be able to do this on one line\n",
        "# Group by gender and diagnosed\n",
        "# Select MRI_Count\n",
        "# Get summary stats\n",
        "# Transpose them\n",
        "df_all.groupby(['Gender', 'Diagnosed'])[['MRI_Count']].describe().transpose()\n"
      ],
      "execution_count": null,
      "outputs": [
        {
          "output_type": "execute_result",
          "data": {
            "text/html": [
              "<div>\n",
              "<style scoped>\n",
              "    .dataframe tbody tr th:only-of-type {\n",
              "        vertical-align: middle;\n",
              "    }\n",
              "\n",
              "    .dataframe tbody tr th {\n",
              "        vertical-align: top;\n",
              "    }\n",
              "\n",
              "    .dataframe thead tr th {\n",
              "        text-align: left;\n",
              "    }\n",
              "</style>\n",
              "<table border=\"1\" class=\"dataframe\">\n",
              "  <thead>\n",
              "    <tr>\n",
              "      <th></th>\n",
              "      <th>Gender</th>\n",
              "      <th colspan=\"2\" halign=\"left\">Female</th>\n",
              "      <th colspan=\"2\" halign=\"left\">Male</th>\n",
              "    </tr>\n",
              "    <tr>\n",
              "      <th></th>\n",
              "      <th>Diagnosed</th>\n",
              "      <th>No</th>\n",
              "      <th>Yes</th>\n",
              "      <th>No</th>\n",
              "      <th>Yes</th>\n",
              "    </tr>\n",
              "  </thead>\n",
              "  <tbody>\n",
              "    <tr>\n",
              "      <th rowspan=\"8\" valign=\"top\">MRI_Count</th>\n",
              "      <th>count</th>\n",
              "      <td>7.000000</td>\n",
              "      <td>12.000000</td>\n",
              "      <td>9.000000e+00</td>\n",
              "      <td>1.100000e+01</td>\n",
              "    </tr>\n",
              "    <tr>\n",
              "      <th>mean</th>\n",
              "      <td>835694.285714</td>\n",
              "      <td>879249.000000</td>\n",
              "      <td>9.373191e+05</td>\n",
              "      <td>9.692033e+05</td>\n",
              "    </tr>\n",
              "    <tr>\n",
              "      <th>std</th>\n",
              "      <td>36018.499306</td>\n",
              "      <td>62575.647652</td>\n",
              "      <td>3.848676e+04</td>\n",
              "      <td>6.520238e+04</td>\n",
              "    </tr>\n",
              "    <tr>\n",
              "      <th>min</th>\n",
              "      <td>790619.000000</td>\n",
              "      <td>793549.000000</td>\n",
              "      <td>8.799870e+05</td>\n",
              "      <td>8.890830e+05</td>\n",
              "    </tr>\n",
              "    <tr>\n",
              "      <th>25%</th>\n",
              "      <td>815192.000000</td>\n",
              "      <td>844926.500000</td>\n",
              "      <td>9.059400e+05</td>\n",
              "      <td>9.270375e+05</td>\n",
              "    </tr>\n",
              "    <tr>\n",
              "      <th>50%</th>\n",
              "      <td>833868.000000</td>\n",
              "      <td>861572.500000</td>\n",
              "      <td>9.450880e+05</td>\n",
              "      <td>9.493950e+05</td>\n",
              "    </tr>\n",
              "    <tr>\n",
              "      <th>75%</th>\n",
              "      <td>850503.000000</td>\n",
              "      <td>933615.750000</td>\n",
              "      <td>9.554660e+05</td>\n",
              "      <td>1.018181e+06</td>\n",
              "    </tr>\n",
              "    <tr>\n",
              "      <th>max</th>\n",
              "      <td>893983.000000</td>\n",
              "      <td>991305.000000</td>\n",
              "      <td>1.001121e+06</td>\n",
              "      <td>1.079549e+06</td>\n",
              "    </tr>\n",
              "  </tbody>\n",
              "</table>\n",
              "</div>"
            ],
            "text/plain": [
              "Gender                  Female                         Male              \n",
              "Diagnosed                   No            Yes            No           Yes\n",
              "MRI_Count count       7.000000      12.000000  9.000000e+00  1.100000e+01\n",
              "          mean   835694.285714  879249.000000  9.373191e+05  9.692033e+05\n",
              "          std     36018.499306   62575.647652  3.848676e+04  6.520238e+04\n",
              "          min    790619.000000  793549.000000  8.799870e+05  8.890830e+05\n",
              "          25%    815192.000000  844926.500000  9.059400e+05  9.270375e+05\n",
              "          50%    833868.000000  861572.500000  9.450880e+05  9.493950e+05\n",
              "          75%    850503.000000  933615.750000  9.554660e+05  1.018181e+06\n",
              "          max    893983.000000  991305.000000  1.001121e+06  1.079549e+06"
            ]
          },
          "metadata": {
            "tags": []
          },
          "execution_count": 26
        }
      ]
    },
    {
      "cell_type": "markdown",
      "metadata": {
        "id": "5yFaSR_fea55"
      },
      "source": [
        "## Working with missing data "
      ]
    },
    {
      "cell_type": "markdown",
      "metadata": {
        "id": "oI6KSv_sea55"
      },
      "source": [
        "### Finding missing data\n",
        "\n",
        "Let's take another look at the summary stats for our aggregated data - run this:\n"
      ]
    },
    {
      "cell_type": "code",
      "metadata": {
        "id": "xVErK1IBea56",
        "outputId": "f596a8da-e613-45f2-e44d-9ebb429e65d5"
      },
      "source": [
        "# Get summary stats\n",
        "df_all.describe()"
      ],
      "execution_count": null,
      "outputs": [
        {
          "output_type": "execute_result",
          "data": {
            "text/html": [
              "<div>\n",
              "<style scoped>\n",
              "    .dataframe tbody tr th:only-of-type {\n",
              "        vertical-align: middle;\n",
              "    }\n",
              "\n",
              "    .dataframe tbody tr th {\n",
              "        vertical-align: top;\n",
              "    }\n",
              "\n",
              "    .dataframe thead th {\n",
              "        text-align: right;\n",
              "    }\n",
              "</style>\n",
              "<table border=\"1\" class=\"dataframe\">\n",
              "  <thead>\n",
              "    <tr style=\"text-align: right;\">\n",
              "      <th></th>\n",
              "      <th>ppt_id</th>\n",
              "      <th>FSIQ</th>\n",
              "      <th>VIQ</th>\n",
              "      <th>PIQ</th>\n",
              "      <th>MRI_Count</th>\n",
              "      <th>Weight</th>\n",
              "      <th>Height</th>\n",
              "    </tr>\n",
              "  </thead>\n",
              "  <tbody>\n",
              "    <tr>\n",
              "      <th>count</th>\n",
              "      <td>39.000000</td>\n",
              "      <td>39.000000</td>\n",
              "      <td>39.000000</td>\n",
              "      <td>39.000000</td>\n",
              "      <td>3.900000e+01</td>\n",
              "      <td>37.000000</td>\n",
              "      <td>38.000000</td>\n",
              "    </tr>\n",
              "    <tr>\n",
              "      <th>mean</th>\n",
              "      <td>20.589744</td>\n",
              "      <td>112.974359</td>\n",
              "      <td>111.846154</td>\n",
              "      <td>110.794872</td>\n",
              "      <td>9.102040e+05</td>\n",
              "      <td>151.702703</td>\n",
              "      <td>394.894737</td>\n",
              "    </tr>\n",
              "    <tr>\n",
              "      <th>std</th>\n",
              "      <td>11.829308</td>\n",
              "      <td>24.205792</td>\n",
              "      <td>23.706027</td>\n",
              "      <td>22.717000</td>\n",
              "      <td>7.263603e+04</td>\n",
              "      <td>23.453103</td>\n",
              "      <td>315.699634</td>\n",
              "    </tr>\n",
              "    <tr>\n",
              "      <th>min</th>\n",
              "      <td>1.000000</td>\n",
              "      <td>77.000000</td>\n",
              "      <td>71.000000</td>\n",
              "      <td>72.000000</td>\n",
              "      <td>7.906190e+05</td>\n",
              "      <td>106.000000</td>\n",
              "      <td>62.000000</td>\n",
              "    </tr>\n",
              "    <tr>\n",
              "      <th>25%</th>\n",
              "      <td>10.500000</td>\n",
              "      <td>89.500000</td>\n",
              "      <td>90.000000</td>\n",
              "      <td>87.500000</td>\n",
              "      <td>8.571270e+05</td>\n",
              "      <td>136.000000</td>\n",
              "      <td>68.250000</td>\n",
              "    </tr>\n",
              "    <tr>\n",
              "      <th>50%</th>\n",
              "      <td>21.000000</td>\n",
              "      <td>103.000000</td>\n",
              "      <td>112.000000</td>\n",
              "      <td>110.000000</td>\n",
              "      <td>9.059400e+05</td>\n",
              "      <td>147.000000</td>\n",
              "      <td>635.000000</td>\n",
              "    </tr>\n",
              "    <tr>\n",
              "      <th>75%</th>\n",
              "      <td>30.500000</td>\n",
              "      <td>136.000000</td>\n",
              "      <td>129.000000</td>\n",
              "      <td>128.000000</td>\n",
              "      <td>9.505670e+05</td>\n",
              "      <td>172.000000</td>\n",
              "      <td>682.250000</td>\n",
              "    </tr>\n",
              "    <tr>\n",
              "      <th>max</th>\n",
              "      <td>40.000000</td>\n",
              "      <td>144.000000</td>\n",
              "      <td>150.000000</td>\n",
              "      <td>150.000000</td>\n",
              "      <td>1.079549e+06</td>\n",
              "      <td>192.000000</td>\n",
              "      <td>765.000000</td>\n",
              "    </tr>\n",
              "  </tbody>\n",
              "</table>\n",
              "</div>"
            ],
            "text/plain": [
              "          ppt_id        FSIQ         VIQ         PIQ     MRI_Count  \\\n",
              "count  39.000000   39.000000   39.000000   39.000000  3.900000e+01   \n",
              "mean   20.589744  112.974359  111.846154  110.794872  9.102040e+05   \n",
              "std    11.829308   24.205792   23.706027   22.717000  7.263603e+04   \n",
              "min     1.000000   77.000000   71.000000   72.000000  7.906190e+05   \n",
              "25%    10.500000   89.500000   90.000000   87.500000  8.571270e+05   \n",
              "50%    21.000000  103.000000  112.000000  110.000000  9.059400e+05   \n",
              "75%    30.500000  136.000000  129.000000  128.000000  9.505670e+05   \n",
              "max    40.000000  144.000000  150.000000  150.000000  1.079549e+06   \n",
              "\n",
              "           Weight      Height  \n",
              "count   37.000000   38.000000  \n",
              "mean   151.702703  394.894737  \n",
              "std     23.453103  315.699634  \n",
              "min    106.000000   62.000000  \n",
              "25%    136.000000   68.250000  \n",
              "50%    147.000000  635.000000  \n",
              "75%    172.000000  682.250000  \n",
              "max    192.000000  765.000000  "
            ]
          },
          "metadata": {
            "tags": []
          },
          "execution_count": 27
        }
      ]
    },
    {
      "cell_type": "markdown",
      "metadata": {
        "id": "YEqqL9jbea58"
      },
      "source": [
        "## <font color=green>💬 Discussion point</font>\n",
        "\n",
        "\n",
        "Take a look at the counts of our columns.\n",
        " - Can you see anything out of place? What could be the problem?\n",
        " - Looking at the [DataFrame documentation](https://pandas.pydata.org/pandas-docs/stable/reference/frame.html#conversion) can you see a method that might help detect this problem?\n"
      ]
    },
    {
      "cell_type": "markdown",
      "metadata": {
        "id": "a5VP8jeYea58"
      },
      "source": [
        "## <font color=green>❓ Question</font>\n",
        "\n",
        "Using the method you found above,\n",
        "\n",
        "1. create a new `DataFrame` which records whether or not each value in `df_all` is missing\n",
        "1. Use `loc` with this new `DataFrame`, and a logical selector, display all rows where either Height or Weight are missing\n",
        "\n",
        "__Hint:__ Remember to use the correct logical operator (e.g. &, |) and remember to use parentheses around the parts of your logical expression.\n",
        "\n",
        "## <font color=green>⌨️ Your answer</font>"
      ]
    },
    {
      "cell_type": "code",
      "metadata": {
        "scrolled": true,
        "id": "Rcd2p6CMea59",
        "outputId": "1978ae37-be96-480c-e385-00217c671ba2"
      },
      "source": [
        "# Which rows have mssing Heights or Weights?\n",
        "# Complete the code below\n",
        "\n",
        "# First make a DataFrame of True / False for all missing values\n",
        "missing = df_all.isna()\n",
        "\n",
        "# Now use .loc to select those rows where Height is missing or Weight is missing\n",
        "missing.loc[missing.Height | missing.Weight]"
      ],
      "execution_count": null,
      "outputs": [
        {
          "output_type": "execute_result",
          "data": {
            "text/html": [
              "<div>\n",
              "<style scoped>\n",
              "    .dataframe tbody tr th:only-of-type {\n",
              "        vertical-align: middle;\n",
              "    }\n",
              "\n",
              "    .dataframe tbody tr th {\n",
              "        vertical-align: top;\n",
              "    }\n",
              "\n",
              "    .dataframe thead th {\n",
              "        text-align: right;\n",
              "    }\n",
              "</style>\n",
              "<table border=\"1\" class=\"dataframe\">\n",
              "  <thead>\n",
              "    <tr style=\"text-align: right;\">\n",
              "      <th></th>\n",
              "      <th>ppt_id</th>\n",
              "      <th>FSIQ</th>\n",
              "      <th>VIQ</th>\n",
              "      <th>PIQ</th>\n",
              "      <th>MRI_Count</th>\n",
              "      <th>Gender</th>\n",
              "      <th>Weight</th>\n",
              "      <th>Height</th>\n",
              "      <th>Diagnosed</th>\n",
              "    </tr>\n",
              "  </thead>\n",
              "  <tbody>\n",
              "    <tr>\n",
              "      <th>1</th>\n",
              "      <td>False</td>\n",
              "      <td>False</td>\n",
              "      <td>False</td>\n",
              "      <td>False</td>\n",
              "      <td>False</td>\n",
              "      <td>False</td>\n",
              "      <td>True</td>\n",
              "      <td>False</td>\n",
              "      <td>False</td>\n",
              "    </tr>\n",
              "    <tr>\n",
              "      <th>19</th>\n",
              "      <td>False</td>\n",
              "      <td>False</td>\n",
              "      <td>False</td>\n",
              "      <td>False</td>\n",
              "      <td>False</td>\n",
              "      <td>False</td>\n",
              "      <td>True</td>\n",
              "      <td>True</td>\n",
              "      <td>False</td>\n",
              "    </tr>\n",
              "  </tbody>\n",
              "</table>\n",
              "</div>"
            ],
            "text/plain": [
              "    ppt_id   FSIQ    VIQ    PIQ  MRI_Count  Gender  Weight  Height  Diagnosed\n",
              "1    False  False  False  False      False   False    True   False      False\n",
              "19   False  False  False  False      False   False    True    True      False"
            ]
          },
          "metadata": {
            "tags": []
          },
          "execution_count": 28
        }
      ]
    },
    {
      "cell_type": "markdown",
      "metadata": {
        "id": "SrdWNhsrea5_"
      },
      "source": [
        "### How are we going to deal with the missing data?\n",
        "\n",
        "We could:\n",
        "\n",
        "- delete (method `DataFrame.dropna()` does this)\n",
        "- interpolate with new values (Pandas supports this)\n",
        "- impute with mean values\n",
        "\n",
        "We will do the latter. We will make use of the `DataFrame.fillna()` method.\n",
        "\n",
        "## <font color=green>💬 Discussion point</font>\n",
        "\n",
        "Take a look at the [documentation for DataFrame.fillna()](https://pandas.pydata.org/pandas-docs/stable/reference/api/pandas.DataFrame.fillna.html#pandas.DataFrame.fillna)\n",
        "\n",
        "We will use this argument - what does it do?\n",
        "  - `value`\n",
        "\n",
        "The below code does a `fillna()` on Weight, filling with the mean of Weight. Try it, and note that the previous missing weight in the second row now takes the mean value:"
      ]
    },
    {
      "cell_type": "code",
      "metadata": {
        "id": "YmQBliw2ea5_",
        "outputId": "05d4280e-9078-4c8e-a0ef-f4b08ea52e8d"
      },
      "source": [
        "# Fill NAs and display\n",
        "\n",
        "# Before...\n",
        "print( df_all.loc[:,['Weight']].head(3) )\n",
        "\n",
        "# Let's take a look at the mean first, so we know what to expect\n",
        "mean = df_all.loc[:,['Weight']].mean()\n",
        "print('\\nmean:', mean)\n",
        "\n",
        "# After..\n",
        "df_all.loc[:,['Weight']].fillna(mean).head(3)"
      ],
      "execution_count": null,
      "outputs": [
        {
          "output_type": "stream",
          "text": [
            "   Weight\n",
            "0   118.0\n",
            "1     NaN\n",
            "2   143.0\n",
            "\n",
            "mean: Weight    151.702703\n",
            "dtype: float64\n"
          ],
          "name": "stdout"
        },
        {
          "output_type": "execute_result",
          "data": {
            "text/html": [
              "<div>\n",
              "<style scoped>\n",
              "    .dataframe tbody tr th:only-of-type {\n",
              "        vertical-align: middle;\n",
              "    }\n",
              "\n",
              "    .dataframe tbody tr th {\n",
              "        vertical-align: top;\n",
              "    }\n",
              "\n",
              "    .dataframe thead th {\n",
              "        text-align: right;\n",
              "    }\n",
              "</style>\n",
              "<table border=\"1\" class=\"dataframe\">\n",
              "  <thead>\n",
              "    <tr style=\"text-align: right;\">\n",
              "      <th></th>\n",
              "      <th>Weight</th>\n",
              "    </tr>\n",
              "  </thead>\n",
              "  <tbody>\n",
              "    <tr>\n",
              "      <th>0</th>\n",
              "      <td>118.000000</td>\n",
              "    </tr>\n",
              "    <tr>\n",
              "      <th>1</th>\n",
              "      <td>151.702703</td>\n",
              "    </tr>\n",
              "    <tr>\n",
              "      <th>2</th>\n",
              "      <td>143.000000</td>\n",
              "    </tr>\n",
              "  </tbody>\n",
              "</table>\n",
              "</div>"
            ],
            "text/plain": [
              "       Weight\n",
              "0  118.000000\n",
              "1  151.702703\n",
              "2  143.000000"
            ]
          },
          "metadata": {
            "tags": []
          },
          "execution_count": 29
        }
      ]
    },
    {
      "cell_type": "markdown",
      "metadata": {
        "scrolled": true,
        "id": "pOYIrT0Wea6B"
      },
      "source": [
        "## <font color=green>💬 Discussion point</font>\n",
        "\n",
        "- Anyone see a problem with this approach?\n",
        "- How can we overcome this?\n",
        "\n",
        "### `transform()`\n",
        "\n",
        "We will use the `transform` method, which works on `Series` and `DataFrames`\n",
        "\n",
        "- `transform()` takes as an argument the name of a method on the object it is transforming\n",
        "- the method name is given as a string\n",
        "- it returns the result of applying that method to the DataFrame.\n",
        "\n",
        "Take a look at the example below:"
      ]
    },
    {
      "cell_type": "code",
      "metadata": {
        "id": "jCIhPnXLea6C",
        "outputId": "26cfd0a0-969a-4457-aedd-942255da46f5"
      },
      "source": [
        "# Replace all values with the mean for the gender\n",
        "\n",
        "df_all.groupby(\"Gender\").transform(\"mean\").head()"
      ],
      "execution_count": null,
      "outputs": [
        {
          "output_type": "execute_result",
          "data": {
            "text/html": [
              "<div>\n",
              "<style scoped>\n",
              "    .dataframe tbody tr th:only-of-type {\n",
              "        vertical-align: middle;\n",
              "    }\n",
              "\n",
              "    .dataframe tbody tr th {\n",
              "        vertical-align: top;\n",
              "    }\n",
              "\n",
              "    .dataframe thead th {\n",
              "        text-align: right;\n",
              "    }\n",
              "</style>\n",
              "<table border=\"1\" class=\"dataframe\">\n",
              "  <thead>\n",
              "    <tr style=\"text-align: right;\">\n",
              "      <th></th>\n",
              "      <th>ppt_id</th>\n",
              "      <th>FSIQ</th>\n",
              "      <th>VIQ</th>\n",
              "      <th>PIQ</th>\n",
              "      <th>MRI_Count</th>\n",
              "      <th>Weight</th>\n",
              "      <th>Height</th>\n",
              "    </tr>\n",
              "  </thead>\n",
              "  <tbody>\n",
              "    <tr>\n",
              "      <th>0</th>\n",
              "      <td>19.789474</td>\n",
              "      <td>110.842105</td>\n",
              "      <td>108.263158</td>\n",
              "      <td>109.947368</td>\n",
              "      <td>863202.526316</td>\n",
              "      <td>137.736842</td>\n",
              "      <td>376.736842</td>\n",
              "    </tr>\n",
              "    <tr>\n",
              "      <th>1</th>\n",
              "      <td>21.350000</td>\n",
              "      <td>115.000000</td>\n",
              "      <td>115.250000</td>\n",
              "      <td>111.600000</td>\n",
              "      <td>954855.400000</td>\n",
              "      <td>166.444444</td>\n",
              "      <td>413.052632</td>\n",
              "    </tr>\n",
              "    <tr>\n",
              "      <th>2</th>\n",
              "      <td>21.350000</td>\n",
              "      <td>115.000000</td>\n",
              "      <td>115.250000</td>\n",
              "      <td>111.600000</td>\n",
              "      <td>954855.400000</td>\n",
              "      <td>166.444444</td>\n",
              "      <td>413.052632</td>\n",
              "    </tr>\n",
              "    <tr>\n",
              "      <th>3</th>\n",
              "      <td>21.350000</td>\n",
              "      <td>115.000000</td>\n",
              "      <td>115.250000</td>\n",
              "      <td>111.600000</td>\n",
              "      <td>954855.400000</td>\n",
              "      <td>166.444444</td>\n",
              "      <td>413.052632</td>\n",
              "    </tr>\n",
              "    <tr>\n",
              "      <th>4</th>\n",
              "      <td>19.789474</td>\n",
              "      <td>110.842105</td>\n",
              "      <td>108.263158</td>\n",
              "      <td>109.947368</td>\n",
              "      <td>863202.526316</td>\n",
              "      <td>137.736842</td>\n",
              "      <td>376.736842</td>\n",
              "    </tr>\n",
              "  </tbody>\n",
              "</table>\n",
              "</div>"
            ],
            "text/plain": [
              "      ppt_id        FSIQ         VIQ         PIQ      MRI_Count      Weight  \\\n",
              "0  19.789474  110.842105  108.263158  109.947368  863202.526316  137.736842   \n",
              "1  21.350000  115.000000  115.250000  111.600000  954855.400000  166.444444   \n",
              "2  21.350000  115.000000  115.250000  111.600000  954855.400000  166.444444   \n",
              "3  21.350000  115.000000  115.250000  111.600000  954855.400000  166.444444   \n",
              "4  19.789474  110.842105  108.263158  109.947368  863202.526316  137.736842   \n",
              "\n",
              "       Height  \n",
              "0  376.736842  \n",
              "1  413.052632  \n",
              "2  413.052632  \n",
              "3  413.052632  \n",
              "4  376.736842  "
            ]
          },
          "metadata": {
            "tags": []
          },
          "execution_count": 30
        }
      ]
    },
    {
      "cell_type": "markdown",
      "metadata": {
        "id": "lf23uaSLea6E"
      },
      "source": [
        "### Putting it all together\n",
        "\n",
        "Now that we can transform all of our values to means, let's use `fillna()` to change just those where we have no value.\n",
        "\n",
        "Take a look at the answer below.\n"
      ]
    },
    {
      "cell_type": "code",
      "metadata": {
        "id": "JWsdBUHvea6E",
        "outputId": "c0faba4e-c2ff-4615-bb22-195b7d5515ef"
      },
      "source": [
        "# Get means for gender\n",
        "means_for_gender = df_all.groupby(\"Gender\").transform(\"mean\")\n",
        "\n",
        "# Use this to fill in the NAs - this time inplace is True\n",
        "df_all.loc[:,[\"Weight\"]] = df_all.loc[:,[\"Weight\"]].fillna(means_for_gender)\n",
        "\n",
        "df_all.head()"
      ],
      "execution_count": null,
      "outputs": [
        {
          "output_type": "execute_result",
          "data": {
            "text/html": [
              "<div>\n",
              "<style scoped>\n",
              "    .dataframe tbody tr th:only-of-type {\n",
              "        vertical-align: middle;\n",
              "    }\n",
              "\n",
              "    .dataframe tbody tr th {\n",
              "        vertical-align: top;\n",
              "    }\n",
              "\n",
              "    .dataframe thead th {\n",
              "        text-align: right;\n",
              "    }\n",
              "</style>\n",
              "<table border=\"1\" class=\"dataframe\">\n",
              "  <thead>\n",
              "    <tr style=\"text-align: right;\">\n",
              "      <th></th>\n",
              "      <th>ppt_id</th>\n",
              "      <th>FSIQ</th>\n",
              "      <th>VIQ</th>\n",
              "      <th>PIQ</th>\n",
              "      <th>MRI_Count</th>\n",
              "      <th>Gender</th>\n",
              "      <th>Weight</th>\n",
              "      <th>Height</th>\n",
              "      <th>Diagnosed</th>\n",
              "    </tr>\n",
              "  </thead>\n",
              "  <tbody>\n",
              "    <tr>\n",
              "      <th>0</th>\n",
              "      <td>1</td>\n",
              "      <td>133</td>\n",
              "      <td>132</td>\n",
              "      <td>124</td>\n",
              "      <td>816932</td>\n",
              "      <td>Female</td>\n",
              "      <td>118.000000</td>\n",
              "      <td>645.0</td>\n",
              "      <td>Yes</td>\n",
              "    </tr>\n",
              "    <tr>\n",
              "      <th>1</th>\n",
              "      <td>2</td>\n",
              "      <td>140</td>\n",
              "      <td>150</td>\n",
              "      <td>124</td>\n",
              "      <td>1001121</td>\n",
              "      <td>Male</td>\n",
              "      <td>166.444444</td>\n",
              "      <td>725.0</td>\n",
              "      <td>No</td>\n",
              "    </tr>\n",
              "    <tr>\n",
              "      <th>2</th>\n",
              "      <td>3</td>\n",
              "      <td>139</td>\n",
              "      <td>123</td>\n",
              "      <td>150</td>\n",
              "      <td>1038437</td>\n",
              "      <td>Male</td>\n",
              "      <td>143.000000</td>\n",
              "      <td>733.0</td>\n",
              "      <td>Yes</td>\n",
              "    </tr>\n",
              "    <tr>\n",
              "      <th>3</th>\n",
              "      <td>4</td>\n",
              "      <td>133</td>\n",
              "      <td>129</td>\n",
              "      <td>128</td>\n",
              "      <td>965353</td>\n",
              "      <td>Male</td>\n",
              "      <td>172.000000</td>\n",
              "      <td>688.0</td>\n",
              "      <td>No</td>\n",
              "    </tr>\n",
              "    <tr>\n",
              "      <th>4</th>\n",
              "      <td>5</td>\n",
              "      <td>137</td>\n",
              "      <td>132</td>\n",
              "      <td>134</td>\n",
              "      <td>951545</td>\n",
              "      <td>Female</td>\n",
              "      <td>147.000000</td>\n",
              "      <td>65.0</td>\n",
              "      <td>Yes</td>\n",
              "    </tr>\n",
              "  </tbody>\n",
              "</table>\n",
              "</div>"
            ],
            "text/plain": [
              "   ppt_id  FSIQ  VIQ  PIQ  MRI_Count  Gender      Weight  Height Diagnosed\n",
              "0       1   133  132  124     816932  Female  118.000000   645.0       Yes\n",
              "1       2   140  150  124    1001121    Male  166.444444   725.0        No\n",
              "2       3   139  123  150    1038437    Male  143.000000   733.0       Yes\n",
              "3       4   133  129  128     965353    Male  172.000000   688.0        No\n",
              "4       5   137  132  134     951545  Female  147.000000    65.0       Yes"
            ]
          },
          "metadata": {
            "tags": []
          },
          "execution_count": 45
        }
      ]
    },
    {
      "cell_type": "markdown",
      "metadata": {
        "id": "xCElMJ5rea6G"
      },
      "source": [
        "## <font color=green>❓ Question</font>\n",
        "\n",
        "Fill in all empty Heights with the mean for participant gender.\n",
        "\n",
        "## <font color=green>⌨️ Your answer</font>"
      ]
    },
    {
      "cell_type": "code",
      "metadata": {
        "id": "6uq9n9O2ea6G",
        "outputId": "35506d95-f4c7-4f03-c993-8173ee30eafa"
      },
      "source": [
        "# Fill missing Height values with the mean\n",
        "# YOUR ANSWER HERE\n",
        "df_all.loc[:,[\"Height\"]] = df_all.loc[:,[\"Height\"]].fillna(means_for_gender)\n",
        "df_all[15:20]"
      ],
      "execution_count": null,
      "outputs": [
        {
          "output_type": "execute_result",
          "data": {
            "text/html": [
              "<div>\n",
              "<style scoped>\n",
              "    .dataframe tbody tr th:only-of-type {\n",
              "        vertical-align: middle;\n",
              "    }\n",
              "\n",
              "    .dataframe tbody tr th {\n",
              "        vertical-align: top;\n",
              "    }\n",
              "\n",
              "    .dataframe thead th {\n",
              "        text-align: right;\n",
              "    }\n",
              "</style>\n",
              "<table border=\"1\" class=\"dataframe\">\n",
              "  <thead>\n",
              "    <tr style=\"text-align: right;\">\n",
              "      <th></th>\n",
              "      <th>ppt_id</th>\n",
              "      <th>FSIQ</th>\n",
              "      <th>VIQ</th>\n",
              "      <th>PIQ</th>\n",
              "      <th>MRI_Count</th>\n",
              "      <th>Gender</th>\n",
              "      <th>Weight</th>\n",
              "      <th>Height</th>\n",
              "      <th>Diagnosed</th>\n",
              "    </tr>\n",
              "  </thead>\n",
              "  <tbody>\n",
              "    <tr>\n",
              "      <th>15</th>\n",
              "      <td>16</td>\n",
              "      <td>83</td>\n",
              "      <td>71</td>\n",
              "      <td>96</td>\n",
              "      <td>865363</td>\n",
              "      <td>Female</td>\n",
              "      <td>135.000000</td>\n",
              "      <td>68.000000</td>\n",
              "      <td>Yes</td>\n",
              "    </tr>\n",
              "    <tr>\n",
              "      <th>16</th>\n",
              "      <td>18</td>\n",
              "      <td>100</td>\n",
              "      <td>96</td>\n",
              "      <td>102</td>\n",
              "      <td>945088</td>\n",
              "      <td>Male</td>\n",
              "      <td>178.000000</td>\n",
              "      <td>735.000000</td>\n",
              "      <td>No</td>\n",
              "    </tr>\n",
              "    <tr>\n",
              "      <th>17</th>\n",
              "      <td>19</td>\n",
              "      <td>101</td>\n",
              "      <td>112</td>\n",
              "      <td>84</td>\n",
              "      <td>808020</td>\n",
              "      <td>Female</td>\n",
              "      <td>136.000000</td>\n",
              "      <td>663.000000</td>\n",
              "      <td>Yes</td>\n",
              "    </tr>\n",
              "    <tr>\n",
              "      <th>18</th>\n",
              "      <td>20</td>\n",
              "      <td>80</td>\n",
              "      <td>77</td>\n",
              "      <td>86</td>\n",
              "      <td>889083</td>\n",
              "      <td>Male</td>\n",
              "      <td>180.000000</td>\n",
              "      <td>70.000000</td>\n",
              "      <td>Yes</td>\n",
              "    </tr>\n",
              "    <tr>\n",
              "      <th>19</th>\n",
              "      <td>21</td>\n",
              "      <td>83</td>\n",
              "      <td>83</td>\n",
              "      <td>86</td>\n",
              "      <td>892420</td>\n",
              "      <td>Male</td>\n",
              "      <td>166.444444</td>\n",
              "      <td>413.052632</td>\n",
              "      <td>No</td>\n",
              "    </tr>\n",
              "  </tbody>\n",
              "</table>\n",
              "</div>"
            ],
            "text/plain": [
              "    ppt_id  FSIQ  VIQ  PIQ  MRI_Count  Gender      Weight      Height  \\\n",
              "15      16    83   71   96     865363  Female  135.000000   68.000000   \n",
              "16      18   100   96  102     945088    Male  178.000000  735.000000   \n",
              "17      19   101  112   84     808020  Female  136.000000  663.000000   \n",
              "18      20    80   77   86     889083    Male  180.000000   70.000000   \n",
              "19      21    83   83   86     892420    Male  166.444444  413.052632   \n",
              "\n",
              "   Diagnosed  \n",
              "15       Yes  \n",
              "16        No  \n",
              "17       Yes  \n",
              "18       Yes  \n",
              "19        No  "
            ]
          },
          "metadata": {
            "tags": []
          },
          "execution_count": 46
        }
      ]
    },
    {
      "cell_type": "markdown",
      "metadata": {
        "id": "4Wg1TzxLea6I"
      },
      "source": [
        "## <font color=green>💬 Discussion point</font>\n",
        "\n",
        "Can you see how both Height and Weight empty values could have been filled at the same time?"
      ]
    },
    {
      "cell_type": "markdown",
      "metadata": {
        "id": "pETwRnLSea6J"
      },
      "source": [
        "## <font color=green>❓ Question</font>\n",
        "\n",
        "Check to see if there are any empty values in the aggregated dataset.\n",
        "\n",
        "## <font color=green>⌨️ Your answer</font>"
      ]
    },
    {
      "cell_type": "code",
      "metadata": {
        "id": "64ugVuW4ea6J",
        "outputId": "54d3ec53-0bec-4831-b634-740d30969fae"
      },
      "source": [
        "# Now let's check to see if we have any missing values\n",
        "# YOUR ANSWER HERE\n",
        "df_all.describe()"
      ],
      "execution_count": null,
      "outputs": [
        {
          "output_type": "execute_result",
          "data": {
            "text/html": [
              "<div>\n",
              "<style scoped>\n",
              "    .dataframe tbody tr th:only-of-type {\n",
              "        vertical-align: middle;\n",
              "    }\n",
              "\n",
              "    .dataframe tbody tr th {\n",
              "        vertical-align: top;\n",
              "    }\n",
              "\n",
              "    .dataframe thead th {\n",
              "        text-align: right;\n",
              "    }\n",
              "</style>\n",
              "<table border=\"1\" class=\"dataframe\">\n",
              "  <thead>\n",
              "    <tr style=\"text-align: right;\">\n",
              "      <th></th>\n",
              "      <th>ppt_id</th>\n",
              "      <th>FSIQ</th>\n",
              "      <th>VIQ</th>\n",
              "      <th>PIQ</th>\n",
              "      <th>MRI_Count</th>\n",
              "      <th>Weight</th>\n",
              "      <th>Height</th>\n",
              "    </tr>\n",
              "  </thead>\n",
              "  <tbody>\n",
              "    <tr>\n",
              "      <th>count</th>\n",
              "      <td>39.000000</td>\n",
              "      <td>39.000000</td>\n",
              "      <td>39.000000</td>\n",
              "      <td>39.000000</td>\n",
              "      <td>3.900000e+01</td>\n",
              "      <td>39.000000</td>\n",
              "      <td>39.000000</td>\n",
              "    </tr>\n",
              "    <tr>\n",
              "      <th>mean</th>\n",
              "      <td>20.589744</td>\n",
              "      <td>112.974359</td>\n",
              "      <td>111.846154</td>\n",
              "      <td>110.794872</td>\n",
              "      <td>9.102040e+05</td>\n",
              "      <td>152.458689</td>\n",
              "      <td>395.360324</td>\n",
              "    </tr>\n",
              "    <tr>\n",
              "      <th>std</th>\n",
              "      <td>11.829308</td>\n",
              "      <td>24.205792</td>\n",
              "      <td>23.706027</td>\n",
              "      <td>22.717000</td>\n",
              "      <td>7.263603e+04</td>\n",
              "      <td>23.064029</td>\n",
              "      <td>311.531566</td>\n",
              "    </tr>\n",
              "    <tr>\n",
              "      <th>min</th>\n",
              "      <td>1.000000</td>\n",
              "      <td>77.000000</td>\n",
              "      <td>71.000000</td>\n",
              "      <td>72.000000</td>\n",
              "      <td>7.906190e+05</td>\n",
              "      <td>106.000000</td>\n",
              "      <td>62.000000</td>\n",
              "    </tr>\n",
              "    <tr>\n",
              "      <th>25%</th>\n",
              "      <td>10.500000</td>\n",
              "      <td>89.500000</td>\n",
              "      <td>90.000000</td>\n",
              "      <td>87.500000</td>\n",
              "      <td>8.571270e+05</td>\n",
              "      <td>137.000000</td>\n",
              "      <td>68.500000</td>\n",
              "    </tr>\n",
              "    <tr>\n",
              "      <th>50%</th>\n",
              "      <td>21.000000</td>\n",
              "      <td>103.000000</td>\n",
              "      <td>112.000000</td>\n",
              "      <td>110.000000</td>\n",
              "      <td>9.059400e+05</td>\n",
              "      <td>148.000000</td>\n",
              "      <td>625.000000</td>\n",
              "    </tr>\n",
              "    <tr>\n",
              "      <th>75%</th>\n",
              "      <td>30.500000</td>\n",
              "      <td>136.000000</td>\n",
              "      <td>129.000000</td>\n",
              "      <td>128.000000</td>\n",
              "      <td>9.505670e+05</td>\n",
              "      <td>172.000000</td>\n",
              "      <td>676.500000</td>\n",
              "    </tr>\n",
              "    <tr>\n",
              "      <th>max</th>\n",
              "      <td>40.000000</td>\n",
              "      <td>144.000000</td>\n",
              "      <td>150.000000</td>\n",
              "      <td>150.000000</td>\n",
              "      <td>1.079549e+06</td>\n",
              "      <td>192.000000</td>\n",
              "      <td>765.000000</td>\n",
              "    </tr>\n",
              "  </tbody>\n",
              "</table>\n",
              "</div>"
            ],
            "text/plain": [
              "          ppt_id        FSIQ         VIQ         PIQ     MRI_Count  \\\n",
              "count  39.000000   39.000000   39.000000   39.000000  3.900000e+01   \n",
              "mean   20.589744  112.974359  111.846154  110.794872  9.102040e+05   \n",
              "std    11.829308   24.205792   23.706027   22.717000  7.263603e+04   \n",
              "min     1.000000   77.000000   71.000000   72.000000  7.906190e+05   \n",
              "25%    10.500000   89.500000   90.000000   87.500000  8.571270e+05   \n",
              "50%    21.000000  103.000000  112.000000  110.000000  9.059400e+05   \n",
              "75%    30.500000  136.000000  129.000000  128.000000  9.505670e+05   \n",
              "max    40.000000  144.000000  150.000000  150.000000  1.079549e+06   \n",
              "\n",
              "           Weight      Height  \n",
              "count   39.000000   39.000000  \n",
              "mean   152.458689  395.360324  \n",
              "std     23.064029  311.531566  \n",
              "min    106.000000   62.000000  \n",
              "25%    137.000000   68.500000  \n",
              "50%    148.000000  625.000000  \n",
              "75%    172.000000  676.500000  \n",
              "max    192.000000  765.000000  "
            ]
          },
          "metadata": {
            "tags": []
          },
          "execution_count": 47
        }
      ]
    },
    {
      "cell_type": "markdown",
      "metadata": {
        "id": "BmftFH8Gea6L"
      },
      "source": [
        "## Exporting data\n",
        "\n",
        "Now we've done our transofrmations and analysis, how do we get the data out, e.g. in to another program, or for publication?\n",
        "\n",
        "Pandas has support for export to many formats, as described in [the documentation](https://pandas.pydata.org/pandas-docs/stable/reference/frame.html#serialization-io-conversion).\n",
        "\n",
        "Here's one useful idea, sending a transposed summary of gender and diagnosed to the clipboard, so that you can paste it in to another program. Try it:\n",
        "\n",
        "__NOTE__ This might not work with all operating systems"
      ]
    },
    {
      "cell_type": "code",
      "metadata": {
        "id": "a17QJPFCea6M"
      },
      "source": [
        "# Prepare your tables for publication? \n",
        "# Copy to clipboard and then format in Excel\n",
        "\n",
        "df_all.groupby(['Gender','Diagnosed']).describe().transpose().to_clipboard()"
      ],
      "execution_count": null,
      "outputs": []
    },
    {
      "cell_type": "markdown",
      "metadata": {
        "id": "ihbKnT5Pea6O"
      },
      "source": [
        "## <font color=green>❓ Question</font>\n",
        "\n",
        "Referring to [the documentation](https://pandas.pydata.org/pandas-docs/stable/reference/frame.html#serialization-io-conversion), export a transposed summary of gender and diganosed to an Excel, Stata or Latex file (depending on your preference), and open in another program (e.g. Excel, Stata, or your favourite editor).\n",
        "\n",
        "## <font color=green>⌨️ Your answer</font>"
      ]
    },
    {
      "cell_type": "code",
      "metadata": {
        "id": "98ukytyWea6O"
      },
      "source": [
        "# Export some data to a file\n",
        "# df_all.groupby(['Gender','Diagnosed']).describe().transpose().COMPLETE_THIS\n",
        "df_all.groupby(['Gender','Diagnosed']).describe().transpose().to_csv('tmp.csv')"
      ],
      "execution_count": null,
      "outputs": []
    }
  ]
}